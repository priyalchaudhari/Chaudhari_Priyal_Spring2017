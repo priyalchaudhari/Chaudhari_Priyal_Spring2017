{
 "cells": [
  {
   "cell_type": "code",
   "execution_count": 1,
   "metadata": {
    "collapsed": true
   },
   "outputs": [],
   "source": [
    "import os\n",
    "from os import listdir\n",
    "from os.path import isfile, join\n",
    "import glob\n",
    "import string\n",
    "import operator\n",
    "import csv\n",
    "import pandas as pd\n",
    "import calendar"
   ]
  },
  {
   "cell_type": "code",
   "execution_count": 2,
   "metadata": {
    "collapsed": false
   },
   "outputs": [
    {
     "name": "stdout",
     "output_type": "stream",
     "text": [
      "C:\\Users\\priya\\Assignment 3\\Data\n"
     ]
    }
   ],
   "source": [
    "homedir = os.path.expanduser(\"~\")\n",
    "path_to_data = homedir+\"\\\\Assignment 3\\\\Data\"\n",
    "print(path_to_data)"
   ]
  },
  {
   "cell_type": "markdown",
   "metadata": {},
   "source": [
    "### Getting data from CSV file "
   ]
  },
  {
   "cell_type": "code",
   "execution_count": 3,
   "metadata": {
    "collapsed": false
   },
   "outputs": [
    {
     "data": {
      "text/html": [
       "<div>\n",
       "<table border=\"1\" class=\"dataframe\">\n",
       "  <thead>\n",
       "    <tr style=\"text-align: right;\">\n",
       "      <th></th>\n",
       "      <th>UNIQUE KEY</th>\n",
       "      <th>DATE</th>\n",
       "      <th>TIME</th>\n",
       "      <th>BOROUGH</th>\n",
       "      <th>ZIP CODE</th>\n",
       "      <th>LATITUDE</th>\n",
       "      <th>LONGITUDE</th>\n",
       "      <th>LOCATION</th>\n",
       "      <th>ON STREET NAME</th>\n",
       "      <th>CROSS STREET NAME</th>\n",
       "      <th>...</th>\n",
       "      <th>VEHICLE 1 TYPE</th>\n",
       "      <th>VEHICLE 2 TYPE</th>\n",
       "      <th>VEHICLE 3 TYPE</th>\n",
       "      <th>VEHICLE 4 TYPE</th>\n",
       "      <th>VEHICLE 5 TYPE</th>\n",
       "      <th>VEHICLE 1 FACTOR</th>\n",
       "      <th>VEHICLE 2 FACTOR</th>\n",
       "      <th>VEHICLE 3 FACTOR</th>\n",
       "      <th>VEHICLE 4 FACTOR</th>\n",
       "      <th>VEHICLE 5 FACTOR</th>\n",
       "    </tr>\n",
       "  </thead>\n",
       "  <tbody>\n",
       "    <tr>\n",
       "      <th>0</th>\n",
       "      <td>3146911</td>\n",
       "      <td>1/1/15</td>\n",
       "      <td>0:20</td>\n",
       "      <td>QUEENS</td>\n",
       "      <td>11358.0</td>\n",
       "      <td>40.751847</td>\n",
       "      <td>-73.787862</td>\n",
       "      <td>(40.7518471, -73.787862)</td>\n",
       "      <td>47 AVENUE</td>\n",
       "      <td>193 STREET</td>\n",
       "      <td>...</td>\n",
       "      <td>SPORT UTILITY/STATION WAGON</td>\n",
       "      <td>NaN</td>\n",
       "      <td>NaN</td>\n",
       "      <td>NaN</td>\n",
       "      <td>NaN</td>\n",
       "      <td>TRAFFIC CONTROL DISREGARDED</td>\n",
       "      <td>NaN</td>\n",
       "      <td>NaN</td>\n",
       "      <td>NaN</td>\n",
       "      <td>NaN</td>\n",
       "    </tr>\n",
       "    <tr>\n",
       "      <th>1</th>\n",
       "      <td>3146180</td>\n",
       "      <td>1/1/15</td>\n",
       "      <td>0:20</td>\n",
       "      <td>NaN</td>\n",
       "      <td>NaN</td>\n",
       "      <td>40.771289</td>\n",
       "      <td>-73.946693</td>\n",
       "      <td>(40.7712888, -73.9466928)</td>\n",
       "      <td>NaN</td>\n",
       "      <td>NaN</td>\n",
       "      <td>...</td>\n",
       "      <td>PASSENGER VEHICLE</td>\n",
       "      <td>NaN</td>\n",
       "      <td>NaN</td>\n",
       "      <td>NaN</td>\n",
       "      <td>NaN</td>\n",
       "      <td>ANIMALS ACTION</td>\n",
       "      <td>NaN</td>\n",
       "      <td>NaN</td>\n",
       "      <td>NaN</td>\n",
       "      <td>NaN</td>\n",
       "    </tr>\n",
       "  </tbody>\n",
       "</table>\n",
       "<p>2 rows × 29 columns</p>\n",
       "</div>"
      ],
      "text/plain": [
       "   UNIQUE KEY    DATE  TIME BOROUGH  ZIP CODE   LATITUDE  LONGITUDE  \\\n",
       "0     3146911  1/1/15  0:20  QUEENS   11358.0  40.751847 -73.787862   \n",
       "1     3146180  1/1/15  0:20     NaN       NaN  40.771289 -73.946693   \n",
       "\n",
       "                    LOCATION ON STREET NAME CROSS STREET NAME  \\\n",
       "0   (40.7518471, -73.787862)      47 AVENUE        193 STREET   \n",
       "1  (40.7712888, -73.9466928)            NaN               NaN   \n",
       "\n",
       "        ...                      VEHICLE 1 TYPE  VEHICLE 2 TYPE  \\\n",
       "0       ...         SPORT UTILITY/STATION WAGON             NaN   \n",
       "1       ...                   PASSENGER VEHICLE             NaN   \n",
       "\n",
       "   VEHICLE 3 TYPE  VEHICLE 4 TYPE  VEHICLE 5 TYPE  \\\n",
       "0             NaN             NaN             NaN   \n",
       "1             NaN             NaN             NaN   \n",
       "\n",
       "              VEHICLE 1 FACTOR  VEHICLE 2 FACTOR  VEHICLE 3 FACTOR  \\\n",
       "0  TRAFFIC CONTROL DISREGARDED               NaN               NaN   \n",
       "1               ANIMALS ACTION               NaN               NaN   \n",
       "\n",
       "   VEHICLE 4 FACTOR VEHICLE 5 FACTOR  \n",
       "0               NaN              NaN  \n",
       "1               NaN              NaN  \n",
       "\n",
       "[2 rows x 29 columns]"
      ]
     },
     "execution_count": 3,
     "metadata": {},
     "output_type": "execute_result"
    }
   ],
   "source": [
    "output_dist={}\n",
    "for subdir,dirs, files in os.walk(path_to_data):\n",
    "    #print(files)\n",
    "    for file in files:\n",
    "        if file == 'vehicle_collisions.csv':\n",
    "            #print(file)\n",
    "            csv_data1=pd.read_csv(os.path.join(subdir,file))\n",
    "print(csv_data1.head(2))"
   ]
  },
  {
   "cell_type": "code",
   "execution_count": 4,
   "metadata": {
    "collapsed": false
   },
   "outputs": [
    {
     "data": {
      "text/html": [
       "<div>\n",
       "<table border=\"1\" class=\"dataframe\">\n",
       "  <thead>\n",
       "    <tr style=\"text-align: right;\">\n",
       "      <th></th>\n",
       "      <th>BOROUGH</th>\n",
       "      <th>DATE</th>\n",
       "      <th>VEHICLE 1 TYPE</th>\n",
       "      <th>VEHICLE 2 TYPE</th>\n",
       "      <th>VEHICLE 3 TYPE</th>\n",
       "      <th>VEHICLE 4 TYPE</th>\n",
       "      <th>VEHICLE 5 TYPE</th>\n",
       "    </tr>\n",
       "  </thead>\n",
       "  <tbody>\n",
       "    <tr>\n",
       "      <th>0</th>\n",
       "      <td>QUEENS</td>\n",
       "      <td>1/1/15</td>\n",
       "      <td>SPORT UTILITY/STATION WAGON</td>\n",
       "      <td>NaN</td>\n",
       "      <td>NaN</td>\n",
       "      <td>NaN</td>\n",
       "      <td>NaN</td>\n",
       "    </tr>\n",
       "    <tr>\n",
       "      <th>1</th>\n",
       "      <td>NaN</td>\n",
       "      <td>1/1/15</td>\n",
       "      <td>PASSENGER VEHICLE</td>\n",
       "      <td>NaN</td>\n",
       "      <td>NaN</td>\n",
       "      <td>NaN</td>\n",
       "      <td>NaN</td>\n",
       "    </tr>\n",
       "  </tbody>\n",
       "</table>\n",
       "</div>"
      ],
      "text/plain": [
       "  BOROUGH    DATE               VEHICLE 1 TYPE VEHICLE 2 TYPE VEHICLE 3 TYPE  \\\n",
       "0  QUEENS  1/1/15  SPORT UTILITY/STATION WAGON            NaN            NaN   \n",
       "1     NaN  1/1/15            PASSENGER VEHICLE            NaN            NaN   \n",
       "\n",
       "  VEHICLE 4 TYPE VEHICLE 5 TYPE  \n",
       "0            NaN            NaN  \n",
       "1            NaN            NaN  "
      ]
     },
     "execution_count": 4,
     "metadata": {},
     "output_type": "execute_result"
    }
   ],
   "source": [
    "new_df = csv_data1[[\"BOROUGH\",\"DATE\",\"VEHICLE 1 TYPE\",\"VEHICLE 2 TYPE\",\"VEHICLE 3 TYPE\",\"VEHICLE 4 TYPE\",\"VEHICLE 5 TYPE\"]].copy()"
   ]
  },
  {
   "cell_type": "code",
   "execution_count": 5,
   "metadata": {
    "collapsed": false
   },
   "outputs": [
    {
     "data": {
      "text/html": [
       "<div>\n",
       "<table border=\"1\" class=\"dataframe\">\n",
       "  <thead>\n",
       "    <tr style=\"text-align: right;\">\n",
       "      <th></th>\n",
       "      <th>BOROUGH</th>\n",
       "      <th>DATE</th>\n",
       "      <th>VEHICLE 1 TYPE</th>\n",
       "      <th>VEHICLE 2 TYPE</th>\n",
       "      <th>VEHICLE 3 TYPE</th>\n",
       "      <th>VEHICLE 4 TYPE</th>\n",
       "      <th>VEHICLE 5 TYPE</th>\n",
       "      <th>YEAR</th>\n",
       "    </tr>\n",
       "  </thead>\n",
       "  <tbody>\n",
       "    <tr>\n",
       "      <th>0</th>\n",
       "      <td>QUEENS</td>\n",
       "      <td>2015-01-01</td>\n",
       "      <td>SPORT UTILITY/STATION WAGON</td>\n",
       "      <td>NaN</td>\n",
       "      <td>NaN</td>\n",
       "      <td>NaN</td>\n",
       "      <td>NaN</td>\n",
       "      <td>2015</td>\n",
       "    </tr>\n",
       "    <tr>\n",
       "      <th>1</th>\n",
       "      <td>NaN</td>\n",
       "      <td>2015-01-01</td>\n",
       "      <td>PASSENGER VEHICLE</td>\n",
       "      <td>NaN</td>\n",
       "      <td>NaN</td>\n",
       "      <td>NaN</td>\n",
       "      <td>NaN</td>\n",
       "      <td>2015</td>\n",
       "    </tr>\n",
       "    <tr>\n",
       "      <th>2</th>\n",
       "      <td>BROOKLYN</td>\n",
       "      <td>2015-01-01</td>\n",
       "      <td>PASSENGER VEHICLE</td>\n",
       "      <td>UNKNOWN</td>\n",
       "      <td>NaN</td>\n",
       "      <td>NaN</td>\n",
       "      <td>NaN</td>\n",
       "      <td>2015</td>\n",
       "    </tr>\n",
       "    <tr>\n",
       "      <th>3</th>\n",
       "      <td>BROOKLYN</td>\n",
       "      <td>2015-01-01</td>\n",
       "      <td>BUS</td>\n",
       "      <td>PASSENGER VEHICLE</td>\n",
       "      <td>NaN</td>\n",
       "      <td>NaN</td>\n",
       "      <td>NaN</td>\n",
       "      <td>2015</td>\n",
       "    </tr>\n",
       "    <tr>\n",
       "      <th>4</th>\n",
       "      <td>NaN</td>\n",
       "      <td>2015-01-01</td>\n",
       "      <td>UNKNOWN</td>\n",
       "      <td>PASSENGER VEHICLE</td>\n",
       "      <td>NaN</td>\n",
       "      <td>NaN</td>\n",
       "      <td>NaN</td>\n",
       "      <td>2015</td>\n",
       "    </tr>\n",
       "  </tbody>\n",
       "</table>\n",
       "</div>"
      ],
      "text/plain": [
       "    BOROUGH       DATE               VEHICLE 1 TYPE     VEHICLE 2 TYPE  \\\n",
       "0    QUEENS 2015-01-01  SPORT UTILITY/STATION WAGON                NaN   \n",
       "1       NaN 2015-01-01            PASSENGER VEHICLE                NaN   \n",
       "2  BROOKLYN 2015-01-01            PASSENGER VEHICLE            UNKNOWN   \n",
       "3  BROOKLYN 2015-01-01                          BUS  PASSENGER VEHICLE   \n",
       "4       NaN 2015-01-01                      UNKNOWN  PASSENGER VEHICLE   \n",
       "\n",
       "  VEHICLE 3 TYPE VEHICLE 4 TYPE VEHICLE 5 TYPE  YEAR  \n",
       "0            NaN            NaN            NaN  2015  \n",
       "1            NaN            NaN            NaN  2015  \n",
       "2            NaN            NaN            NaN  2015  \n",
       "3            NaN            NaN            NaN  2015  \n",
       "4            NaN            NaN            NaN  2015  "
      ]
     },
     "execution_count": 5,
     "metadata": {},
     "output_type": "execute_result"
    }
   ],
   "source": [
    "new_df[\"DATE\"]= pd.to_datetime(new_df.DATE)\n",
    "new_df[\"YEAR\"] = new_df.DATE.dt.year\n",
    "print(new_df.head(5))"
   ]
  },
  {
   "cell_type": "markdown",
   "metadata": {},
   "source": [
    "# Inserting 1 in place of vehical name and zero for NaN"
   ]
  },
  {
   "cell_type": "code",
   "execution_count": 6,
   "metadata": {
    "collapsed": false
   },
   "outputs": [
    {
     "data": {
      "text/html": [
       "<div>\n",
       "<table border=\"1\" class=\"dataframe\">\n",
       "  <thead>\n",
       "    <tr style=\"text-align: right;\">\n",
       "      <th></th>\n",
       "      <th>BOROUGH</th>\n",
       "      <th>DATE</th>\n",
       "      <th>VEHICLE 1 TYPE</th>\n",
       "      <th>VEHICLE 2 TYPE</th>\n",
       "      <th>VEHICLE 3 TYPE</th>\n",
       "      <th>VEHICLE 4 TYPE</th>\n",
       "      <th>VEHICLE 5 TYPE</th>\n",
       "      <th>YEAR</th>\n",
       "    </tr>\n",
       "  </thead>\n",
       "  <tbody>\n",
       "    <tr>\n",
       "      <th>0</th>\n",
       "      <td>QUEENS</td>\n",
       "      <td>2015-01-01</td>\n",
       "      <td>1</td>\n",
       "      <td>0</td>\n",
       "      <td>0</td>\n",
       "      <td>0</td>\n",
       "      <td>0</td>\n",
       "      <td>2015</td>\n",
       "    </tr>\n",
       "    <tr>\n",
       "      <th>1</th>\n",
       "      <td>NaN</td>\n",
       "      <td>2015-01-01</td>\n",
       "      <td>1</td>\n",
       "      <td>0</td>\n",
       "      <td>0</td>\n",
       "      <td>0</td>\n",
       "      <td>0</td>\n",
       "      <td>2015</td>\n",
       "    </tr>\n",
       "    <tr>\n",
       "      <th>2</th>\n",
       "      <td>BROOKLYN</td>\n",
       "      <td>2015-01-01</td>\n",
       "      <td>1</td>\n",
       "      <td>1</td>\n",
       "      <td>0</td>\n",
       "      <td>0</td>\n",
       "      <td>0</td>\n",
       "      <td>2015</td>\n",
       "    </tr>\n",
       "    <tr>\n",
       "      <th>3</th>\n",
       "      <td>BROOKLYN</td>\n",
       "      <td>2015-01-01</td>\n",
       "      <td>1</td>\n",
       "      <td>1</td>\n",
       "      <td>0</td>\n",
       "      <td>0</td>\n",
       "      <td>0</td>\n",
       "      <td>2015</td>\n",
       "    </tr>\n",
       "    <tr>\n",
       "      <th>4</th>\n",
       "      <td>NaN</td>\n",
       "      <td>2015-01-01</td>\n",
       "      <td>1</td>\n",
       "      <td>1</td>\n",
       "      <td>0</td>\n",
       "      <td>0</td>\n",
       "      <td>0</td>\n",
       "      <td>2015</td>\n",
       "    </tr>\n",
       "  </tbody>\n",
       "</table>\n",
       "</div>"
      ],
      "text/plain": [
       "    BOROUGH       DATE VEHICLE 1 TYPE VEHICLE 2 TYPE VEHICLE 3 TYPE  \\\n",
       "0    QUEENS 2015-01-01              1              0              0   \n",
       "1       NaN 2015-01-01              1              0              0   \n",
       "2  BROOKLYN 2015-01-01              1              1              0   \n",
       "3  BROOKLYN 2015-01-01              1              1              0   \n",
       "4       NaN 2015-01-01              1              1              0   \n",
       "\n",
       "  VEHICLE 4 TYPE VEHICLE 5 TYPE  YEAR  \n",
       "0              0              0  2015  \n",
       "1              0              0  2015  \n",
       "2              0              0  2015  \n",
       "3              0              0  2015  \n",
       "4              0              0  2015  "
      ]
     },
     "execution_count": 6,
     "metadata": {},
     "output_type": "execute_result"
    }
   ],
   "source": [
    "new_df['VEHICLE 1 TYPE'] = new_df['VEHICLE 1 TYPE'].str.replace('.*','1')\n",
    "new_df['VEHICLE 1 TYPE'] = new_df['VEHICLE 1 TYPE'].fillna(0)\n",
    "\n",
    "new_df['VEHICLE 2 TYPE'] = new_df['VEHICLE 2 TYPE'].str.replace('.*','1')\n",
    "new_df['VEHICLE 2 TYPE'] = new_df['VEHICLE 2 TYPE'].fillna(0)\n",
    "\n",
    "new_df['VEHICLE 3 TYPE'] = new_df['VEHICLE 3 TYPE'].str.replace('.*','1')\n",
    "new_df['VEHICLE 3 TYPE'] = new_df['VEHICLE 3 TYPE'].fillna(0)\n",
    "\n",
    "new_df['VEHICLE 4 TYPE'] = new_df['VEHICLE 4 TYPE'].str.replace('.*','1')\n",
    "new_df['VEHICLE 4 TYPE'] = new_df['VEHICLE 4 TYPE'].fillna(0)\n",
    "\n",
    "new_df['VEHICLE 5 TYPE'] = new_df['VEHICLE 5 TYPE'].str.replace('.*','1')\n",
    "new_df['VEHICLE 5 TYPE'] = new_df['VEHICLE 5 TYPE'].fillna(0)\n",
    "\n",
    "print(new_df.head(5))"
   ]
  },
  {
   "cell_type": "markdown",
   "metadata": {},
   "source": [
    "### Getting only data after 2015"
   ]
  },
  {
   "cell_type": "code",
   "execution_count": 7,
   "metadata": {
    "collapsed": false
   },
   "outputs": [
    {
     "data": {
      "text/html": [
       "<div>\n",
       "<table border=\"1\" class=\"dataframe\">\n",
       "  <thead>\n",
       "    <tr style=\"text-align: right;\">\n",
       "      <th></th>\n",
       "      <th>BOROUGH</th>\n",
       "      <th>DATE</th>\n",
       "      <th>VEHICLE 1 TYPE</th>\n",
       "      <th>VEHICLE 2 TYPE</th>\n",
       "      <th>VEHICLE 3 TYPE</th>\n",
       "      <th>VEHICLE 4 TYPE</th>\n",
       "      <th>VEHICLE 5 TYPE</th>\n",
       "      <th>YEAR</th>\n",
       "    </tr>\n",
       "  </thead>\n",
       "  <tbody>\n",
       "    <tr>\n",
       "      <th>0</th>\n",
       "      <td>QUEENS</td>\n",
       "      <td>2015-01-01</td>\n",
       "      <td>1</td>\n",
       "      <td>0</td>\n",
       "      <td>0</td>\n",
       "      <td>0</td>\n",
       "      <td>0</td>\n",
       "      <td>2015</td>\n",
       "    </tr>\n",
       "    <tr>\n",
       "      <th>2</th>\n",
       "      <td>BROOKLYN</td>\n",
       "      <td>2015-01-01</td>\n",
       "      <td>1</td>\n",
       "      <td>1</td>\n",
       "      <td>0</td>\n",
       "      <td>0</td>\n",
       "      <td>0</td>\n",
       "      <td>2015</td>\n",
       "    </tr>\n",
       "    <tr>\n",
       "      <th>3</th>\n",
       "      <td>BROOKLYN</td>\n",
       "      <td>2015-01-01</td>\n",
       "      <td>1</td>\n",
       "      <td>1</td>\n",
       "      <td>0</td>\n",
       "      <td>0</td>\n",
       "      <td>0</td>\n",
       "      <td>2015</td>\n",
       "    </tr>\n",
       "    <tr>\n",
       "      <th>5</th>\n",
       "      <td>BROOKLYN</td>\n",
       "      <td>2015-01-01</td>\n",
       "      <td>1</td>\n",
       "      <td>1</td>\n",
       "      <td>1</td>\n",
       "      <td>1</td>\n",
       "      <td>0</td>\n",
       "      <td>2015</td>\n",
       "    </tr>\n",
       "    <tr>\n",
       "      <th>6</th>\n",
       "      <td>QUEENS</td>\n",
       "      <td>2015-01-01</td>\n",
       "      <td>1</td>\n",
       "      <td>1</td>\n",
       "      <td>1</td>\n",
       "      <td>0</td>\n",
       "      <td>0</td>\n",
       "      <td>2015</td>\n",
       "    </tr>\n",
       "  </tbody>\n",
       "</table>\n",
       "</div>"
      ],
      "text/plain": [
       "    BOROUGH       DATE VEHICLE 1 TYPE VEHICLE 2 TYPE VEHICLE 3 TYPE  \\\n",
       "0    QUEENS 2015-01-01              1              0              0   \n",
       "2  BROOKLYN 2015-01-01              1              1              0   \n",
       "3  BROOKLYN 2015-01-01              1              1              0   \n",
       "5  BROOKLYN 2015-01-01              1              1              1   \n",
       "6    QUEENS 2015-01-01              1              1              1   \n",
       "\n",
       "  VEHICLE 4 TYPE VEHICLE 5 TYPE  YEAR  \n",
       "0              0              0  2015  \n",
       "2              0              0  2015  \n",
       "3              0              0  2015  \n",
       "5              1              0  2015  \n",
       "6              0              0  2015  "
      ]
     },
     "execution_count": 7,
     "metadata": {},
     "output_type": "execute_result"
    }
   ],
   "source": [
    "new_df = new_df[(new_df.YEAR >= 2015)].dropna(subset=[\"BOROUGH\"])\n",
    "print(new_df.head(5))"
   ]
  },
  {
   "cell_type": "markdown",
   "metadata": {},
   "source": [
    "## Counting total for each column "
   ]
  },
  {
   "cell_type": "code",
   "execution_count": 8,
   "metadata": {
    "collapsed": false
   },
   "outputs": [
    {
     "data": {
      "text/html": [
       "<div>\n",
       "<table border=\"1\" class=\"dataframe\">\n",
       "  <thead>\n",
       "    <tr style=\"text-align: right;\">\n",
       "      <th></th>\n",
       "      <th>BOROUGH</th>\n",
       "      <th>one_vehical_involved</th>\n",
       "    </tr>\n",
       "  </thead>\n",
       "  <tbody>\n",
       "    <tr>\n",
       "      <th>0</th>\n",
       "      <td>BRONX</td>\n",
       "      <td>45599</td>\n",
       "    </tr>\n",
       "    <tr>\n",
       "      <th>1</th>\n",
       "      <td>BROOKLYN</td>\n",
       "      <td>104174</td>\n",
       "    </tr>\n",
       "    <tr>\n",
       "      <th>2</th>\n",
       "      <td>MANHATTAN</td>\n",
       "      <td>82801</td>\n",
       "    </tr>\n",
       "    <tr>\n",
       "      <th>3</th>\n",
       "      <td>QUEENS</td>\n",
       "      <td>89140</td>\n",
       "    </tr>\n",
       "    <tr>\n",
       "      <th>4</th>\n",
       "      <td>STATEN ISLAND</td>\n",
       "      <td>13943</td>\n",
       "    </tr>\n",
       "  </tbody>\n",
       "</table>\n",
       "</div>"
      ],
      "text/plain": [
       "         BOROUGH  one_vehical_involved\n",
       "0          BRONX                 45599\n",
       "1       BROOKLYN                104174\n",
       "2      MANHATTAN                 82801\n",
       "3         QUEENS                 89140\n",
       "4  STATEN ISLAND                 13943"
      ]
     },
     "execution_count": 8,
     "metadata": {},
     "output_type": "execute_result"
    }
   ],
   "source": [
    "vehical_type1_df = new_df[[\"BOROUGH\"]].copy()\n",
    "vehical_type1_df[\"one_vehical_involved\"] = new_df[\"VEHICLE 1 TYPE\"].astype(str).astype(int)\n",
    "vehical_type1_df = pd.DataFrame(vehical_type1_df.groupby(\"BOROUGH\").one_vehical_involved.sum().reset_index())"
   ]
  },
  {
   "cell_type": "code",
   "execution_count": 9,
   "metadata": {
    "collapsed": false
   },
   "outputs": [
    {
     "data": {
      "text/html": [
       "<div>\n",
       "<table border=\"1\" class=\"dataframe\">\n",
       "  <thead>\n",
       "    <tr style=\"text-align: right;\">\n",
       "      <th></th>\n",
       "      <th>BOROUGH</th>\n",
       "      <th>two_vehical_involved</th>\n",
       "    </tr>\n",
       "  </thead>\n",
       "  <tbody>\n",
       "    <tr>\n",
       "      <th>0</th>\n",
       "      <td>BRONX</td>\n",
       "      <td>36972</td>\n",
       "    </tr>\n",
       "    <tr>\n",
       "      <th>1</th>\n",
       "      <td>BROOKLYN</td>\n",
       "      <td>86799</td>\n",
       "    </tr>\n",
       "    <tr>\n",
       "      <th>2</th>\n",
       "      <td>MANHATTAN</td>\n",
       "      <td>69483</td>\n",
       "    </tr>\n",
       "    <tr>\n",
       "      <th>3</th>\n",
       "      <td>QUEENS</td>\n",
       "      <td>76178</td>\n",
       "    </tr>\n",
       "    <tr>\n",
       "      <th>4</th>\n",
       "      <td>STATEN ISLAND</td>\n",
       "      <td>11600</td>\n",
       "    </tr>\n",
       "  </tbody>\n",
       "</table>\n",
       "</div>"
      ],
      "text/plain": [
       "         BOROUGH  two_vehical_involved\n",
       "0          BRONX                 36972\n",
       "1       BROOKLYN                 86799\n",
       "2      MANHATTAN                 69483\n",
       "3         QUEENS                 76178\n",
       "4  STATEN ISLAND                 11600"
      ]
     },
     "execution_count": 9,
     "metadata": {},
     "output_type": "execute_result"
    }
   ],
   "source": [
    "vehical_type2_df = new_df[[\"BOROUGH\"]].copy()\n",
    "vehical_type2_df[\"two_vehical_involved\"] = new_df[\"VEHICLE 2 TYPE\"].astype(str).astype(int)\n",
    "vehical_type2_df = pd.DataFrame(vehical_type2_df.groupby(\"BOROUGH\").two_vehical_involved.sum().reset_index())"
   ]
  },
  {
   "cell_type": "code",
   "execution_count": 10,
   "metadata": {
    "collapsed": false
   },
   "outputs": [
    {
     "data": {
      "text/html": [
       "<div>\n",
       "<table border=\"1\" class=\"dataframe\">\n",
       "  <thead>\n",
       "    <tr style=\"text-align: right;\">\n",
       "      <th></th>\n",
       "      <th>BOROUGH</th>\n",
       "      <th>three_vehical_involved</th>\n",
       "    </tr>\n",
       "  </thead>\n",
       "  <tbody>\n",
       "    <tr>\n",
       "      <th>0</th>\n",
       "      <td>BRONX</td>\n",
       "      <td>2587</td>\n",
       "    </tr>\n",
       "    <tr>\n",
       "      <th>1</th>\n",
       "      <td>BROOKLYN</td>\n",
       "      <td>6592</td>\n",
       "    </tr>\n",
       "    <tr>\n",
       "      <th>2</th>\n",
       "      <td>MANHATTAN</td>\n",
       "      <td>2525</td>\n",
       "    </tr>\n",
       "    <tr>\n",
       "      <th>3</th>\n",
       "      <td>QUEENS</td>\n",
       "      <td>5918</td>\n",
       "    </tr>\n",
       "    <tr>\n",
       "      <th>4</th>\n",
       "      <td>STATEN ISLAND</td>\n",
       "      <td>924</td>\n",
       "    </tr>\n",
       "  </tbody>\n",
       "</table>\n",
       "</div>"
      ],
      "text/plain": [
       "         BOROUGH  three_vehical_involved\n",
       "0          BRONX                    2587\n",
       "1       BROOKLYN                    6592\n",
       "2      MANHATTAN                    2525\n",
       "3         QUEENS                    5918\n",
       "4  STATEN ISLAND                     924"
      ]
     },
     "execution_count": 10,
     "metadata": {},
     "output_type": "execute_result"
    }
   ],
   "source": [
    "vehical_type3_df = new_df[[\"BOROUGH\"]].copy()\n",
    "vehical_type3_df[\"three_vehical_involved\"] = new_df[\"VEHICLE 3 TYPE\"].astype(str).astype(int)\n",
    "vehical_type3_df = pd.DataFrame(vehical_type3_df.groupby(\"BOROUGH\").three_vehical_involved.sum().reset_index())"
   ]
  },
  {
   "cell_type": "code",
   "execution_count": 11,
   "metadata": {
    "collapsed": false
   },
   "outputs": [
    {
     "data": {
      "text/html": [
       "<div>\n",
       "<table border=\"1\" class=\"dataframe\">\n",
       "  <thead>\n",
       "    <tr style=\"text-align: right;\">\n",
       "      <th></th>\n",
       "      <th>BOROUGH</th>\n",
       "      <th>four_vehical_involved</th>\n",
       "    </tr>\n",
       "  </thead>\n",
       "  <tbody>\n",
       "    <tr>\n",
       "      <th>0</th>\n",
       "      <td>BRONX</td>\n",
       "      <td>625</td>\n",
       "    </tr>\n",
       "    <tr>\n",
       "      <th>1</th>\n",
       "      <td>BROOKLYN</td>\n",
       "      <td>1612</td>\n",
       "    </tr>\n",
       "    <tr>\n",
       "      <th>2</th>\n",
       "      <td>MANHATTAN</td>\n",
       "      <td>501</td>\n",
       "    </tr>\n",
       "    <tr>\n",
       "      <th>3</th>\n",
       "      <td>QUEENS</td>\n",
       "      <td>1420</td>\n",
       "    </tr>\n",
       "    <tr>\n",
       "      <th>4</th>\n",
       "      <td>STATEN ISLAND</td>\n",
       "      <td>165</td>\n",
       "    </tr>\n",
       "  </tbody>\n",
       "</table>\n",
       "</div>"
      ],
      "text/plain": [
       "         BOROUGH  four_vehical_involved\n",
       "0          BRONX                    625\n",
       "1       BROOKLYN                   1612\n",
       "2      MANHATTAN                    501\n",
       "3         QUEENS                   1420\n",
       "4  STATEN ISLAND                    165"
      ]
     },
     "execution_count": 11,
     "metadata": {},
     "output_type": "execute_result"
    }
   ],
   "source": [
    "vehical_type4_df = new_df[[\"BOROUGH\"]].copy()\n",
    "vehical_type4_df[\"four_vehical_involved\"] = new_df[\"VEHICLE 4 TYPE\"].astype(str).astype(int)\n",
    "vehical_type4_df = pd.DataFrame(vehical_type4_df.groupby(\"BOROUGH\").four_vehical_involved.sum().reset_index())"
   ]
  },
  {
   "cell_type": "code",
   "execution_count": 12,
   "metadata": {
    "collapsed": false
   },
   "outputs": [
    {
     "data": {
      "text/html": [
       "<div>\n",
       "<table border=\"1\" class=\"dataframe\">\n",
       "  <thead>\n",
       "    <tr style=\"text-align: right;\">\n",
       "      <th></th>\n",
       "      <th>BOROUGH</th>\n",
       "      <th>five_vehical_involved</th>\n",
       "    </tr>\n",
       "  </thead>\n",
       "  <tbody>\n",
       "    <tr>\n",
       "      <th>0</th>\n",
       "      <td>BRONX</td>\n",
       "      <td>173</td>\n",
       "    </tr>\n",
       "    <tr>\n",
       "      <th>1</th>\n",
       "      <td>BROOKLYN</td>\n",
       "      <td>461</td>\n",
       "    </tr>\n",
       "    <tr>\n",
       "      <th>2</th>\n",
       "      <td>MANHATTAN</td>\n",
       "      <td>129</td>\n",
       "    </tr>\n",
       "    <tr>\n",
       "      <th>3</th>\n",
       "      <td>QUEENS</td>\n",
       "      <td>314</td>\n",
       "    </tr>\n",
       "    <tr>\n",
       "      <th>4</th>\n",
       "      <td>STATEN ISLAND</td>\n",
       "      <td>32</td>\n",
       "    </tr>\n",
       "  </tbody>\n",
       "</table>\n",
       "</div>"
      ],
      "text/plain": [
       "         BOROUGH  five_vehical_involved\n",
       "0          BRONX                    173\n",
       "1       BROOKLYN                    461\n",
       "2      MANHATTAN                    129\n",
       "3         QUEENS                    314\n",
       "4  STATEN ISLAND                     32"
      ]
     },
     "execution_count": 12,
     "metadata": {},
     "output_type": "execute_result"
    }
   ],
   "source": [
    "vehical_type5_df = new_df[[\"BOROUGH\"]].copy()\n",
    "vehical_type5_df[\"five_vehical_involved\"] = new_df[\"VEHICLE 5 TYPE\"].astype(str).astype(int)\n",
    "vehical_type5_df = pd.DataFrame(vehical_type5_df.groupby(\"BOROUGH\").five_vehical_involved.sum().reset_index())"
   ]
  },
  {
   "cell_type": "markdown",
   "metadata": {},
   "source": [
    "## Merging all dataframes to get single data frame"
   ]
  },
  {
   "cell_type": "code",
   "execution_count": 13,
   "metadata": {
    "collapsed": false
   },
   "outputs": [
    {
     "data": {
      "text/html": [
       "<div>\n",
       "<table border=\"1\" class=\"dataframe\">\n",
       "  <thead>\n",
       "    <tr style=\"text-align: right;\">\n",
       "      <th></th>\n",
       "      <th>BOROUGH</th>\n",
       "      <th>one_vehical_involved</th>\n",
       "      <th>two_vehical_involved</th>\n",
       "      <th>three_vehical_involved</th>\n",
       "      <th>four_vehical_involved</th>\n",
       "      <th>five_vehical_involved</th>\n",
       "    </tr>\n",
       "  </thead>\n",
       "  <tbody>\n",
       "    <tr>\n",
       "      <th>0</th>\n",
       "      <td>BRONX</td>\n",
       "      <td>45599</td>\n",
       "      <td>36972</td>\n",
       "      <td>2587</td>\n",
       "      <td>625</td>\n",
       "      <td>173</td>\n",
       "    </tr>\n",
       "    <tr>\n",
       "      <th>1</th>\n",
       "      <td>BROOKLYN</td>\n",
       "      <td>104174</td>\n",
       "      <td>86799</td>\n",
       "      <td>6592</td>\n",
       "      <td>1612</td>\n",
       "      <td>461</td>\n",
       "    </tr>\n",
       "  </tbody>\n",
       "</table>\n",
       "</div>"
      ],
      "text/plain": [
       "    BOROUGH  one_vehical_involved  two_vehical_involved  \\\n",
       "0     BRONX                 45599                 36972   \n",
       "1  BROOKLYN                104174                 86799   \n",
       "\n",
       "   three_vehical_involved  four_vehical_involved  five_vehical_involved  \n",
       "0                    2587                    625                    173  \n",
       "1                    6592                   1612                    461  "
      ]
     },
     "execution_count": 13,
     "metadata": {},
     "output_type": "execute_result"
    }
   ],
   "source": [
    "final_df = pd.merge(vehical_type1_df,vehical_type2_df,on ='BOROUGH' , how='inner')\n",
    "final_df.columns = [\"BOROUGH\",\"one_vehical_involved\",\"two_vehical_involved\"]\n",
    "\n",
    "final_df = pd.merge(final_df,vehical_type3_df,on ='BOROUGH' , how='inner')\n",
    "final_df.columns = [\"BOROUGH\",\"one_vehical_involved\",\"two_vehical_involved\",\"three_vehical_involved\"]\n",
    "\n",
    "final_df = pd.merge(final_df,vehical_type4_df,on ='BOROUGH' , how='inner')\n",
    "final_df.columns = [\"BOROUGH\",\"one_vehical_involved\",\"two_vehical_involved\",\"three_vehical_involved\",\"four_vehical_involved\"]\n",
    "\n",
    "final_df = pd.merge(final_df,vehical_type5_df,on ='BOROUGH' , how='inner')\n",
    "final_df.columns = [\"BOROUGH\",\"one_vehical_involved\",\"two_vehical_involved\",\"three_vehical_involved\",\"four_vehical_involved\",\"five_vehical_involved\"]\n",
    "\n",
    "#save_to_CSV()\n",
    "print(final_df.head(2))"
   ]
  },
  {
   "cell_type": "markdown",
   "metadata": {},
   "source": [
    "# Subtracting the colums to get exact count"
   ]
  },
  {
   "cell_type": "code",
   "execution_count": 14,
   "metadata": {
    "collapsed": false
   },
   "outputs": [],
   "source": [
    "final_df[\"four_vehical_involved\"] = final_df[\"four_vehical_involved\"] - final_df[\"five_vehical_involved\"]\n"
   ]
  },
  {
   "cell_type": "code",
   "execution_count": 15,
   "metadata": {
    "collapsed": false
   },
   "outputs": [],
   "source": [
    "final_df[\"three_vehical_involved\"] = (final_df[\"three_vehical_involved\"] - final_df[\"four_vehical_involved\"])-final_df[\"five_vehical_involved\"]\n"
   ]
  },
  {
   "cell_type": "code",
   "execution_count": 16,
   "metadata": {
    "collapsed": false
   },
   "outputs": [],
   "source": [
    "final_df[\"two_vehical_involved\"] = ((final_df[\"two_vehical_involved\"]-final_df[\"three_vehical_involved\"])-final_df[\"four_vehical_involved\"])-final_df[\"five_vehical_involved\"]                     \n"
   ]
  },
  {
   "cell_type": "code",
   "execution_count": 17,
   "metadata": {
    "collapsed": false
   },
   "outputs": [],
   "source": [
    "final_df[\"one_vehical_involved\"]=(((final_df[\"one_vehical_involved\"]-final_df[\"two_vehical_involved\"])-final_df[\"three_vehical_involved\"])-final_df[\"four_vehical_involved\"])- final_df[\"five_vehical_involved\"]\n"
   ]
  },
  {
   "cell_type": "code",
   "execution_count": null,
   "metadata": {
    "collapsed": false
   },
   "outputs": [],
   "source": [
    "output_df = final_df\n",
    "output_df[\"More_Vehicals_involved\"] = output_df[\"four_vehical_involved\"] + output_df[\"five_vehical_involved\"]\n",
    "output_df.drop('four_vehical_involved', axis=1, inplace=True)\n",
    "output_df.drop('five_vehical_involved', axis=1, inplace=True)\n",
    "\n",
    "print(output_df.head(5))"
   ]
  },
  {
   "cell_type": "code",
   "execution_count": 19,
   "metadata": {
    "collapsed": true
   },
   "outputs": [],
   "source": [
    "def save_to_CSV():\n",
    "    if not os.path.exists(homedir+\"\\\\Assignment 3\\\\Output\\\\Question1_part2\"):\n",
    "        os.makedirs(homedir+\"\\\\Assignment 3\\\\Output\\\\Question1_part2\")\n",
    "    with open(homedir+'\\\\Assignment 3\\\\Output\\\\Question1_part2\\\\Q1P2.csv', 'w') as myfile:\n",
    "        myfile.write(output_df.to_csv(index=False))"
   ]
  },
  {
   "cell_type": "code",
   "execution_count": null,
   "metadata": {
    "collapsed": true
   },
   "outputs": [],
   "source": [
    "save_to_CSV()"
   ]
  }
 ],
 "metadata": {
  "anaconda-cloud": {},
  "kernelspec": {
   "display_name": "Python [conda root]",
   "language": "python",
   "name": "conda-root-py"
  },
  "language_info": {
   "codemirror_mode": {
    "name": "ipython",
    "version": 3
   },
   "file_extension": ".py",
   "mimetype": "text/x-python",
   "name": "python",
   "nbconvert_exporter": "python",
   "pygments_lexer": "ipython3",
   "version": "3.5.2"
  }
 },
 "nbformat": 4,
 "nbformat_minor": 1
}
