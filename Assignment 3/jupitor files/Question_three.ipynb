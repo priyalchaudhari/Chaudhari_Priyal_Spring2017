{
 "cells": [
  {
   "cell_type": "code",
   "execution_count": 33,
   "metadata": {
    "collapsed": true
   },
   "outputs": [],
   "source": [
    "import os\n",
    "from os import listdir\n",
    "from os.path import isfile, join\n",
    "import glob\n",
    "import string\n",
    "import operator\n",
    "import csv\n",
    "import pandas as pd\n",
    "import calendar\n",
    "import numpy as np"
   ]
  },
  {
   "cell_type": "code",
   "execution_count": 2,
   "metadata": {
    "collapsed": false
   },
   "outputs": [
    {
     "name": "stdout",
     "output_type": "stream",
     "text": [
      "C:\\Users\\priya\\Assignment 3\\Data\n"
     ]
    }
   ],
   "source": [
    "homedir = os.path.expanduser(\"~\")\n",
    "path_to_data = homedir+\"\\\\Assignment 3\\\\Data\"\n",
    "print(path_to_data)"
   ]
  },
  {
   "cell_type": "code",
   "execution_count": 17,
   "metadata": {
    "collapsed": false
   },
   "outputs": [
    {
     "data": {
      "text/html": [
       "<div>\n",
       "<table border=\"1\" class=\"dataframe\">\n",
       "  <thead>\n",
       "    <tr style=\"text-align: right;\">\n",
       "      <th></th>\n",
       "      <th>match_details</th>\n",
       "      <th>result</th>\n",
       "      <th>scores</th>\n",
       "      <th>date</th>\n",
       "      <th>venue</th>\n",
       "      <th>round</th>\n",
       "      <th>home</th>\n",
       "      <th>away</th>\n",
       "      <th>winner</th>\n",
       "      <th>win_by_runs</th>\n",
       "      <th>...</th>\n",
       "      <th>innings1_wickets</th>\n",
       "      <th>innings1_overs_batted</th>\n",
       "      <th>innings1_overs</th>\n",
       "      <th>innings2</th>\n",
       "      <th>innings2_runs</th>\n",
       "      <th>innings2_wickets</th>\n",
       "      <th>innings2_overs_batted</th>\n",
       "      <th>innings2_overs</th>\n",
       "      <th>D/L_method</th>\n",
       "      <th>target</th>\n",
       "    </tr>\n",
       "  </thead>\n",
       "  <tbody>\n",
       "    <tr>\n",
       "      <th>0</th>\n",
       "      <td>North Group:Durham v Nottinghamshire at Cheste...</td>\n",
       "      <td>Durham won by 6 wickets (with 5 balls remaining)</td>\n",
       "      <td>Nottinghamshire 157/7 (20/20 ov); Durham 160/4...</td>\n",
       "      <td>13/06/2003</td>\n",
       "      <td>Chester-le-Street</td>\n",
       "      <td>North Group</td>\n",
       "      <td>Durham</td>\n",
       "      <td>Nottinghamshire</td>\n",
       "      <td>Durham</td>\n",
       "      <td>NaN</td>\n",
       "      <td>...</td>\n",
       "      <td>7.0</td>\n",
       "      <td>20.0</td>\n",
       "      <td>20.0</td>\n",
       "      <td>Durham</td>\n",
       "      <td>160.0</td>\n",
       "      <td>4.0</td>\n",
       "      <td>19.1</td>\n",
       "      <td>20.0</td>\n",
       "      <td>NaN</td>\n",
       "      <td>NaN</td>\n",
       "    </tr>\n",
       "    <tr>\n",
       "      <th>1</th>\n",
       "      <td>South Group:Hampshire v Sussex at Southampton-...</td>\n",
       "      <td>Hampshire won by 5 runs</td>\n",
       "      <td>Hampshire 153 (19.4/20 ov); Sussex 148/7 (20/2...</td>\n",
       "      <td>13/06/2003</td>\n",
       "      <td>Southampton</td>\n",
       "      <td>South Group</td>\n",
       "      <td>Hampshire</td>\n",
       "      <td>Sussex</td>\n",
       "      <td>Hampshire</td>\n",
       "      <td>5.0</td>\n",
       "      <td>...</td>\n",
       "      <td>10.0</td>\n",
       "      <td>19.4</td>\n",
       "      <td>20.0</td>\n",
       "      <td>Sussex</td>\n",
       "      <td>148.0</td>\n",
       "      <td>7.0</td>\n",
       "      <td>20.0</td>\n",
       "      <td>20.0</td>\n",
       "      <td>NaN</td>\n",
       "      <td>NaN</td>\n",
       "    </tr>\n",
       "  </tbody>\n",
       "</table>\n",
       "<p>2 rows × 24 columns</p>\n",
       "</div>"
      ],
      "text/plain": [
       "                                       match_details  \\\n",
       "0  North Group:Durham v Nottinghamshire at Cheste...   \n",
       "1  South Group:Hampshire v Sussex at Southampton-...   \n",
       "\n",
       "                                             result  \\\n",
       "0  Durham won by 6 wickets (with 5 balls remaining)   \n",
       "1                           Hampshire won by 5 runs   \n",
       "\n",
       "                                              scores        date  \\\n",
       "0  Nottinghamshire 157/7 (20/20 ov); Durham 160/4...  13/06/2003   \n",
       "1  Hampshire 153 (19.4/20 ov); Sussex 148/7 (20/2...  13/06/2003   \n",
       "\n",
       "               venue        round       home             away     winner  \\\n",
       "0  Chester-le-Street  North Group     Durham  Nottinghamshire     Durham   \n",
       "1        Southampton  South Group  Hampshire           Sussex  Hampshire   \n",
       "\n",
       "   win_by_runs   ...    innings1_wickets  innings1_overs_batted  \\\n",
       "0          NaN   ...                 7.0                   20.0   \n",
       "1          5.0   ...                10.0                   19.4   \n",
       "\n",
       "  innings1_overs  innings2  innings2_runs  innings2_wickets  \\\n",
       "0           20.0    Durham          160.0               4.0   \n",
       "1           20.0    Sussex          148.0               7.0   \n",
       "\n",
       "   innings2_overs_batted innings2_overs  D/L_method  target  \n",
       "0                   19.1           20.0         NaN     NaN  \n",
       "1                   20.0           20.0         NaN     NaN  \n",
       "\n",
       "[2 rows x 24 columns]"
      ]
     },
     "execution_count": 17,
     "metadata": {},
     "output_type": "execute_result"
    }
   ],
   "source": [
    "output_dist={}\n",
    "for subdir,dirs, files in os.walk(path_to_data):\n",
    "    #print(files)\n",
    "    for file in files:\n",
    "        if file == 'cricket_matches.csv':\n",
    "            #print(file)\n",
    "            csv_data1=pd.read_csv(os.path.join(subdir,file))"
   ]
  },
  {
   "cell_type": "markdown",
   "metadata": {},
   "source": [
    "## Making new frame with relevant columns "
   ]
  },
  {
   "cell_type": "code",
   "execution_count": 18,
   "metadata": {
    "collapsed": false
   },
   "outputs": [
    {
     "data": {
      "text/html": [
       "<div>\n",
       "<table border=\"1\" class=\"dataframe\">\n",
       "  <thead>\n",
       "    <tr style=\"text-align: right;\">\n",
       "      <th></th>\n",
       "      <th>home</th>\n",
       "      <th>away</th>\n",
       "      <th>winner</th>\n",
       "      <th>innings1</th>\n",
       "      <th>innings1_runs</th>\n",
       "      <th>innings2</th>\n",
       "      <th>innings2_runs</th>\n",
       "    </tr>\n",
       "  </thead>\n",
       "  <tbody>\n",
       "    <tr>\n",
       "      <th>0</th>\n",
       "      <td>Durham</td>\n",
       "      <td>Nottinghamshire</td>\n",
       "      <td>Durham</td>\n",
       "      <td>Nottinghamshire</td>\n",
       "      <td>157.0</td>\n",
       "      <td>Durham</td>\n",
       "      <td>160.0</td>\n",
       "    </tr>\n",
       "    <tr>\n",
       "      <th>1</th>\n",
       "      <td>Hampshire</td>\n",
       "      <td>Sussex</td>\n",
       "      <td>Hampshire</td>\n",
       "      <td>Hampshire</td>\n",
       "      <td>153.0</td>\n",
       "      <td>Sussex</td>\n",
       "      <td>148.0</td>\n",
       "    </tr>\n",
       "    <tr>\n",
       "      <th>2</th>\n",
       "      <td>Somerset</td>\n",
       "      <td>Warwickshire</td>\n",
       "      <td>Warwickshire</td>\n",
       "      <td>Warwickshire</td>\n",
       "      <td>188.0</td>\n",
       "      <td>Somerset</td>\n",
       "      <td>169.0</td>\n",
       "    </tr>\n",
       "    <tr>\n",
       "      <th>3</th>\n",
       "      <td>Surrey</td>\n",
       "      <td>Middlesex</td>\n",
       "      <td>Surrey</td>\n",
       "      <td>Middlesex</td>\n",
       "      <td>155.0</td>\n",
       "      <td>Surrey</td>\n",
       "      <td>158.0</td>\n",
       "    </tr>\n",
       "    <tr>\n",
       "      <th>4</th>\n",
       "      <td>Worcestershire</td>\n",
       "      <td>Northamptonshire</td>\n",
       "      <td>Worcestershire</td>\n",
       "      <td>Northamptonshire</td>\n",
       "      <td>150.0</td>\n",
       "      <td>Worcestershire</td>\n",
       "      <td>151.0</td>\n",
       "    </tr>\n",
       "  </tbody>\n",
       "</table>\n",
       "</div>"
      ],
      "text/plain": [
       "             home              away          winner          innings1  \\\n",
       "0          Durham   Nottinghamshire          Durham   Nottinghamshire   \n",
       "1       Hampshire            Sussex       Hampshire         Hampshire   \n",
       "2        Somerset      Warwickshire    Warwickshire      Warwickshire   \n",
       "3          Surrey         Middlesex          Surrey         Middlesex   \n",
       "4  Worcestershire  Northamptonshire  Worcestershire  Northamptonshire   \n",
       "\n",
       "   innings1_runs        innings2  innings2_runs  \n",
       "0          157.0          Durham          160.0  \n",
       "1          153.0          Sussex          148.0  \n",
       "2          188.0        Somerset          169.0  \n",
       "3          155.0          Surrey          158.0  \n",
       "4          150.0  Worcestershire          151.0  "
      ]
     },
     "execution_count": 18,
     "metadata": {},
     "output_type": "execute_result"
    }
   ],
   "source": [
    "match_details_df = csv_data1[[\"home\",\"away\",\"winner\",\"innings1\",\"innings1_runs\",\"innings2\",\"innings2_runs\"]].copy()\n",
    "print(match_details_df.head(5))"
   ]
  },
  {
   "cell_type": "markdown",
   "metadata": {},
   "source": [
    "## Getting only those records which are played at home and won the match"
   ]
  },
  {
   "cell_type": "code",
   "execution_count": 19,
   "metadata": {
    "collapsed": false,
    "scrolled": true
   },
   "outputs": [
    {
     "data": {
      "text/html": [
       "<div>\n",
       "<table border=\"1\" class=\"dataframe\">\n",
       "  <thead>\n",
       "    <tr style=\"text-align: right;\">\n",
       "      <th></th>\n",
       "      <th>home</th>\n",
       "      <th>away</th>\n",
       "      <th>winner</th>\n",
       "      <th>innings1</th>\n",
       "      <th>innings1_runs</th>\n",
       "      <th>innings2</th>\n",
       "      <th>innings2_runs</th>\n",
       "    </tr>\n",
       "  </thead>\n",
       "  <tbody>\n",
       "    <tr>\n",
       "      <th>0</th>\n",
       "      <td>Durham</td>\n",
       "      <td>Nottinghamshire</td>\n",
       "      <td>Durham</td>\n",
       "      <td>Nottinghamshire</td>\n",
       "      <td>157.0</td>\n",
       "      <td>Durham</td>\n",
       "      <td>160.0</td>\n",
       "    </tr>\n",
       "    <tr>\n",
       "      <th>1</th>\n",
       "      <td>Hampshire</td>\n",
       "      <td>Sussex</td>\n",
       "      <td>Hampshire</td>\n",
       "      <td>Hampshire</td>\n",
       "      <td>153.0</td>\n",
       "      <td>Sussex</td>\n",
       "      <td>148.0</td>\n",
       "    </tr>\n",
       "    <tr>\n",
       "      <th>3</th>\n",
       "      <td>Surrey</td>\n",
       "      <td>Middlesex</td>\n",
       "      <td>Surrey</td>\n",
       "      <td>Middlesex</td>\n",
       "      <td>155.0</td>\n",
       "      <td>Surrey</td>\n",
       "      <td>158.0</td>\n",
       "    </tr>\n",
       "    <tr>\n",
       "      <th>4</th>\n",
       "      <td>Worcestershire</td>\n",
       "      <td>Northamptonshire</td>\n",
       "      <td>Worcestershire</td>\n",
       "      <td>Northamptonshire</td>\n",
       "      <td>150.0</td>\n",
       "      <td>Worcestershire</td>\n",
       "      <td>151.0</td>\n",
       "    </tr>\n",
       "    <tr>\n",
       "      <th>5</th>\n",
       "      <td>Gloucestershire</td>\n",
       "      <td>Worcestershire</td>\n",
       "      <td>Gloucestershire</td>\n",
       "      <td>Worcestershire</td>\n",
       "      <td>122.0</td>\n",
       "      <td>Gloucestershire</td>\n",
       "      <td>126.0</td>\n",
       "    </tr>\n",
       "  </tbody>\n",
       "</table>\n",
       "</div>"
      ],
      "text/plain": [
       "              home              away           winner          innings1  \\\n",
       "0           Durham   Nottinghamshire           Durham   Nottinghamshire   \n",
       "1        Hampshire            Sussex        Hampshire         Hampshire   \n",
       "3           Surrey         Middlesex           Surrey         Middlesex   \n",
       "4   Worcestershire  Northamptonshire   Worcestershire  Northamptonshire   \n",
       "5  Gloucestershire    Worcestershire  Gloucestershire    Worcestershire   \n",
       "\n",
       "   innings1_runs         innings2  innings2_runs  \n",
       "0          157.0           Durham          160.0  \n",
       "1          153.0           Sussex          148.0  \n",
       "3          155.0           Surrey          158.0  \n",
       "4          150.0   Worcestershire          151.0  \n",
       "5          122.0  Gloucestershire          126.0  "
      ]
     },
     "execution_count": 19,
     "metadata": {},
     "output_type": "execute_result"
    }
   ],
   "source": [
    "home_winners_df = match_details_df[(match_details_df['home'] == match_details_df['winner'])]"
   ]
  },
  {
   "cell_type": "markdown",
   "metadata": {},
   "source": [
    "### Getting the avg. if they have batted in first innings.  "
   ]
  },
  {
   "cell_type": "code",
   "execution_count": 20,
   "metadata": {
    "collapsed": false
   },
   "outputs": [],
   "source": [
    "home_inning1 = home_winners_df[[\"home\",\"innings1\",\"innings1_runs\"]].copy()\n",
    "home_inning1 = home_inning1[(home_inning1['home'] == home_inning1['innings1'])]"
   ]
  },
  {
   "cell_type": "code",
   "execution_count": 21,
   "metadata": {
    "collapsed": false
   },
   "outputs": [
    {
     "data": {
      "text/html": [
       "<div>\n",
       "<table border=\"1\" class=\"dataframe\">\n",
       "  <thead>\n",
       "    <tr style=\"text-align: right;\">\n",
       "      <th></th>\n",
       "      <th>home</th>\n",
       "      <th>innings1_runs</th>\n",
       "    </tr>\n",
       "  </thead>\n",
       "  <tbody>\n",
       "    <tr>\n",
       "      <th>0</th>\n",
       "      <td>Abahani Limited</td>\n",
       "      <td>172.000000</td>\n",
       "    </tr>\n",
       "    <tr>\n",
       "      <th>1</th>\n",
       "      <td>Abbottabad Falcons</td>\n",
       "      <td>155.333333</td>\n",
       "    </tr>\n",
       "    <tr>\n",
       "      <th>2</th>\n",
       "      <td>Abbottabad Region</td>\n",
       "      <td>198.000000</td>\n",
       "    </tr>\n",
       "    <tr>\n",
       "      <th>3</th>\n",
       "      <td>Abbottabad Rhinos</td>\n",
       "      <td>186.000000</td>\n",
       "    </tr>\n",
       "    <tr>\n",
       "      <th>4</th>\n",
       "      <td>Adelaide Strikers</td>\n",
       "      <td>183.333333</td>\n",
       "    </tr>\n",
       "  </tbody>\n",
       "</table>\n",
       "</div>"
      ],
      "text/plain": [
       "                 home  innings1_runs\n",
       "0     Abahani Limited     172.000000\n",
       "1  Abbottabad Falcons     155.333333\n",
       "2   Abbottabad Region     198.000000\n",
       "3   Abbottabad Rhinos     186.000000\n",
       "4   Adelaide Strikers     183.333333"
      ]
     },
     "execution_count": 21,
     "metadata": {},
     "output_type": "execute_result"
    }
   ],
   "source": [
    "home_inning1 = home_inning1.groupby('home', as_index=False)['innings1_runs'].mean()\n",
    "print(home_inning1.head(5))"
   ]
  },
  {
   "cell_type": "markdown",
   "metadata": {},
   "source": [
    "### getting the aveg. If they batted in second innings "
   ]
  },
  {
   "cell_type": "code",
   "execution_count": 22,
   "metadata": {
    "collapsed": false
   },
   "outputs": [],
   "source": [
    "home_inning2 = home_winners_df[[\"home\",\"innings2\",\"innings2_runs\"]].copy()\n",
    "home_inning2 = home_inning2[(home_inning2['home'] == home_inning2['innings2'])]"
   ]
  },
  {
   "cell_type": "code",
   "execution_count": 23,
   "metadata": {
    "collapsed": false
   },
   "outputs": [
    {
     "data": {
      "text/html": [
       "<div>\n",
       "<table border=\"1\" class=\"dataframe\">\n",
       "  <thead>\n",
       "    <tr style=\"text-align: right;\">\n",
       "      <th></th>\n",
       "      <th>home</th>\n",
       "      <th>innings2_runs</th>\n",
       "    </tr>\n",
       "  </thead>\n",
       "  <tbody>\n",
       "    <tr>\n",
       "      <th>0</th>\n",
       "      <td>Abbottabad Falcons</td>\n",
       "      <td>120.400000</td>\n",
       "    </tr>\n",
       "    <tr>\n",
       "      <th>1</th>\n",
       "      <td>Abbottabad Region</td>\n",
       "      <td>175.000000</td>\n",
       "    </tr>\n",
       "    <tr>\n",
       "      <th>2</th>\n",
       "      <td>Abbottabad Rhinos</td>\n",
       "      <td>144.000000</td>\n",
       "    </tr>\n",
       "    <tr>\n",
       "      <th>3</th>\n",
       "      <td>Adelaide Strikers</td>\n",
       "      <td>153.000000</td>\n",
       "    </tr>\n",
       "    <tr>\n",
       "      <th>4</th>\n",
       "      <td>Afghanistan</td>\n",
       "      <td>126.777778</td>\n",
       "    </tr>\n",
       "  </tbody>\n",
       "</table>\n",
       "</div>"
      ],
      "text/plain": [
       "                 home  innings2_runs\n",
       "0  Abbottabad Falcons     120.400000\n",
       "1   Abbottabad Region     175.000000\n",
       "2   Abbottabad Rhinos     144.000000\n",
       "3   Adelaide Strikers     153.000000\n",
       "4         Afghanistan     126.777778"
      ]
     },
     "execution_count": 23,
     "metadata": {},
     "output_type": "execute_result"
    }
   ],
   "source": [
    "home_inning2 = home_inning2.groupby('home', as_index=False)['innings2_runs'].mean()\n",
    "print(home_inning2.head(5))"
   ]
  },
  {
   "cell_type": "markdown",
   "metadata": {},
   "source": [
    "- Combining both results using outer join "
   ]
  },
  {
   "cell_type": "code",
   "execution_count": 24,
   "metadata": {
    "collapsed": false
   },
   "outputs": [
    {
     "data": {
      "text/html": [
       "<div>\n",
       "<table border=\"1\" class=\"dataframe\">\n",
       "  <thead>\n",
       "    <tr style=\"text-align: right;\">\n",
       "      <th></th>\n",
       "      <th>home</th>\n",
       "      <th>First_inning_avg</th>\n",
       "      <th>Second_inning_avg</th>\n",
       "    </tr>\n",
       "  </thead>\n",
       "  <tbody>\n",
       "    <tr>\n",
       "      <th>0</th>\n",
       "      <td>Abahani Limited</td>\n",
       "      <td>172.000000</td>\n",
       "      <td>NaN</td>\n",
       "    </tr>\n",
       "    <tr>\n",
       "      <th>1</th>\n",
       "      <td>Abbottabad Falcons</td>\n",
       "      <td>155.333333</td>\n",
       "      <td>120.4</td>\n",
       "    </tr>\n",
       "    <tr>\n",
       "      <th>2</th>\n",
       "      <td>Abbottabad Region</td>\n",
       "      <td>198.000000</td>\n",
       "      <td>175.0</td>\n",
       "    </tr>\n",
       "    <tr>\n",
       "      <th>3</th>\n",
       "      <td>Abbottabad Rhinos</td>\n",
       "      <td>186.000000</td>\n",
       "      <td>144.0</td>\n",
       "    </tr>\n",
       "    <tr>\n",
       "      <th>4</th>\n",
       "      <td>Adelaide Strikers</td>\n",
       "      <td>183.333333</td>\n",
       "      <td>153.0</td>\n",
       "    </tr>\n",
       "  </tbody>\n",
       "</table>\n",
       "</div>"
      ],
      "text/plain": [
       "                 home  First_inning_avg  Second_inning_avg\n",
       "0     Abahani Limited        172.000000                NaN\n",
       "1  Abbottabad Falcons        155.333333              120.4\n",
       "2   Abbottabad Region        198.000000              175.0\n",
       "3   Abbottabad Rhinos        186.000000              144.0\n",
       "4   Adelaide Strikers        183.333333              153.0"
      ]
     },
     "execution_count": 24,
     "metadata": {},
     "output_type": "execute_result"
    }
   ],
   "source": [
    "final_inning_df = pd.merge(home_inning1,home_inning2,on ='home' , how='outer')\n",
    "final_inning_df.columns = [\"home\",\"First_inning_avg\",\"Second_inning_avg\"]"
   ]
  },
  {
   "cell_type": "markdown",
   "metadata": {},
   "source": [
    "- Calculating final aveg."
   ]
  },
  {
   "cell_type": "code",
   "execution_count": 27,
   "metadata": {
    "collapsed": false
   },
   "outputs": [],
   "source": [
    "final_inning_df[\"Total\"] = final_inning_df[[\"First_inning_avg\",\"Second_inning_avg\"]].mean(axis=1)"
   ]
  },
  {
   "cell_type": "code",
   "execution_count": 35,
   "metadata": {
    "collapsed": false
   },
   "outputs": [
    {
     "data": {
      "text/html": [
       "<div>\n",
       "<table border=\"1\" class=\"dataframe\">\n",
       "  <thead>\n",
       "    <tr style=\"text-align: right;\">\n",
       "      <th></th>\n",
       "      <th>home</th>\n",
       "      <th>Total</th>\n",
       "    </tr>\n",
       "  </thead>\n",
       "  <tbody>\n",
       "    <tr>\n",
       "      <th>0</th>\n",
       "      <td>Abahani Limited</td>\n",
       "      <td>172</td>\n",
       "    </tr>\n",
       "    <tr>\n",
       "      <th>1</th>\n",
       "      <td>Abbottabad Falcons</td>\n",
       "      <td>137</td>\n",
       "    </tr>\n",
       "    <tr>\n",
       "      <th>2</th>\n",
       "      <td>Abbottabad Region</td>\n",
       "      <td>186</td>\n",
       "    </tr>\n",
       "    <tr>\n",
       "      <th>3</th>\n",
       "      <td>Abbottabad Rhinos</td>\n",
       "      <td>165</td>\n",
       "    </tr>\n",
       "    <tr>\n",
       "      <th>4</th>\n",
       "      <td>Adelaide Strikers</td>\n",
       "      <td>168</td>\n",
       "    </tr>\n",
       "  </tbody>\n",
       "</table>\n",
       "</div>"
      ],
      "text/plain": [
       "                 home  Total\n",
       "0     Abahani Limited    172\n",
       "1  Abbottabad Falcons    137\n",
       "2   Abbottabad Region    186\n",
       "3   Abbottabad Rhinos    165\n",
       "4   Adelaide Strikers    168"
      ]
     },
     "execution_count": 35,
     "metadata": {},
     "output_type": "execute_result"
    }
   ],
   "source": [
    "final_inning_df.drop('First_inning_avg', axis=1, inplace=True)\n",
    "final_inning_df.drop('Second_inning_avg', axis=1, inplace=True)\n",
    "final_inning_df[\"Total\"] = final_inning_df[\"Total\"].apply(np.int64)\n",
    "print(final_inning_df.head(5))"
   ]
  },
  {
   "cell_type": "code",
   "execution_count": 30,
   "metadata": {
    "collapsed": true
   },
   "outputs": [],
   "source": [
    "def save_to_csv():\n",
    "    if not os.path.exists(homedir+\"\\\\Assignment 3\\\\Output\\\\Question3\"):\n",
    "        os.makedirs(homedir+\"\\\\Assignment 3\\\\Output\\\\Question3\")\n",
    "    with open(homedir+'\\\\Assignment 3\\\\Output\\\\Question3\\\\Q3_ouptput.csv', 'w') as myfile:\n",
    "        myfile.write(final_inning_df.to_csv(index=False))"
   ]
  },
  {
   "cell_type": "code",
   "execution_count": null,
   "metadata": {
    "collapsed": true
   },
   "outputs": [],
   "source": [
    "save_to_csv()"
   ]
  }
 ],
 "metadata": {
  "anaconda-cloud": {},
  "kernelspec": {
   "display_name": "Python [conda root]",
   "language": "python",
   "name": "conda-root-py"
  },
  "language_info": {
   "codemirror_mode": {
    "name": "ipython",
    "version": 3
   },
   "file_extension": ".py",
   "mimetype": "text/x-python",
   "name": "python",
   "nbconvert_exporter": "python",
   "pygments_lexer": "ipython3",
   "version": "3.5.2"
  }
 },
 "nbformat": 4,
 "nbformat_minor": 1
}
