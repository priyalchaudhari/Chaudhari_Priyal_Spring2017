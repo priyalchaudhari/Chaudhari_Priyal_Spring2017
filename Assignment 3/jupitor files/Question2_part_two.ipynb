{
 "cells": [
  {
   "cell_type": "code",
   "execution_count": 1,
   "metadata": {
    "collapsed": true
   },
   "outputs": [],
   "source": [
    "import os\n",
    "from os import listdir\n",
    "from os.path import isfile, join\n",
    "import glob\n",
    "import string\n",
    "import operator\n",
    "import csv\n",
    "import pandas as pd\n",
    "import calendar\n",
    "import numpy as np"
   ]
  },
  {
   "cell_type": "code",
   "execution_count": 2,
   "metadata": {
    "collapsed": false
   },
   "outputs": [
    {
     "name": "stdout",
     "output_type": "stream",
     "text": [
      "C:\\Users\\priya\\Assignment 3\\Data\n"
     ]
    }
   ],
   "source": [
    "homedir = os.path.expanduser(\"~\")\n",
    "path_to_data = homedir+\"\\\\Assignment 3\\\\Data\"\n",
    "print(path_to_data)"
   ]
  },
  {
   "cell_type": "markdown",
   "metadata": {},
   "source": [
    "### Getting the data from CSV "
   ]
  },
  {
   "cell_type": "code",
   "execution_count": 3,
   "metadata": {
    "collapsed": false
   },
   "outputs": [
    {
     "data": {
      "text/html": [
       "<div>\n",
       "<table border=\"1\" class=\"dataframe\">\n",
       "  <thead>\n",
       "    <tr style=\"text-align: right;\">\n",
       "      <th></th>\n",
       "      <th>Year Type</th>\n",
       "      <th>Year</th>\n",
       "      <th>Organization Group Code</th>\n",
       "      <th>Organization Group</th>\n",
       "      <th>Department Code</th>\n",
       "      <th>Department</th>\n",
       "      <th>Union Code</th>\n",
       "      <th>Union</th>\n",
       "      <th>Job Family Code</th>\n",
       "      <th>Job Family</th>\n",
       "      <th>...</th>\n",
       "      <th>Employee Identifier</th>\n",
       "      <th>Salaries</th>\n",
       "      <th>Overtime</th>\n",
       "      <th>Other Salaries</th>\n",
       "      <th>Total Salary</th>\n",
       "      <th>Retirement</th>\n",
       "      <th>Health/Dental</th>\n",
       "      <th>Other Benefits</th>\n",
       "      <th>Total Benefits</th>\n",
       "      <th>Total Compensation</th>\n",
       "    </tr>\n",
       "  </thead>\n",
       "  <tbody>\n",
       "    <tr>\n",
       "      <th>0</th>\n",
       "      <td>Calendar</td>\n",
       "      <td>2013</td>\n",
       "      <td>2</td>\n",
       "      <td>Public Works, Transportation &amp; Commerce</td>\n",
       "      <td>AIR</td>\n",
       "      <td>Airport Commission</td>\n",
       "      <td>38.0</td>\n",
       "      <td>Plumbers and Pipefitters, Local 38</td>\n",
       "      <td>7300</td>\n",
       "      <td>Journeyman Trade</td>\n",
       "      <td>...</td>\n",
       "      <td>52206</td>\n",
       "      <td>98528.52</td>\n",
       "      <td>0.00</td>\n",
       "      <td>3955.59</td>\n",
       "      <td>102484.11</td>\n",
       "      <td>20142.55</td>\n",
       "      <td>12918.24</td>\n",
       "      <td>8371.76</td>\n",
       "      <td>41432.55</td>\n",
       "      <td>143916.66</td>\n",
       "    </tr>\n",
       "    <tr>\n",
       "      <th>1</th>\n",
       "      <td>Fiscal</td>\n",
       "      <td>2015</td>\n",
       "      <td>4</td>\n",
       "      <td>Community Health</td>\n",
       "      <td>DPH</td>\n",
       "      <td>Public Health</td>\n",
       "      <td>790.0</td>\n",
       "      <td>SEIU - Miscellaneous, Local 1021</td>\n",
       "      <td>2600</td>\n",
       "      <td>Dietary &amp; Food</td>\n",
       "      <td>...</td>\n",
       "      <td>52950</td>\n",
       "      <td>69169.82</td>\n",
       "      <td>755.02</td>\n",
       "      <td>4179.08</td>\n",
       "      <td>74103.92</td>\n",
       "      <td>15641.92</td>\n",
       "      <td>12499.30</td>\n",
       "      <td>5669.02</td>\n",
       "      <td>33810.24</td>\n",
       "      <td>107914.16</td>\n",
       "    </tr>\n",
       "  </tbody>\n",
       "</table>\n",
       "<p>2 rows × 22 columns</p>\n",
       "</div>"
      ],
      "text/plain": [
       "  Year Type  Year  Organization Group Code  \\\n",
       "0  Calendar  2013                        2   \n",
       "1    Fiscal  2015                        4   \n",
       "\n",
       "                        Organization Group Department Code  \\\n",
       "0  Public Works, Transportation & Commerce             AIR   \n",
       "1                         Community Health             DPH   \n",
       "\n",
       "           Department  Union Code                               Union  \\\n",
       "0  Airport Commission        38.0  Plumbers and Pipefitters, Local 38   \n",
       "1       Public Health       790.0    SEIU - Miscellaneous, Local 1021   \n",
       "\n",
       "  Job Family Code        Job Family         ...         Employee Identifier  \\\n",
       "0            7300  Journeyman Trade         ...                       52206   \n",
       "1            2600    Dietary & Food         ...                       52950   \n",
       "\n",
       "   Salaries  Overtime  Other Salaries  Total Salary  Retirement  \\\n",
       "0  98528.52      0.00         3955.59     102484.11    20142.55   \n",
       "1  69169.82    755.02         4179.08      74103.92    15641.92   \n",
       "\n",
       "   Health/Dental  Other Benefits  Total Benefits  Total Compensation  \n",
       "0       12918.24         8371.76        41432.55           143916.66  \n",
       "1       12499.30         5669.02        33810.24           107914.16  \n",
       "\n",
       "[2 rows x 22 columns]"
      ]
     },
     "execution_count": 3,
     "metadata": {},
     "output_type": "execute_result"
    }
   ],
   "source": [
    "output_dist={}\n",
    "for subdir,dirs, files in os.walk(path_to_data):\n",
    "    #print(files)\n",
    "    for file in files:\n",
    "        if file == 'employee_compensation.csv':\n",
    "            #print(file)\n",
    "            csv_data1=pd.read_csv(os.path.join(subdir,file))\n",
    "print(csv_data1.head(2))"
   ]
  },
  {
   "cell_type": "markdown",
   "metadata": {},
   "source": [
    "### Getting only relevant columns  "
   ]
  },
  {
   "cell_type": "code",
   "execution_count": 4,
   "metadata": {
    "collapsed": false
   },
   "outputs": [
    {
     "data": {
      "text/html": [
       "<div>\n",
       "<table border=\"1\" class=\"dataframe\">\n",
       "  <thead>\n",
       "    <tr style=\"text-align: right;\">\n",
       "      <th></th>\n",
       "      <th>Year Type</th>\n",
       "      <th>Employee Identifier</th>\n",
       "      <th>Job Family</th>\n",
       "      <th>Salaries</th>\n",
       "      <th>Overtime</th>\n",
       "      <th>Total Benefits</th>\n",
       "      <th>Total Compensation</th>\n",
       "    </tr>\n",
       "  </thead>\n",
       "  <tbody>\n",
       "    <tr>\n",
       "      <th>0</th>\n",
       "      <td>Calendar</td>\n",
       "      <td>52206</td>\n",
       "      <td>Journeyman Trade</td>\n",
       "      <td>98528.52</td>\n",
       "      <td>0.00</td>\n",
       "      <td>41432.55</td>\n",
       "      <td>143916.66</td>\n",
       "    </tr>\n",
       "    <tr>\n",
       "      <th>1</th>\n",
       "      <td>Fiscal</td>\n",
       "      <td>52950</td>\n",
       "      <td>Dietary &amp; Food</td>\n",
       "      <td>69169.82</td>\n",
       "      <td>755.02</td>\n",
       "      <td>33810.24</td>\n",
       "      <td>107914.16</td>\n",
       "    </tr>\n",
       "  </tbody>\n",
       "</table>\n",
       "</div>"
      ],
      "text/plain": [
       "  Year Type  Employee Identifier        Job Family  Salaries  Overtime  \\\n",
       "0  Calendar                52206  Journeyman Trade  98528.52      0.00   \n",
       "1    Fiscal                52950    Dietary & Food  69169.82    755.02   \n",
       "\n",
       "   Total Benefits  Total Compensation  \n",
       "0        41432.55           143916.66  \n",
       "1        33810.24           107914.16  "
      ]
     },
     "execution_count": 4,
     "metadata": {},
     "output_type": "execute_result"
    }
   ],
   "source": [
    "employee_df = csv_data1[[\"Year Type\",\"Employee Identifier\",\"Job Family\",\"Salaries\",\"Overtime\",\"Total Benefits\",\"Total Compensation\"]].copy()\n",
    "print(employee_df.head(2))"
   ]
  },
  {
   "cell_type": "markdown",
   "metadata": {},
   "source": [
    "# getting only Employees for  calender year"
   ]
  },
  {
   "cell_type": "code",
   "execution_count": 5,
   "metadata": {
    "collapsed": false
   },
   "outputs": [
    {
     "data": {
      "text/html": [
       "<div>\n",
       "<table border=\"1\" class=\"dataframe\">\n",
       "  <thead>\n",
       "    <tr style=\"text-align: right;\">\n",
       "      <th></th>\n",
       "      <th>Year Type</th>\n",
       "      <th>Employee Identifier</th>\n",
       "      <th>Job Family</th>\n",
       "      <th>Salaries</th>\n",
       "      <th>Overtime</th>\n",
       "      <th>Total Benefits</th>\n",
       "      <th>Total Compensation</th>\n",
       "    </tr>\n",
       "  </thead>\n",
       "  <tbody>\n",
       "    <tr>\n",
       "      <th>0</th>\n",
       "      <td>Calendar</td>\n",
       "      <td>52206</td>\n",
       "      <td>Journeyman Trade</td>\n",
       "      <td>98528.52</td>\n",
       "      <td>0.00</td>\n",
       "      <td>41432.55</td>\n",
       "      <td>143916.66</td>\n",
       "    </tr>\n",
       "    <tr>\n",
       "      <th>2</th>\n",
       "      <td>Calendar</td>\n",
       "      <td>33958</td>\n",
       "      <td>Management</td>\n",
       "      <td>200.00</td>\n",
       "      <td>0.00</td>\n",
       "      <td>67.28</td>\n",
       "      <td>267.28</td>\n",
       "    </tr>\n",
       "    <tr>\n",
       "      <th>3</th>\n",
       "      <td>Calendar</td>\n",
       "      <td>33073</td>\n",
       "      <td>Legal &amp; Court</td>\n",
       "      <td>1783.00</td>\n",
       "      <td>0.00</td>\n",
       "      <td>736.13</td>\n",
       "      <td>2519.13</td>\n",
       "    </tr>\n",
       "    <tr>\n",
       "      <th>5</th>\n",
       "      <td>Calendar</td>\n",
       "      <td>23930</td>\n",
       "      <td>Clerical, Secretarial &amp; Steno</td>\n",
       "      <td>80207.24</td>\n",
       "      <td>2232.53</td>\n",
       "      <td>35843.78</td>\n",
       "      <td>119851.55</td>\n",
       "    </tr>\n",
       "    <tr>\n",
       "      <th>7</th>\n",
       "      <td>Calendar</td>\n",
       "      <td>38054</td>\n",
       "      <td>Public Service Aide</td>\n",
       "      <td>24180.00</td>\n",
       "      <td>0.00</td>\n",
       "      <td>11956.70</td>\n",
       "      <td>36136.70</td>\n",
       "    </tr>\n",
       "  </tbody>\n",
       "</table>\n",
       "</div>"
      ],
      "text/plain": [
       "  Year Type  Employee Identifier                     Job Family  Salaries  \\\n",
       "0  Calendar                52206               Journeyman Trade  98528.52   \n",
       "2  Calendar                33958                     Management    200.00   \n",
       "3  Calendar                33073                  Legal & Court   1783.00   \n",
       "5  Calendar                23930  Clerical, Secretarial & Steno  80207.24   \n",
       "7  Calendar                38054            Public Service Aide  24180.00   \n",
       "\n",
       "   Overtime  Total Benefits  Total Compensation  \n",
       "0      0.00        41432.55           143916.66  \n",
       "2      0.00           67.28              267.28  \n",
       "3      0.00          736.13             2519.13  \n",
       "5   2232.53        35843.78           119851.55  \n",
       "7      0.00        11956.70            36136.70  "
      ]
     },
     "execution_count": 5,
     "metadata": {},
     "output_type": "execute_result"
    }
   ],
   "source": [
    "employee_df = employee_df[(employee_df['Year Type'] == 'Calendar')]\n",
    "print(employee_df.head(5))"
   ]
  },
  {
   "cell_type": "markdown",
   "metadata": {},
   "source": [
    "### Mean of total compansation"
   ]
  },
  {
   "cell_type": "code",
   "execution_count": 6,
   "metadata": {
    "collapsed": false
   },
   "outputs": [
    {
     "data": {
      "text/html": [
       "<div>\n",
       "<table border=\"1\" class=\"dataframe\">\n",
       "  <thead>\n",
       "    <tr style=\"text-align: right;\">\n",
       "      <th></th>\n",
       "      <th>Employee Identifier</th>\n",
       "      <th>Total Compensation</th>\n",
       "    </tr>\n",
       "  </thead>\n",
       "  <tbody>\n",
       "    <tr>\n",
       "      <th>0</th>\n",
       "      <td>1</td>\n",
       "      <td>60577.913333</td>\n",
       "    </tr>\n",
       "    <tr>\n",
       "      <th>1</th>\n",
       "      <td>2</td>\n",
       "      <td>15741.910000</td>\n",
       "    </tr>\n",
       "    <tr>\n",
       "      <th>2</th>\n",
       "      <td>3</td>\n",
       "      <td>21237.550000</td>\n",
       "    </tr>\n",
       "    <tr>\n",
       "      <th>3</th>\n",
       "      <td>4</td>\n",
       "      <td>26526.275000</td>\n",
       "    </tr>\n",
       "    <tr>\n",
       "      <th>4</th>\n",
       "      <td>5</td>\n",
       "      <td>22415.950000</td>\n",
       "    </tr>\n",
       "  </tbody>\n",
       "</table>\n",
       "</div>"
      ],
      "text/plain": [
       "   Employee Identifier  Total Compensation\n",
       "0                    1        60577.913333\n",
       "1                    2        15741.910000\n",
       "2                    3        21237.550000\n",
       "3                    4        26526.275000\n",
       "4                    5        22415.950000"
      ]
     },
     "execution_count": 6,
     "metadata": {},
     "output_type": "execute_result"
    }
   ],
   "source": [
    "employee_df_total_com = employee_df.groupby('Employee Identifier', as_index=False)['Total Compensation'].mean()\n",
    "print(employee_df_total_com.head(5))"
   ]
  },
  {
   "cell_type": "markdown",
   "metadata": {},
   "source": [
    "### Calculating mean for total benefits "
   ]
  },
  {
   "cell_type": "code",
   "execution_count": 7,
   "metadata": {
    "collapsed": false
   },
   "outputs": [
    {
     "data": {
      "text/html": [
       "<div>\n",
       "<table border=\"1\" class=\"dataframe\">\n",
       "  <thead>\n",
       "    <tr style=\"text-align: right;\">\n",
       "      <th></th>\n",
       "      <th>Employee Identifier</th>\n",
       "      <th>Total Benefits</th>\n",
       "    </tr>\n",
       "  </thead>\n",
       "  <tbody>\n",
       "    <tr>\n",
       "      <th>0</th>\n",
       "      <td>1</td>\n",
       "      <td>20213.936667</td>\n",
       "    </tr>\n",
       "    <tr>\n",
       "      <th>1</th>\n",
       "      <td>2</td>\n",
       "      <td>4680.210000</td>\n",
       "    </tr>\n",
       "    <tr>\n",
       "      <th>2</th>\n",
       "      <td>3</td>\n",
       "      <td>6550.720000</td>\n",
       "    </tr>\n",
       "    <tr>\n",
       "      <th>3</th>\n",
       "      <td>4</td>\n",
       "      <td>7741.395000</td>\n",
       "    </tr>\n",
       "    <tr>\n",
       "      <th>4</th>\n",
       "      <td>5</td>\n",
       "      <td>2885.545000</td>\n",
       "    </tr>\n",
       "  </tbody>\n",
       "</table>\n",
       "</div>"
      ],
      "text/plain": [
       "   Employee Identifier  Total Benefits\n",
       "0                    1    20213.936667\n",
       "1                    2     4680.210000\n",
       "2                    3     6550.720000\n",
       "3                    4     7741.395000\n",
       "4                    5     2885.545000"
      ]
     },
     "execution_count": 7,
     "metadata": {},
     "output_type": "execute_result"
    }
   ],
   "source": [
    "employee_df_total_benifit = employee_df.groupby('Employee Identifier', as_index=False)['Total Benefits'].mean()\n",
    "print(employee_df_total_benifit.head(5))"
   ]
  },
  {
   "cell_type": "markdown",
   "metadata": {},
   "source": [
    "# Joining both frames to get final frame with mean of both columns "
   ]
  },
  {
   "cell_type": "code",
   "execution_count": 8,
   "metadata": {
    "collapsed": false
   },
   "outputs": [
    {
     "data": {
      "text/html": [
       "<div>\n",
       "<table border=\"1\" class=\"dataframe\">\n",
       "  <thead>\n",
       "    <tr style=\"text-align: right;\">\n",
       "      <th></th>\n",
       "      <th>Employee Identifier</th>\n",
       "      <th>Total Compensation</th>\n",
       "      <th>Total Benefits</th>\n",
       "    </tr>\n",
       "  </thead>\n",
       "  <tbody>\n",
       "    <tr>\n",
       "      <th>0</th>\n",
       "      <td>1</td>\n",
       "      <td>60577.913333</td>\n",
       "      <td>20213.936667</td>\n",
       "    </tr>\n",
       "    <tr>\n",
       "      <th>1</th>\n",
       "      <td>2</td>\n",
       "      <td>15741.910000</td>\n",
       "      <td>4680.210000</td>\n",
       "    </tr>\n",
       "    <tr>\n",
       "      <th>2</th>\n",
       "      <td>3</td>\n",
       "      <td>21237.550000</td>\n",
       "      <td>6550.720000</td>\n",
       "    </tr>\n",
       "    <tr>\n",
       "      <th>3</th>\n",
       "      <td>4</td>\n",
       "      <td>26526.275000</td>\n",
       "      <td>7741.395000</td>\n",
       "    </tr>\n",
       "    <tr>\n",
       "      <th>4</th>\n",
       "      <td>5</td>\n",
       "      <td>22415.950000</td>\n",
       "      <td>2885.545000</td>\n",
       "    </tr>\n",
       "  </tbody>\n",
       "</table>\n",
       "</div>"
      ],
      "text/plain": [
       "   Employee Identifier  Total Compensation  Total Benefits\n",
       "0                    1        60577.913333    20213.936667\n",
       "1                    2        15741.910000     4680.210000\n",
       "2                    3        21237.550000     6550.720000\n",
       "3                    4        26526.275000     7741.395000\n",
       "4                    5        22415.950000     2885.545000"
      ]
     },
     "execution_count": 8,
     "metadata": {},
     "output_type": "execute_result"
    }
   ],
   "source": [
    "final_df = pd.merge(employee_df_total_com,employee_df_total_benifit,on ='Employee Identifier' , how='inner')\n",
    "final_df.columns = [\"Employee Identifier\",\"Total Compensation\",\"Total Benefits\"]\n",
    "print(final_df.head(5))"
   ]
  },
  {
   "cell_type": "markdown",
   "metadata": {},
   "source": [
    "### Getting data for employees whos overtime is more than 5% of salaries "
   ]
  },
  {
   "cell_type": "code",
   "execution_count": 9,
   "metadata": {
    "collapsed": false
   },
   "outputs": [
    {
     "data": {
      "text/html": [
       "<div>\n",
       "<table border=\"1\" class=\"dataframe\">\n",
       "  <thead>\n",
       "    <tr style=\"text-align: right;\">\n",
       "      <th></th>\n",
       "      <th>Year Type</th>\n",
       "      <th>Employee Identifier</th>\n",
       "      <th>Job Family</th>\n",
       "      <th>Salaries</th>\n",
       "      <th>Overtime</th>\n",
       "      <th>Total Benefits</th>\n",
       "      <th>Total Compensation</th>\n",
       "    </tr>\n",
       "  </thead>\n",
       "  <tbody>\n",
       "    <tr>\n",
       "      <th>14</th>\n",
       "      <td>Calendar</td>\n",
       "      <td>23029</td>\n",
       "      <td>Agriculture &amp; Horticulture</td>\n",
       "      <td>63978.00</td>\n",
       "      <td>17039.61</td>\n",
       "      <td>34064.57</td>\n",
       "      <td>117266.41</td>\n",
       "    </tr>\n",
       "    <tr>\n",
       "      <th>23</th>\n",
       "      <td>Calendar</td>\n",
       "      <td>20763</td>\n",
       "      <td>Administrative-Labor &amp; Trades</td>\n",
       "      <td>133977.95</td>\n",
       "      <td>20699.15</td>\n",
       "      <td>48600.84</td>\n",
       "      <td>203277.94</td>\n",
       "    </tr>\n",
       "    <tr>\n",
       "      <th>38</th>\n",
       "      <td>Calendar</td>\n",
       "      <td>8705</td>\n",
       "      <td>Journeyman Trade</td>\n",
       "      <td>86530.02</td>\n",
       "      <td>17962.95</td>\n",
       "      <td>40912.58</td>\n",
       "      <td>155960.76</td>\n",
       "    </tr>\n",
       "    <tr>\n",
       "      <th>40</th>\n",
       "      <td>Calendar</td>\n",
       "      <td>13888</td>\n",
       "      <td>Police Services</td>\n",
       "      <td>117139.22</td>\n",
       "      <td>20576.29</td>\n",
       "      <td>37835.64</td>\n",
       "      <td>181298.64</td>\n",
       "    </tr>\n",
       "    <tr>\n",
       "      <th>44</th>\n",
       "      <td>Calendar</td>\n",
       "      <td>38574</td>\n",
       "      <td>Fire Services</td>\n",
       "      <td>130341.65</td>\n",
       "      <td>29607.28</td>\n",
       "      <td>46842.09</td>\n",
       "      <td>223083.84</td>\n",
       "    </tr>\n",
       "  </tbody>\n",
       "</table>\n",
       "</div>"
      ],
      "text/plain": [
       "   Year Type  Employee Identifier                     Job Family   Salaries  \\\n",
       "14  Calendar                23029     Agriculture & Horticulture   63978.00   \n",
       "23  Calendar                20763  Administrative-Labor & Trades  133977.95   \n",
       "38  Calendar                 8705               Journeyman Trade   86530.02   \n",
       "40  Calendar                13888                Police Services  117139.22   \n",
       "44  Calendar                38574                  Fire Services  130341.65   \n",
       "\n",
       "    Overtime  Total Benefits  Total Compensation  \n",
       "14  17039.61        34064.57           117266.41  \n",
       "23  20699.15        48600.84           203277.94  \n",
       "38  17962.95        40912.58           155960.76  \n",
       "40  20576.29        37835.64           181298.64  \n",
       "44  29607.28        46842.09           223083.84  "
      ]
     },
     "execution_count": 9,
     "metadata": {},
     "output_type": "execute_result"
    }
   ],
   "source": [
    "salaries_df = employee_df[(employee_df['Overtime'] > 0.05*employee_df['Salaries'])]\n",
    "print(salaries_df.head(5))"
   ]
  },
  {
   "cell_type": "code",
   "execution_count": 10,
   "metadata": {
    "collapsed": false
   },
   "outputs": [
    {
     "data": {
      "text/html": [
       "<div>\n",
       "<table border=\"1\" class=\"dataframe\">\n",
       "  <thead>\n",
       "    <tr style=\"text-align: right;\">\n",
       "      <th></th>\n",
       "      <th>Job Family</th>\n",
       "      <th>Total Benefits</th>\n",
       "      <th>Total Compensation</th>\n",
       "    </tr>\n",
       "  </thead>\n",
       "  <tbody>\n",
       "    <tr>\n",
       "      <th>14</th>\n",
       "      <td>Agriculture &amp; Horticulture</td>\n",
       "      <td>34064.57</td>\n",
       "      <td>117266.41</td>\n",
       "    </tr>\n",
       "    <tr>\n",
       "      <th>23</th>\n",
       "      <td>Administrative-Labor &amp; Trades</td>\n",
       "      <td>48600.84</td>\n",
       "      <td>203277.94</td>\n",
       "    </tr>\n",
       "    <tr>\n",
       "      <th>38</th>\n",
       "      <td>Journeyman Trade</td>\n",
       "      <td>40912.58</td>\n",
       "      <td>155960.76</td>\n",
       "    </tr>\n",
       "    <tr>\n",
       "      <th>40</th>\n",
       "      <td>Police Services</td>\n",
       "      <td>37835.64</td>\n",
       "      <td>181298.64</td>\n",
       "    </tr>\n",
       "    <tr>\n",
       "      <th>44</th>\n",
       "      <td>Fire Services</td>\n",
       "      <td>46842.09</td>\n",
       "      <td>223083.84</td>\n",
       "    </tr>\n",
       "  </tbody>\n",
       "</table>\n",
       "</div>"
      ],
      "text/plain": [
       "                       Job Family  Total Benefits  Total Compensation\n",
       "14     Agriculture & Horticulture        34064.57           117266.41\n",
       "23  Administrative-Labor & Trades        48600.84           203277.94\n",
       "38               Journeyman Trade        40912.58           155960.76\n",
       "40                Police Services        37835.64           181298.64\n",
       "44                  Fire Services        46842.09           223083.84"
      ]
     },
     "execution_count": 10,
     "metadata": {},
     "output_type": "execute_result"
    }
   ],
   "source": [
    "job_family_df = salaries_df[[\"Job Family\",\"Total Benefits\",\"Total Compensation\"]].copy()"
   ]
  },
  {
   "cell_type": "markdown",
   "metadata": {},
   "source": [
    "# Calculating the mean of both columns "
   ]
  },
  {
   "cell_type": "code",
   "execution_count": 11,
   "metadata": {
    "collapsed": false
   },
   "outputs": [
    {
     "data": {
      "text/html": [
       "<div>\n",
       "<table border=\"1\" class=\"dataframe\">\n",
       "  <thead>\n",
       "    <tr style=\"text-align: right;\">\n",
       "      <th></th>\n",
       "      <th>Job Family</th>\n",
       "      <th>Total Benefits</th>\n",
       "    </tr>\n",
       "  </thead>\n",
       "  <tbody>\n",
       "    <tr>\n",
       "      <th>0</th>\n",
       "      <td>Administrative-DPW/PUC</td>\n",
       "      <td>51357.650000</td>\n",
       "    </tr>\n",
       "    <tr>\n",
       "      <th>1</th>\n",
       "      <td>Administrative-Labor &amp; Trades</td>\n",
       "      <td>40301.818718</td>\n",
       "    </tr>\n",
       "    <tr>\n",
       "      <th>2</th>\n",
       "      <td>Agriculture &amp; Horticulture</td>\n",
       "      <td>29578.258462</td>\n",
       "    </tr>\n",
       "    <tr>\n",
       "      <th>3</th>\n",
       "      <td>Airport Operation</td>\n",
       "      <td>34531.437719</td>\n",
       "    </tr>\n",
       "    <tr>\n",
       "      <th>4</th>\n",
       "      <td>Budget, Admn &amp; Stats Analysis</td>\n",
       "      <td>26404.129524</td>\n",
       "    </tr>\n",
       "  </tbody>\n",
       "</table>\n",
       "</div>"
      ],
      "text/plain": [
       "                      Job Family  Total Benefits\n",
       "0         Administrative-DPW/PUC    51357.650000\n",
       "1  Administrative-Labor & Trades    40301.818718\n",
       "2     Agriculture & Horticulture    29578.258462\n",
       "3              Airport Operation    34531.437719\n",
       "4  Budget, Admn & Stats Analysis    26404.129524"
      ]
     },
     "execution_count": 11,
     "metadata": {},
     "output_type": "execute_result"
    }
   ],
   "source": [
    "job_family_total_benifits = job_family_df.groupby('Job Family', as_index=False)['Total Benefits'].mean()\n",
    "print(job_family_total_benifits.head(5))"
   ]
  },
  {
   "cell_type": "code",
   "execution_count": 12,
   "metadata": {
    "collapsed": false
   },
   "outputs": [
    {
     "data": {
      "text/html": [
       "<div>\n",
       "<table border=\"1\" class=\"dataframe\">\n",
       "  <thead>\n",
       "    <tr style=\"text-align: right;\">\n",
       "      <th></th>\n",
       "      <th>Job Family</th>\n",
       "      <th>Total Compensation</th>\n",
       "    </tr>\n",
       "  </thead>\n",
       "  <tbody>\n",
       "    <tr>\n",
       "      <th>0</th>\n",
       "      <td>Administrative-DPW/PUC</td>\n",
       "      <td>211601.430000</td>\n",
       "    </tr>\n",
       "    <tr>\n",
       "      <th>1</th>\n",
       "      <td>Administrative-Labor &amp; Trades</td>\n",
       "      <td>183350.857436</td>\n",
       "    </tr>\n",
       "    <tr>\n",
       "      <th>2</th>\n",
       "      <td>Agriculture &amp; Horticulture</td>\n",
       "      <td>100279.346697</td>\n",
       "    </tr>\n",
       "    <tr>\n",
       "      <th>3</th>\n",
       "      <td>Airport Operation</td>\n",
       "      <td>126629.480938</td>\n",
       "    </tr>\n",
       "    <tr>\n",
       "      <th>4</th>\n",
       "      <td>Budget, Admn &amp; Stats Analysis</td>\n",
       "      <td>91785.631667</td>\n",
       "    </tr>\n",
       "  </tbody>\n",
       "</table>\n",
       "</div>"
      ],
      "text/plain": [
       "                      Job Family  Total Compensation\n",
       "0         Administrative-DPW/PUC       211601.430000\n",
       "1  Administrative-Labor & Trades       183350.857436\n",
       "2     Agriculture & Horticulture       100279.346697\n",
       "3              Airport Operation       126629.480938\n",
       "4  Budget, Admn & Stats Analysis        91785.631667"
      ]
     },
     "execution_count": 12,
     "metadata": {},
     "output_type": "execute_result"
    }
   ],
   "source": [
    "job_family_total_comp = job_family_df.groupby('Job Family', as_index=False)['Total Compensation'].mean()\n",
    "print(job_family_total_comp.head(5))"
   ]
  },
  {
   "cell_type": "markdown",
   "metadata": {},
   "source": [
    "## Joining both data frames "
   ]
  },
  {
   "cell_type": "code",
   "execution_count": 13,
   "metadata": {
    "collapsed": false
   },
   "outputs": [
    {
     "data": {
      "text/html": [
       "<div>\n",
       "<table border=\"1\" class=\"dataframe\">\n",
       "  <thead>\n",
       "    <tr style=\"text-align: right;\">\n",
       "      <th></th>\n",
       "      <th>Job Family</th>\n",
       "      <th>Total Benefits</th>\n",
       "      <th>Total Compensation</th>\n",
       "    </tr>\n",
       "  </thead>\n",
       "  <tbody>\n",
       "    <tr>\n",
       "      <th>0</th>\n",
       "      <td>Administrative-DPW/PUC</td>\n",
       "      <td>51357.650000</td>\n",
       "      <td>211601.430000</td>\n",
       "    </tr>\n",
       "    <tr>\n",
       "      <th>1</th>\n",
       "      <td>Administrative-Labor &amp; Trades</td>\n",
       "      <td>40301.818718</td>\n",
       "      <td>183350.857436</td>\n",
       "    </tr>\n",
       "    <tr>\n",
       "      <th>2</th>\n",
       "      <td>Agriculture &amp; Horticulture</td>\n",
       "      <td>29578.258462</td>\n",
       "      <td>100279.346697</td>\n",
       "    </tr>\n",
       "    <tr>\n",
       "      <th>3</th>\n",
       "      <td>Airport Operation</td>\n",
       "      <td>34531.437719</td>\n",
       "      <td>126629.480938</td>\n",
       "    </tr>\n",
       "    <tr>\n",
       "      <th>4</th>\n",
       "      <td>Budget, Admn &amp; Stats Analysis</td>\n",
       "      <td>26404.129524</td>\n",
       "      <td>91785.631667</td>\n",
       "    </tr>\n",
       "  </tbody>\n",
       "</table>\n",
       "</div>"
      ],
      "text/plain": [
       "                      Job Family  Total Benefits  Total Compensation\n",
       "0         Administrative-DPW/PUC    51357.650000       211601.430000\n",
       "1  Administrative-Labor & Trades    40301.818718       183350.857436\n",
       "2     Agriculture & Horticulture    29578.258462       100279.346697\n",
       "3              Airport Operation    34531.437719       126629.480938\n",
       "4  Budget, Admn & Stats Analysis    26404.129524        91785.631667"
      ]
     },
     "execution_count": 13,
     "metadata": {},
     "output_type": "execute_result"
    }
   ],
   "source": [
    "final_job_family_df = pd.merge(job_family_total_benifits,job_family_total_comp,on ='Job Family' , how='inner')\n",
    "final_job_family_df.columns = [\"Job Family\",\"Total Benefits\",\"Total Compensation\"]\n",
    "print(final_job_family_df.head(5))"
   ]
  },
  {
   "cell_type": "code",
   "execution_count": 14,
   "metadata": {
    "collapsed": false
   },
   "outputs": [
    {
     "data": {
      "text/html": [
       "<div>\n",
       "<table border=\"1\" class=\"dataframe\">\n",
       "  <thead>\n",
       "    <tr style=\"text-align: right;\">\n",
       "      <th></th>\n",
       "      <th>Job Family</th>\n",
       "      <th>Total Benefits</th>\n",
       "      <th>Total Compensation</th>\n",
       "      <th>Percentage</th>\n",
       "    </tr>\n",
       "  </thead>\n",
       "  <tbody>\n",
       "    <tr>\n",
       "      <th>0</th>\n",
       "      <td>Administrative-DPW/PUC</td>\n",
       "      <td>51357.650000</td>\n",
       "      <td>211601.430000</td>\n",
       "      <td>24.270937</td>\n",
       "    </tr>\n",
       "    <tr>\n",
       "      <th>1</th>\n",
       "      <td>Administrative-Labor &amp; Trades</td>\n",
       "      <td>40301.818718</td>\n",
       "      <td>183350.857436</td>\n",
       "      <td>21.980709</td>\n",
       "    </tr>\n",
       "    <tr>\n",
       "      <th>2</th>\n",
       "      <td>Agriculture &amp; Horticulture</td>\n",
       "      <td>29578.258462</td>\n",
       "      <td>100279.346697</td>\n",
       "      <td>29.495863</td>\n",
       "    </tr>\n",
       "    <tr>\n",
       "      <th>3</th>\n",
       "      <td>Airport Operation</td>\n",
       "      <td>34531.437719</td>\n",
       "      <td>126629.480938</td>\n",
       "      <td>27.269667</td>\n",
       "    </tr>\n",
       "    <tr>\n",
       "      <th>4</th>\n",
       "      <td>Budget, Admn &amp; Stats Analysis</td>\n",
       "      <td>26404.129524</td>\n",
       "      <td>91785.631667</td>\n",
       "      <td>28.767171</td>\n",
       "    </tr>\n",
       "    <tr>\n",
       "      <th>5</th>\n",
       "      <td>Clerical, Secretarial &amp; Steno</td>\n",
       "      <td>11203.637916</td>\n",
       "      <td>37675.828898</td>\n",
       "      <td>29.736938</td>\n",
       "    </tr>\n",
       "    <tr>\n",
       "      <th>6</th>\n",
       "      <td>Community Development</td>\n",
       "      <td>229.670000</td>\n",
       "      <td>735.110000</td>\n",
       "      <td>31.242943</td>\n",
       "    </tr>\n",
       "    <tr>\n",
       "      <th>7</th>\n",
       "      <td>Computer Operatns &amp; Repro Svcs</td>\n",
       "      <td>22222.893901</td>\n",
       "      <td>73466.205461</td>\n",
       "      <td>30.249138</td>\n",
       "    </tr>\n",
       "    <tr>\n",
       "      <th>8</th>\n",
       "      <td>Construction Inspection</td>\n",
       "      <td>34578.044644</td>\n",
       "      <td>130123.717865</td>\n",
       "      <td>26.573207</td>\n",
       "    </tr>\n",
       "    <tr>\n",
       "      <th>9</th>\n",
       "      <td>Correction &amp; Detention</td>\n",
       "      <td>35272.274437</td>\n",
       "      <td>153870.789226</td>\n",
       "      <td>22.923308</td>\n",
       "    </tr>\n",
       "    <tr>\n",
       "      <th>10</th>\n",
       "      <td>Dietary &amp; Food</td>\n",
       "      <td>18344.154662</td>\n",
       "      <td>61278.415288</td>\n",
       "      <td>29.935752</td>\n",
       "    </tr>\n",
       "    <tr>\n",
       "      <th>11</th>\n",
       "      <td>Emergency Services</td>\n",
       "      <td>12765.360000</td>\n",
       "      <td>44038.855000</td>\n",
       "      <td>28.986585</td>\n",
       "    </tr>\n",
       "    <tr>\n",
       "      <th>12</th>\n",
       "      <td>Energy &amp; Environment</td>\n",
       "      <td>3309.920000</td>\n",
       "      <td>12759.420000</td>\n",
       "      <td>25.940991</td>\n",
       "    </tr>\n",
       "    <tr>\n",
       "      <th>13</th>\n",
       "      <td>Fire Services</td>\n",
       "      <td>41434.131988</td>\n",
       "      <td>203525.467851</td>\n",
       "      <td>20.358205</td>\n",
       "    </tr>\n",
       "    <tr>\n",
       "      <th>14</th>\n",
       "      <td>Health &amp; Sanitation Inspection</td>\n",
       "      <td>38702.501818</td>\n",
       "      <td>141710.384545</td>\n",
       "      <td>27.310985</td>\n",
       "    </tr>\n",
       "    <tr>\n",
       "      <th>15</th>\n",
       "      <td>Hospital Administration</td>\n",
       "      <td>31508.771795</td>\n",
       "      <td>107011.031667</td>\n",
       "      <td>29.444415</td>\n",
       "    </tr>\n",
       "    <tr>\n",
       "      <th>16</th>\n",
       "      <td>Housekeeping &amp; Laundry</td>\n",
       "      <td>27542.950639</td>\n",
       "      <td>89353.140639</td>\n",
       "      <td>30.824827</td>\n",
       "    </tr>\n",
       "    <tr>\n",
       "      <th>17</th>\n",
       "      <td>Human Services</td>\n",
       "      <td>30504.521495</td>\n",
       "      <td>107980.903442</td>\n",
       "      <td>28.249922</td>\n",
       "    </tr>\n",
       "    <tr>\n",
       "      <th>18</th>\n",
       "      <td>Information Systems</td>\n",
       "      <td>25485.276618</td>\n",
       "      <td>90188.009853</td>\n",
       "      <td>28.257943</td>\n",
       "    </tr>\n",
       "    <tr>\n",
       "      <th>19</th>\n",
       "      <td>Journeyman Trade</td>\n",
       "      <td>36772.678593</td>\n",
       "      <td>142543.271193</td>\n",
       "      <td>25.797555</td>\n",
       "    </tr>\n",
       "  </tbody>\n",
       "</table>\n",
       "</div>"
      ],
      "text/plain": [
       "                        Job Family  Total Benefits  Total Compensation  \\\n",
       "0           Administrative-DPW/PUC    51357.650000       211601.430000   \n",
       "1    Administrative-Labor & Trades    40301.818718       183350.857436   \n",
       "2       Agriculture & Horticulture    29578.258462       100279.346697   \n",
       "3                Airport Operation    34531.437719       126629.480938   \n",
       "4    Budget, Admn & Stats Analysis    26404.129524        91785.631667   \n",
       "5    Clerical, Secretarial & Steno    11203.637916        37675.828898   \n",
       "6            Community Development      229.670000          735.110000   \n",
       "7   Computer Operatns & Repro Svcs    22222.893901        73466.205461   \n",
       "8          Construction Inspection    34578.044644       130123.717865   \n",
       "9           Correction & Detention    35272.274437       153870.789226   \n",
       "10                  Dietary & Food    18344.154662        61278.415288   \n",
       "11              Emergency Services    12765.360000        44038.855000   \n",
       "12            Energy & Environment     3309.920000        12759.420000   \n",
       "13                   Fire Services    41434.131988       203525.467851   \n",
       "14  Health & Sanitation Inspection    38702.501818       141710.384545   \n",
       "15         Hospital Administration    31508.771795       107011.031667   \n",
       "16          Housekeeping & Laundry    27542.950639        89353.140639   \n",
       "17                  Human Services    30504.521495       107980.903442   \n",
       "18             Information Systems    25485.276618        90188.009853   \n",
       "19                Journeyman Trade    36772.678593       142543.271193   \n",
       "\n",
       "    Percentage  \n",
       "0    24.270937  \n",
       "1    21.980709  \n",
       "2    29.495863  \n",
       "3    27.269667  \n",
       "4    28.767171  \n",
       "5    29.736938  \n",
       "6    31.242943  \n",
       "7    30.249138  \n",
       "8    26.573207  \n",
       "9    22.923308  \n",
       "10   29.935752  \n",
       "11   28.986585  \n",
       "12   25.940991  \n",
       "13   20.358205  \n",
       "14   27.310985  \n",
       "15   29.444415  \n",
       "16   30.824827  \n",
       "17   28.249922  \n",
       "18   28.257943  \n",
       "19   25.797555  "
      ]
     },
     "execution_count": 14,
     "metadata": {},
     "output_type": "execute_result"
    }
   ],
   "source": [
    "final_job_family_df[\"Percentage\"] = (final_job_family_df['Total Benefits']/ final_job_family_df['Total Compensation'])*100\n",
    "print(final_job_family_df.head(20))"
   ]
  },
  {
   "cell_type": "code",
   "execution_count": 20,
   "metadata": {
    "collapsed": true
   },
   "outputs": [],
   "source": [
    "def save_to_pdf():\n",
    "    if not os.path.exists(homedir+\"\\\\Assignment 3\\\\Output\\\\Question2_part2\"):\n",
    "        os.makedirs(homedir+\"\\\\Assignment 3\\\\Output\\\\Question2_part2\")\n",
    "    with open(homedir+'\\\\Assignment 3\\\\Output\\\\Question2_part2\\\\Q2P2_ouptput.csv', 'w') as myfile:\n",
    "        myfile.write(final_job_family_df.to_csv())"
   ]
  },
  {
   "cell_type": "code",
   "execution_count": null,
   "metadata": {
    "collapsed": true
   },
   "outputs": [],
   "source": [
    "save_to_pdf()"
   ]
  }
 ],
 "metadata": {
  "anaconda-cloud": {},
  "kernelspec": {
   "display_name": "Python [conda root]",
   "language": "python",
   "name": "conda-root-py"
  },
  "language_info": {
   "codemirror_mode": {
    "name": "ipython",
    "version": 3
   },
   "file_extension": ".py",
   "mimetype": "text/x-python",
   "name": "python",
   "nbconvert_exporter": "python",
   "pygments_lexer": "ipython3",
   "version": "3.5.2"
  }
 },
 "nbformat": 4,
 "nbformat_minor": 1
}
