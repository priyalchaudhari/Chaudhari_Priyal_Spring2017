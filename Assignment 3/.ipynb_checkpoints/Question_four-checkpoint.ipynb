{
 "cells": [
  {
   "cell_type": "code",
   "execution_count": 1,
   "metadata": {
    "collapsed": true
   },
   "outputs": [],
   "source": [
    "import os\n",
    "from os import listdir\n",
    "from os.path import isfile, join\n",
    "import glob\n",
    "import string\n",
    "import operator\n",
    "import csv\n",
    "import pandas as pd\n",
    "import calendar\n",
    "import re"
   ]
  },
  {
   "cell_type": "code",
   "execution_count": 2,
   "metadata": {
    "collapsed": false
   },
   "outputs": [
    {
     "name": "stdout",
     "output_type": "stream",
     "text": [
      "C:\\Users\\priya\\Assignment 3\\Data\n"
     ]
    }
   ],
   "source": [
    "homedir = os.path.expanduser(\"~\")\n",
    "path_to_data = homedir+\"\\\\Assignment 3\\\\Data\"\n",
    "print(path_to_data)"
   ]
  },
  {
   "cell_type": "code",
   "execution_count": 3,
   "metadata": {
    "collapsed": false
   },
   "outputs": [
    {
     "data": {
      "text/html": [
       "<div>\n",
       "<table border=\"1\" class=\"dataframe\">\n",
       "  <thead>\n",
       "    <tr style=\"text-align: right;\">\n",
       "      <th></th>\n",
       "      <th>totalSeasons</th>\n",
       "      <th>Plot</th>\n",
       "      <th>Rated</th>\n",
       "      <th>Response</th>\n",
       "      <th>Language</th>\n",
       "      <th>Title</th>\n",
       "      <th>Country</th>\n",
       "      <th>Writer</th>\n",
       "      <th>Metascore</th>\n",
       "      <th>imdbRating</th>\n",
       "      <th>...</th>\n",
       "      <th>Released</th>\n",
       "      <th>Actors</th>\n",
       "      <th>Year</th>\n",
       "      <th>Genre</th>\n",
       "      <th>Awards</th>\n",
       "      <th>Runtime</th>\n",
       "      <th>Type</th>\n",
       "      <th>Poster</th>\n",
       "      <th>imdbVotes</th>\n",
       "      <th>imdbID</th>\n",
       "    </tr>\n",
       "  </thead>\n",
       "  <tbody>\n",
       "    <tr>\n",
       "      <th>0</th>\n",
       "      <td>none</td>\n",
       "      <td>NaN</td>\n",
       "      <td>NaN</td>\n",
       "      <td>True</td>\n",
       "      <td>English</td>\n",
       "      <td>Book of Love: The Definitive Reason Why Men Ar...</td>\n",
       "      <td>USA</td>\n",
       "      <td>Jeffrey W. Byrd; Eric George</td>\n",
       "      <td>NaN</td>\n",
       "      <td>6.6</td>\n",
       "      <td>...</td>\n",
       "      <td>14 Feb 2002</td>\n",
       "      <td>40 Glocc; Angelle Brooks; David Brown; Qadr Ca...</td>\n",
       "      <td>2002</td>\n",
       "      <td>Romance; Comedy</td>\n",
       "      <td>NaN</td>\n",
       "      <td>91 min</td>\n",
       "      <td>movie</td>\n",
       "      <td>NaN</td>\n",
       "      <td>79.0</td>\n",
       "      <td>tt0156376</td>\n",
       "    </tr>\n",
       "    <tr>\n",
       "      <th>1</th>\n",
       "      <td>none</td>\n",
       "      <td>NaN</td>\n",
       "      <td>NaN</td>\n",
       "      <td>True</td>\n",
       "      <td>Swedish</td>\n",
       "      <td>Anderssons älskarinna</td>\n",
       "      <td>Sweden</td>\n",
       "      <td>NaN</td>\n",
       "      <td>NaN</td>\n",
       "      <td>7.4</td>\n",
       "      <td>...</td>\n",
       "      <td>12 Feb 2001</td>\n",
       "      <td>Jakob Eklund; Ebba Forsberg; Örjan Landström; ...</td>\n",
       "      <td>2001</td>\n",
       "      <td>Drama</td>\n",
       "      <td>NaN</td>\n",
       "      <td>347 min</td>\n",
       "      <td>movie</td>\n",
       "      <td>NaN</td>\n",
       "      <td>34.0</td>\n",
       "      <td>tt0201374</td>\n",
       "    </tr>\n",
       "  </tbody>\n",
       "</table>\n",
       "<p>2 rows × 21 columns</p>\n",
       "</div>"
      ],
      "text/plain": [
       "  totalSeasons Plot Rated Response Language  \\\n",
       "0         none  NaN   NaN     True  English   \n",
       "1         none  NaN   NaN     True  Swedish   \n",
       "\n",
       "                                               Title Country  \\\n",
       "0  Book of Love: The Definitive Reason Why Men Ar...     USA   \n",
       "1                              Anderssons älskarinna  Sweden   \n",
       "\n",
       "                         Writer  Metascore  imdbRating    ...      \\\n",
       "0  Jeffrey W. Byrd; Eric George        NaN         6.6    ...       \n",
       "1                           NaN        NaN         7.4    ...       \n",
       "\n",
       "      Released                                             Actors  Year  \\\n",
       "0  14 Feb 2002  40 Glocc; Angelle Brooks; David Brown; Qadr Ca...  2002   \n",
       "1  12 Feb 2001  Jakob Eklund; Ebba Forsberg; Örjan Landström; ...  2001   \n",
       "\n",
       "             Genre Awards  Runtime   Type Poster imdbVotes     imdbID  \n",
       "0  Romance; Comedy    NaN   91 min  movie    NaN      79.0  tt0156376  \n",
       "1            Drama    NaN  347 min  movie    NaN      34.0  tt0201374  \n",
       "\n",
       "[2 rows x 21 columns]"
      ]
     },
     "execution_count": 3,
     "metadata": {},
     "output_type": "execute_result"
    }
   ],
   "source": [
    "output_dist={}\n",
    "for subdir,dirs, files in os.walk(path_to_data):\n",
    "    #print(files)\n",
    "    for file in files:\n",
    "        if file == 'movies_awards.csv':\n",
    "            #print(file)\n",
    "            csv_data1=pd.read_csv(os.path.join(subdir,file))"
   ]
  },
  {
   "cell_type": "code",
   "execution_count": 4,
   "metadata": {
    "collapsed": false
   },
   "outputs": [
    {
     "data": {
      "text/html": [
       "<div>\n",
       "<table border=\"1\" class=\"dataframe\">\n",
       "  <thead>\n",
       "    <tr style=\"text-align: right;\">\n",
       "      <th></th>\n",
       "      <th>Title</th>\n",
       "      <th>Awards</th>\n",
       "    </tr>\n",
       "  </thead>\n",
       "  <tbody>\n",
       "    <tr>\n",
       "      <th>0</th>\n",
       "      <td>Book of Love: The Definitive Reason Why Men Ar...</td>\n",
       "      <td>NaN</td>\n",
       "    </tr>\n",
       "    <tr>\n",
       "      <th>1</th>\n",
       "      <td>Anderssons älskarinna</td>\n",
       "      <td>NaN</td>\n",
       "    </tr>\n",
       "    <tr>\n",
       "      <th>2</th>\n",
       "      <td>Bad Blood</td>\n",
       "      <td>NaN</td>\n",
       "    </tr>\n",
       "    <tr>\n",
       "      <th>3</th>\n",
       "      <td>Who Are You?</td>\n",
       "      <td>1 win &amp; 2 nominations.</td>\n",
       "    </tr>\n",
       "    <tr>\n",
       "      <th>4</th>\n",
       "      <td>Skeletons in the Closet</td>\n",
       "      <td>1 win.</td>\n",
       "    </tr>\n",
       "    <tr>\n",
       "      <th>5</th>\n",
       "      <td>Cheerleader Ninjas</td>\n",
       "      <td>1 nomination.</td>\n",
       "    </tr>\n",
       "    <tr>\n",
       "      <th>6</th>\n",
       "      <td>The Girl from Paris</td>\n",
       "      <td>3 wins &amp; 2 nominations.</td>\n",
       "    </tr>\n",
       "    <tr>\n",
       "      <th>7</th>\n",
       "      <td>The Final Curtain</td>\n",
       "      <td>1 win &amp; 1 nomination.</td>\n",
       "    </tr>\n",
       "    <tr>\n",
       "      <th>8</th>\n",
       "      <td>Crush</td>\n",
       "      <td>NaN</td>\n",
       "    </tr>\n",
       "    <tr>\n",
       "      <th>9</th>\n",
       "      <td>Happy Birthday</td>\n",
       "      <td>NaN</td>\n",
       "    </tr>\n",
       "  </tbody>\n",
       "</table>\n",
       "</div>"
      ],
      "text/plain": [
       "                                               Title                   Awards\n",
       "0  Book of Love: The Definitive Reason Why Men Ar...                      NaN\n",
       "1                              Anderssons älskarinna                      NaN\n",
       "2                                          Bad Blood                      NaN\n",
       "3                                       Who Are You?   1 win & 2 nominations.\n",
       "4                            Skeletons in the Closet                   1 win.\n",
       "5                                 Cheerleader Ninjas            1 nomination.\n",
       "6                                The Girl from Paris  3 wins & 2 nominations.\n",
       "7                                  The Final Curtain    1 win & 1 nomination.\n",
       "8                                              Crush                      NaN\n",
       "9                                     Happy Birthday                      NaN"
      ]
     },
     "execution_count": 4,
     "metadata": {},
     "output_type": "execute_result"
    }
   ],
   "source": [
    "new_df = csv_data1[[\"Title\",\"Awards\"]].copy()\n",
    "print(new_df.head(10))"
   ]
  },
  {
   "cell_type": "markdown",
   "metadata": {},
   "source": [
    "## Removing NaN"
   ]
  },
  {
   "cell_type": "code",
   "execution_count": 5,
   "metadata": {
    "collapsed": false
   },
   "outputs": [
    {
     "data": {
      "text/html": [
       "<div>\n",
       "<table border=\"1\" class=\"dataframe\">\n",
       "  <thead>\n",
       "    <tr style=\"text-align: right;\">\n",
       "      <th></th>\n",
       "      <th>Title</th>\n",
       "      <th>Awards</th>\n",
       "    </tr>\n",
       "  </thead>\n",
       "  <tbody>\n",
       "    <tr>\n",
       "      <th>3</th>\n",
       "      <td>Who Are You?</td>\n",
       "      <td>1 win &amp; 2 nominations.</td>\n",
       "    </tr>\n",
       "    <tr>\n",
       "      <th>4</th>\n",
       "      <td>Skeletons in the Closet</td>\n",
       "      <td>1 win.</td>\n",
       "    </tr>\n",
       "    <tr>\n",
       "      <th>5</th>\n",
       "      <td>Cheerleader Ninjas</td>\n",
       "      <td>1 nomination.</td>\n",
       "    </tr>\n",
       "    <tr>\n",
       "      <th>6</th>\n",
       "      <td>The Girl from Paris</td>\n",
       "      <td>3 wins &amp; 2 nominations.</td>\n",
       "    </tr>\n",
       "    <tr>\n",
       "      <th>7</th>\n",
       "      <td>The Final Curtain</td>\n",
       "      <td>1 win &amp; 1 nomination.</td>\n",
       "    </tr>\n",
       "    <tr>\n",
       "      <th>11</th>\n",
       "      <td>Crazy/Beautiful</td>\n",
       "      <td>5 nominations.</td>\n",
       "    </tr>\n",
       "    <tr>\n",
       "      <th>13</th>\n",
       "      <td>The Anniversary Party</td>\n",
       "      <td>2 wins &amp; 5 nominations.</td>\n",
       "    </tr>\n",
       "    <tr>\n",
       "      <th>15</th>\n",
       "      <td>The Quiet American</td>\n",
       "      <td>Nominated for 1 Oscar. Another 13 wins &amp; 13 no...</td>\n",
       "    </tr>\n",
       "    <tr>\n",
       "      <th>18</th>\n",
       "      <td>Like Cat and Mouse</td>\n",
       "      <td>5 wins &amp; 4 nominations.</td>\n",
       "    </tr>\n",
       "    <tr>\n",
       "      <th>24</th>\n",
       "      <td>Punch-Drunk Love</td>\n",
       "      <td>Nominated for 1 Golden Globe. Another 14 wins ...</td>\n",
       "    </tr>\n",
       "  </tbody>\n",
       "</table>\n",
       "</div>"
      ],
      "text/plain": [
       "                      Title                                             Awards\n",
       "3              Who Are You?                             1 win & 2 nominations.\n",
       "4   Skeletons in the Closet                                             1 win.\n",
       "5        Cheerleader Ninjas                                      1 nomination.\n",
       "6       The Girl from Paris                            3 wins & 2 nominations.\n",
       "7         The Final Curtain                              1 win & 1 nomination.\n",
       "11          Crazy/Beautiful                                     5 nominations.\n",
       "13    The Anniversary Party                            2 wins & 5 nominations.\n",
       "15       The Quiet American  Nominated for 1 Oscar. Another 13 wins & 13 no...\n",
       "18       Like Cat and Mouse                            5 wins & 4 nominations.\n",
       "24         Punch-Drunk Love  Nominated for 1 Golden Globe. Another 14 wins ..."
      ]
     },
     "execution_count": 5,
     "metadata": {},
     "output_type": "execute_result"
    }
   ],
   "source": [
    "new_df=new_df.dropna(subset=['Awards'])\n",
    "print(new_df.head(10))"
   ]
  },
  {
   "cell_type": "markdown",
   "metadata": {},
   "source": [
    "# Using REGX  separating the count"
   ]
  },
  {
   "cell_type": "code",
   "execution_count": 6,
   "metadata": {
    "collapsed": false
   },
   "outputs": [],
   "source": [
    "new_df[\"Awards_won\"] = new_df[\"Awards\"].apply(lambda x : (re.findall(r\"(\\d+) win\", x))) #find all sentences with pattern 2 win or 3 win\n",
    "new_df[\"Awards_won\"] = new_df[\"Awards_won\"].apply(lambda x : [0] if len(x)==0 else x)  # getting the 0th element of array\n",
    "new_df[\"Awards_won\"] = new_df[\"Awards_won\"].apply(lambda x : list(map(int,x))[0])     #Converting in to integer\n",
    "\n",
    "# Doing this for all award categories with respective pattern \n",
    "\n",
    "new_df[\"Awards_Nominated\"] = new_df[\"Awards\"].apply(lambda x : (re.findall(r\"(\\d+) nominations\", x)))\n",
    "new_df[\"Awards_Nominated\"] = new_df[\"Awards_Nominated\"].apply(lambda x : [0] if len(x)==0 else x)\n",
    "new_df[\"Awards_Nominated\"] = new_df[\"Awards_Nominated\"].apply(lambda x : list(map(int,x))[0])\n",
    "\n",
    "new_df[\"Golden_glob_awards_won\"] = new_df[\"Awards\"].apply(lambda x : (re.findall(r\"Won (\\d+) Golden \", x)))\n",
    "new_df[\"Golden_glob_awards_won\"] = new_df[\"Golden_glob_awards_won\"].apply(lambda x : [0] if len(x)==0 else x)\n",
    "new_df[\"Golden_glob_awards_won\"] = new_df[\"Golden_glob_awards_won\"].apply(lambda x : list(map(int,x))[0])\n",
    "\n",
    "new_df[\"Golden_glob_awards_Nominated\"] = new_df[\"Awards\"].apply(lambda x : (re.findall(r\"Nominated for (\\d+) Golden \", x)))\n",
    "new_df[\"Golden_glob_awards_Nominated\"] = new_df[\"Golden_glob_awards_Nominated\"].apply(lambda x : [0] if len(x)==0 else x)\n",
    "new_df[\"Golden_glob_awards_Nominated\"] = new_df[\"Golden_glob_awards_Nominated\"].apply(lambda x : list(map(int,x))[0])\n"
   ]
  },
  {
   "cell_type": "code",
   "execution_count": 7,
   "metadata": {
    "collapsed": false
   },
   "outputs": [
    {
     "data": {
      "text/html": [
       "<div>\n",
       "<table border=\"1\" class=\"dataframe\">\n",
       "  <thead>\n",
       "    <tr style=\"text-align: right;\">\n",
       "      <th></th>\n",
       "      <th>Title</th>\n",
       "      <th>Awards</th>\n",
       "      <th>Awards_won</th>\n",
       "      <th>Awards_Nominated</th>\n",
       "      <th>Golden_glob_awards_won</th>\n",
       "      <th>Golden_glob_awards_Nominated</th>\n",
       "      <th>Oscar_awards_Nominated</th>\n",
       "    </tr>\n",
       "  </thead>\n",
       "  <tbody>\n",
       "    <tr>\n",
       "      <th>3</th>\n",
       "      <td>Who Are You?</td>\n",
       "      <td>1 win &amp; 2 nominations.</td>\n",
       "      <td>1</td>\n",
       "      <td>2</td>\n",
       "      <td>0</td>\n",
       "      <td>0</td>\n",
       "      <td>0</td>\n",
       "    </tr>\n",
       "    <tr>\n",
       "      <th>4</th>\n",
       "      <td>Skeletons in the Closet</td>\n",
       "      <td>1 win.</td>\n",
       "      <td>1</td>\n",
       "      <td>0</td>\n",
       "      <td>0</td>\n",
       "      <td>0</td>\n",
       "      <td>0</td>\n",
       "    </tr>\n",
       "    <tr>\n",
       "      <th>5</th>\n",
       "      <td>Cheerleader Ninjas</td>\n",
       "      <td>1 nomination.</td>\n",
       "      <td>0</td>\n",
       "      <td>0</td>\n",
       "      <td>0</td>\n",
       "      <td>0</td>\n",
       "      <td>0</td>\n",
       "    </tr>\n",
       "    <tr>\n",
       "      <th>6</th>\n",
       "      <td>The Girl from Paris</td>\n",
       "      <td>3 wins &amp; 2 nominations.</td>\n",
       "      <td>3</td>\n",
       "      <td>2</td>\n",
       "      <td>0</td>\n",
       "      <td>0</td>\n",
       "      <td>0</td>\n",
       "    </tr>\n",
       "    <tr>\n",
       "      <th>7</th>\n",
       "      <td>The Final Curtain</td>\n",
       "      <td>1 win &amp; 1 nomination.</td>\n",
       "      <td>1</td>\n",
       "      <td>0</td>\n",
       "      <td>0</td>\n",
       "      <td>0</td>\n",
       "      <td>0</td>\n",
       "    </tr>\n",
       "  </tbody>\n",
       "</table>\n",
       "</div>"
      ],
      "text/plain": [
       "                     Title                   Awards  Awards_won  \\\n",
       "3             Who Are You?   1 win & 2 nominations.           1   \n",
       "4  Skeletons in the Closet                   1 win.           1   \n",
       "5       Cheerleader Ninjas            1 nomination.           0   \n",
       "6      The Girl from Paris  3 wins & 2 nominations.           3   \n",
       "7        The Final Curtain    1 win & 1 nomination.           1   \n",
       "\n",
       "   Awards_Nominated  Golden_glob_awards_won  Golden_glob_awards_Nominated  \\\n",
       "3                 2                       0                             0   \n",
       "4                 0                       0                             0   \n",
       "5                 0                       0                             0   \n",
       "6                 2                       0                             0   \n",
       "7                 0                       0                             0   \n",
       "\n",
       "   Oscar_awards_Nominated  \n",
       "3                       0  \n",
       "4                       0  \n",
       "5                       0  \n",
       "6                       0  \n",
       "7                       0  "
      ]
     },
     "execution_count": 7,
     "metadata": {},
     "output_type": "execute_result"
    }
   ],
   "source": [
    "new_df[\"Oscar_awards_Nominated\"] = new_df[\"Awards\"].apply(lambda x : (re.findall(r\"Nominated for (\\d+) Oscar\", x)))\n",
    "new_df[\"Oscar_awards_Nominated\"] = new_df[\"Oscar_awards_Nominated\"].apply(lambda x : [0] if len(x)==0 else x)\n",
    "new_df[\"Oscar_awards_Nominated\"] = new_df[\"Oscar_awards_Nominated\"].apply(lambda x : list(map(int,x))[0])"
   ]
  },
  {
   "cell_type": "code",
   "execution_count": 8,
   "metadata": {
    "collapsed": true
   },
   "outputs": [],
   "source": [
    "new_df[\"Oscar_Won\"] = new_df[\"Awards\"].apply(lambda x : (re.findall(r\"Won (\\d+) Oscar\", x)))\n",
    "new_df[\"Oscar_Won\"] = new_df[\"Oscar_Won\"].apply(lambda x : [0] if len(x)==0 else x)\n",
    "new_df[\"Oscar_Won\"] = new_df[\"Oscar_Won\"].apply(lambda x : list(map(int,x))[0])"
   ]
  },
  {
   "cell_type": "code",
   "execution_count": 9,
   "metadata": {
    "collapsed": true
   },
   "outputs": [],
   "source": [
    "new_df[\"Prime_awards_nominated\"] = new_df[\"Awards\"].apply(lambda x : (re.findall(r\"Nominated for (\\d+) Primetime\", x)))\n",
    "new_df[\"Prime_awards_nominated\"] = new_df[\"Prime_awards_nominated\"].apply(lambda x : [0] if len(x)==0 else x)\n",
    "new_df[\"Prime_awards_nominated\"] = new_df[\"Prime_awards_nominated\"].apply(lambda x : list(map(int,x))[0])"
   ]
  },
  {
   "cell_type": "code",
   "execution_count": 10,
   "metadata": {
    "collapsed": true
   },
   "outputs": [],
   "source": [
    "new_df[\"Prime_awards_won\"] = new_df[\"Awards\"].apply(lambda x : (re.findall(r\"Won (\\d+) Primetime\", x)))\n",
    "new_df[\"Prime_awards_won\"] = new_df[\"Prime_awards_won\"].apply(lambda x : [0] if len(x)==0 else x)\n",
    "new_df[\"Prime_awards_won\"] = new_df[\"Prime_awards_won\"].apply(lambda x : list(map(int,x))[0])"
   ]
  },
  {
   "cell_type": "code",
   "execution_count": 11,
   "metadata": {
    "collapsed": true
   },
   "outputs": [],
   "source": [
    "new_df[\"BAFTA_awards_nominated\"] = new_df[\"Awards\"].apply(lambda x : (re.findall(r\"Nominated for (\\d+) BAFTA\", x)))\n",
    "new_df[\"BAFTA_awards_nominated\"] = new_df[\"BAFTA_awards_nominated\"].apply(lambda x : [0] if len(x)==0 else x)\n",
    "new_df[\"BAFTA_awards_nominated\"] = new_df[\"BAFTA_awards_nominated\"].apply(lambda x : list(map(int,x))[0])"
   ]
  },
  {
   "cell_type": "code",
   "execution_count": 12,
   "metadata": {
    "collapsed": true
   },
   "outputs": [],
   "source": [
    "new_df[\"BAFTA_awards_won\"] = new_df[\"Awards\"].apply(lambda x : (re.findall(r\"Won (\\d+) BAFTA\", x)))\n",
    "new_df[\"BAFTA_awards_won\"] = new_df[\"BAFTA_awards_won\"].apply(lambda x : [0] if len(x)==0 else x)\n",
    "new_df[\"BAFTA_awards_won\"] = new_df[\"BAFTA_awards_won\"].apply(lambda x : list(map(int,x))[0])"
   ]
  },
  {
   "cell_type": "markdown",
   "metadata": {},
   "source": [
    "# Adding all categories to get Total win and total nominated "
   ]
  },
  {
   "cell_type": "code",
   "execution_count": 13,
   "metadata": {
    "collapsed": false
   },
   "outputs": [],
   "source": [
    "new_df[\"Awards_won\"] = ((((new_df[\"Awards_won\"] + new_df[\"Golden_glob_awards_won\"]) + new_df[\"Oscar_Won\"]) + new_df[\"Prime_awards_won\"]) + new_df[\"BAFTA_awards_won\"])\n",
    "new_df[\"Awards_Nominated\"] = ((((new_df[\"Awards_Nominated\"] + new_df[\"Golden_glob_awards_Nominated\"]) + new_df[\"Oscar_awards_Nominated\"]) + new_df[\"Prime_awards_nominated\"]) + new_df[\"BAFTA_awards_nominated\"])\n",
    "print(new_df.head(5))"
   ]
  },
  {
   "cell_type": "markdown",
   "metadata": {},
   "source": [
    "# Writing data into csv file "
   ]
  },
  {
   "cell_type": "code",
   "execution_count": 14,
   "metadata": {
    "collapsed": true
   },
   "outputs": [],
   "source": [
    "def save_to_csv():\n",
    "    if not os.path.exists(homedir+\"\\\\Assignment 3\\\\Output\\\\Question4\"):\n",
    "        os.makedirs(homedir+\"\\\\Assignment 3\\\\Output\\\\Question4\")\n",
    "    with open(homedir+'\\\\Assignment 3\\\\Output\\\\Question4\\\\Q4_ouptput.csv', 'w') as myfile:\n",
    "        myfile.write(new_df.to_csv(index=False))"
   ]
  },
  {
   "cell_type": "code",
   "execution_count": 15,
   "metadata": {
    "collapsed": true
   },
   "outputs": [],
   "source": [
    "save_to_csv()"
   ]
  },
  {
   "cell_type": "code",
   "execution_count": null,
   "metadata": {
    "collapsed": true
   },
   "outputs": [],
   "source": []
  }
 ],
 "metadata": {
  "anaconda-cloud": {},
  "kernelspec": {
   "display_name": "Python [conda root]",
   "language": "python",
   "name": "conda-root-py"
  },
  "language_info": {
   "codemirror_mode": {
    "name": "ipython",
    "version": 3
   },
   "file_extension": ".py",
   "mimetype": "text/x-python",
   "name": "python",
   "nbconvert_exporter": "python",
   "pygments_lexer": "ipython3",
   "version": "3.5.2"
  }
 },
 "nbformat": 4,
 "nbformat_minor": 1
}
