{
 "cells": [
  {
   "cell_type": "code",
   "execution_count": 12,
   "metadata": {
    "collapsed": true
   },
   "outputs": [],
   "source": [
    "import os\n",
    "from os import listdir\n",
    "from os.path import isfile, join\n",
    "import glob\n",
    "import string\n",
    "import operator\n",
    "import csv\n",
    "import pandas as pd\n",
    "import calendar\n",
    "import numpy as np"
   ]
  },
  {
   "cell_type": "markdown",
   "metadata": {},
   "source": [
    "- path to data directory"
   ]
  },
  {
   "cell_type": "code",
   "execution_count": 13,
   "metadata": {
    "collapsed": false
   },
   "outputs": [
    {
     "name": "stdout",
     "output_type": "stream",
     "text": [
      "C:\\Users\\priya\\Assignment 3\\Data\n"
     ]
    }
   ],
   "source": [
    "homedir = os.path.expanduser(\"~\")\n",
    "path_to_data = homedir+\"\\\\Assignment 3\\\\Data\"\n",
    "print(path_to_data)"
   ]
  },
  {
   "cell_type": "markdown",
   "metadata": {},
   "source": [
    "#### Getting data from CSV in to a data frame "
   ]
  },
  {
   "cell_type": "code",
   "execution_count": 14,
   "metadata": {
    "collapsed": false
   },
   "outputs": [
    {
     "data": {
      "text/html": [
       "<div>\n",
       "<table border=\"1\" class=\"dataframe\">\n",
       "  <thead>\n",
       "    <tr style=\"text-align: right;\">\n",
       "      <th></th>\n",
       "      <th>Year Type</th>\n",
       "      <th>Year</th>\n",
       "      <th>Organization Group Code</th>\n",
       "      <th>Organization Group</th>\n",
       "      <th>Department Code</th>\n",
       "      <th>Department</th>\n",
       "      <th>Union Code</th>\n",
       "      <th>Union</th>\n",
       "      <th>Job Family Code</th>\n",
       "      <th>Job Family</th>\n",
       "      <th>...</th>\n",
       "      <th>Employee Identifier</th>\n",
       "      <th>Salaries</th>\n",
       "      <th>Overtime</th>\n",
       "      <th>Other Salaries</th>\n",
       "      <th>Total Salary</th>\n",
       "      <th>Retirement</th>\n",
       "      <th>Health/Dental</th>\n",
       "      <th>Other Benefits</th>\n",
       "      <th>Total Benefits</th>\n",
       "      <th>Total Compensation</th>\n",
       "    </tr>\n",
       "  </thead>\n",
       "  <tbody>\n",
       "    <tr>\n",
       "      <th>0</th>\n",
       "      <td>Calendar</td>\n",
       "      <td>2013</td>\n",
       "      <td>2</td>\n",
       "      <td>Public Works, Transportation &amp; Commerce</td>\n",
       "      <td>AIR</td>\n",
       "      <td>Airport Commission</td>\n",
       "      <td>38.0</td>\n",
       "      <td>Plumbers and Pipefitters, Local 38</td>\n",
       "      <td>7300</td>\n",
       "      <td>Journeyman Trade</td>\n",
       "      <td>...</td>\n",
       "      <td>52206</td>\n",
       "      <td>98528.52</td>\n",
       "      <td>0.00</td>\n",
       "      <td>3955.59</td>\n",
       "      <td>102484.11</td>\n",
       "      <td>20142.55</td>\n",
       "      <td>12918.24</td>\n",
       "      <td>8371.76</td>\n",
       "      <td>41432.55</td>\n",
       "      <td>143916.66</td>\n",
       "    </tr>\n",
       "    <tr>\n",
       "      <th>1</th>\n",
       "      <td>Fiscal</td>\n",
       "      <td>2015</td>\n",
       "      <td>4</td>\n",
       "      <td>Community Health</td>\n",
       "      <td>DPH</td>\n",
       "      <td>Public Health</td>\n",
       "      <td>790.0</td>\n",
       "      <td>SEIU - Miscellaneous, Local 1021</td>\n",
       "      <td>2600</td>\n",
       "      <td>Dietary &amp; Food</td>\n",
       "      <td>...</td>\n",
       "      <td>52950</td>\n",
       "      <td>69169.82</td>\n",
       "      <td>755.02</td>\n",
       "      <td>4179.08</td>\n",
       "      <td>74103.92</td>\n",
       "      <td>15641.92</td>\n",
       "      <td>12499.30</td>\n",
       "      <td>5669.02</td>\n",
       "      <td>33810.24</td>\n",
       "      <td>107914.16</td>\n",
       "    </tr>\n",
       "  </tbody>\n",
       "</table>\n",
       "<p>2 rows × 22 columns</p>\n",
       "</div>"
      ],
      "text/plain": [
       "  Year Type  Year  Organization Group Code  \\\n",
       "0  Calendar  2013                        2   \n",
       "1    Fiscal  2015                        4   \n",
       "\n",
       "                        Organization Group Department Code  \\\n",
       "0  Public Works, Transportation & Commerce             AIR   \n",
       "1                         Community Health             DPH   \n",
       "\n",
       "           Department  Union Code                               Union  \\\n",
       "0  Airport Commission        38.0  Plumbers and Pipefitters, Local 38   \n",
       "1       Public Health       790.0    SEIU - Miscellaneous, Local 1021   \n",
       "\n",
       "  Job Family Code        Job Family         ...         Employee Identifier  \\\n",
       "0            7300  Journeyman Trade         ...                       52206   \n",
       "1            2600    Dietary & Food         ...                       52950   \n",
       "\n",
       "   Salaries  Overtime  Other Salaries  Total Salary  Retirement  \\\n",
       "0  98528.52      0.00         3955.59     102484.11    20142.55   \n",
       "1  69169.82    755.02         4179.08      74103.92    15641.92   \n",
       "\n",
       "   Health/Dental  Other Benefits  Total Benefits  Total Compensation  \n",
       "0       12918.24         8371.76        41432.55           143916.66  \n",
       "1       12499.30         5669.02        33810.24           107914.16  \n",
       "\n",
       "[2 rows x 22 columns]"
      ]
     },
     "execution_count": 14,
     "metadata": {},
     "output_type": "execute_result"
    }
   ],
   "source": [
    "output_dist={}\n",
    "for subdir,dirs, files in os.walk(path_to_data):\n",
    "    #print(files)\n",
    "    for file in files:\n",
    "        if file == 'employee_compensation.csv':\n",
    "            #print(file)\n",
    "            csv_data1=pd.read_csv(os.path.join(subdir,file))\n",
    "print(csv_data1.head(2))"
   ]
  },
  {
   "cell_type": "code",
   "execution_count": 15,
   "metadata": {
    "collapsed": false
   },
   "outputs": [
    {
     "data": {
      "text/html": [
       "<div>\n",
       "<table border=\"1\" class=\"dataframe\">\n",
       "  <thead>\n",
       "    <tr style=\"text-align: right;\">\n",
       "      <th></th>\n",
       "      <th>Organization Group</th>\n",
       "      <th>Department</th>\n",
       "      <th>Total Compensation</th>\n",
       "    </tr>\n",
       "  </thead>\n",
       "  <tbody>\n",
       "    <tr>\n",
       "      <th>0</th>\n",
       "      <td>Public Works, Transportation &amp; Commerce</td>\n",
       "      <td>Airport Commission</td>\n",
       "      <td>143916.66</td>\n",
       "    </tr>\n",
       "    <tr>\n",
       "      <th>1</th>\n",
       "      <td>Community Health</td>\n",
       "      <td>Public Health</td>\n",
       "      <td>107914.16</td>\n",
       "    </tr>\n",
       "  </tbody>\n",
       "</table>\n",
       "</div>"
      ],
      "text/plain": [
       "                        Organization Group          Department  \\\n",
       "0  Public Works, Transportation & Commerce  Airport Commission   \n",
       "1                         Community Health       Public Health   \n",
       "\n",
       "   Total Compensation  \n",
       "0           143916.66  \n",
       "1           107914.16  "
      ]
     },
     "execution_count": 15,
     "metadata": {},
     "output_type": "execute_result"
    }
   ],
   "source": [
    "new_df = csv_data1[[\"Organization Group\",\"Department\",\"Total Compensation\"]].copy()\n",
    "print(new_df.head(2))"
   ]
  },
  {
   "cell_type": "markdown",
   "metadata": {},
   "source": [
    "### counting the total compensation group by organisation group and department "
   ]
  },
  {
   "cell_type": "code",
   "execution_count": 16,
   "metadata": {
    "collapsed": false
   },
   "outputs": [
    {
     "data": {
      "text/html": [
       "<div>\n",
       "<table border=\"1\" class=\"dataframe\">\n",
       "  <thead>\n",
       "    <tr style=\"text-align: right;\">\n",
       "      <th></th>\n",
       "      <th></th>\n",
       "      <th>Total Compensation</th>\n",
       "    </tr>\n",
       "    <tr>\n",
       "      <th>Organization Group</th>\n",
       "      <th>Department</th>\n",
       "      <th></th>\n",
       "    </tr>\n",
       "  </thead>\n",
       "  <tbody>\n",
       "    <tr>\n",
       "      <th>Community Health</th>\n",
       "      <th>Public Health</th>\n",
       "      <td>96190.190140</td>\n",
       "    </tr>\n",
       "    <tr>\n",
       "      <th rowspan=\"4\" valign=\"top\">Culture &amp; Recreation</th>\n",
       "      <th>Academy of Sciences</th>\n",
       "      <td>107319.727692</td>\n",
       "    </tr>\n",
       "    <tr>\n",
       "      <th>Arts Commission</th>\n",
       "      <td>94339.597388</td>\n",
       "    </tr>\n",
       "    <tr>\n",
       "      <th>Asian Art Museum</th>\n",
       "      <td>71401.520060</td>\n",
       "    </tr>\n",
       "    <tr>\n",
       "      <th>Fine Arts Museum</th>\n",
       "      <td>44205.439895</td>\n",
       "    </tr>\n",
       "  </tbody>\n",
       "</table>\n",
       "</div>"
      ],
      "text/plain": [
       "                                          Total Compensation\n",
       "Organization Group   Department                             \n",
       "Community Health     Public Health              96190.190140\n",
       "Culture & Recreation Academy of Sciences       107319.727692\n",
       "                     Arts Commission            94339.597388\n",
       "                     Asian Art Museum           71401.520060\n",
       "                     Fine Arts Museum           44205.439895"
      ]
     },
     "execution_count": 16,
     "metadata": {},
     "output_type": "execute_result"
    }
   ],
   "source": [
    "mean_df = new_df[[\"Organization Group\",\"Department\",\"Total Compensation\"]].copy()\n",
    "#demo[\"Count\"]=1\n",
    "#demo = pd.DataFrame(demo.groupby(\"Organization Group\").COUNT.sum().reset_index())\n",
    "mean_df = mean_df.groupby(['Organization Group','Department'])['Total Compensation'].mean()\n",
    "#demo.sort_values(by='mean',ascending=0)\n",
    "mean_df= pd.DataFrame(mean_df)\n",
    "print(mean_df.head(5))"
   ]
  },
  {
   "cell_type": "markdown",
   "metadata": {},
   "source": [
    "# Sorting each organisation group"
   ]
  },
  {
   "cell_type": "code",
   "execution_count": 17,
   "metadata": {
    "collapsed": false
   },
   "outputs": [
    {
     "name": "stderr",
     "output_type": "stream",
     "text": [
      "C:\\Users\\priya\\Anaconda3\\lib\\site-packages\\ipykernel\\__main__.py:2: FutureWarning: order is deprecated, use sort_values(...)\n",
      "  from ipykernel import kernelapp as app\n"
     ]
    },
    {
     "data": {
      "text/html": [
       "<div>\n",
       "<table border=\"1\" class=\"dataframe\">\n",
       "  <thead>\n",
       "    <tr style=\"text-align: right;\">\n",
       "      <th></th>\n",
       "      <th></th>\n",
       "      <th>Total Compensation</th>\n",
       "    </tr>\n",
       "    <tr>\n",
       "      <th>Organization Group</th>\n",
       "      <th>Department</th>\n",
       "      <th></th>\n",
       "    </tr>\n",
       "  </thead>\n",
       "  <tbody>\n",
       "    <tr>\n",
       "      <th>Community Health</th>\n",
       "      <th>Public Health</th>\n",
       "      <td>96190.190140</td>\n",
       "    </tr>\n",
       "    <tr>\n",
       "      <th rowspan=\"8\" valign=\"top\">Culture &amp; Recreation</th>\n",
       "      <th>Law Library</th>\n",
       "      <td>188424.362222</td>\n",
       "    </tr>\n",
       "    <tr>\n",
       "      <th>Academy of Sciences</th>\n",
       "      <td>107319.727692</td>\n",
       "    </tr>\n",
       "    <tr>\n",
       "      <th>Arts Commission</th>\n",
       "      <td>94339.597388</td>\n",
       "    </tr>\n",
       "    <tr>\n",
       "      <th>War Memorial</th>\n",
       "      <td>76250.068022</td>\n",
       "    </tr>\n",
       "    <tr>\n",
       "      <th>Asian Art Museum</th>\n",
       "      <td>71401.520060</td>\n",
       "    </tr>\n",
       "    <tr>\n",
       "      <th>Public Library</th>\n",
       "      <td>70446.352147</td>\n",
       "    </tr>\n",
       "    <tr>\n",
       "      <th>Fine Arts Museum</th>\n",
       "      <td>44205.439895</td>\n",
       "    </tr>\n",
       "    <tr>\n",
       "      <th>Recreation and Park Commission</th>\n",
       "      <td>38912.859465</td>\n",
       "    </tr>\n",
       "    <tr>\n",
       "      <th rowspan=\"11\" valign=\"top\">General Administration &amp; Finance</th>\n",
       "      <th>City Attorney</th>\n",
       "      <td>166082.677561</td>\n",
       "    </tr>\n",
       "    <tr>\n",
       "      <th>Retirement System</th>\n",
       "      <td>117717.658589</td>\n",
       "    </tr>\n",
       "    <tr>\n",
       "      <th>General Services Agency - Technology</th>\n",
       "      <td>110783.680158</td>\n",
       "    </tr>\n",
       "    <tr>\n",
       "      <th>Mayor</th>\n",
       "      <td>110765.391333</td>\n",
       "    </tr>\n",
       "    <tr>\n",
       "      <th>Controller</th>\n",
       "      <td>104515.234944</td>\n",
       "    </tr>\n",
       "    <tr>\n",
       "      <th>Ethics Commission</th>\n",
       "      <td>98631.380366</td>\n",
       "    </tr>\n",
       "    <tr>\n",
       "      <th>Assessor/Recorder</th>\n",
       "      <td>89994.260614</td>\n",
       "    </tr>\n",
       "    <tr>\n",
       "      <th>City Planning</th>\n",
       "      <td>89022.876966</td>\n",
       "    </tr>\n",
       "    <tr>\n",
       "      <th>General Services Agency - City Admin</th>\n",
       "      <td>86123.547609</td>\n",
       "    </tr>\n",
       "    <tr>\n",
       "      <th>Treasurer/Tax Collector</th>\n",
       "      <td>85449.253170</td>\n",
       "    </tr>\n",
       "    <tr>\n",
       "      <th>Board of Supervisors</th>\n",
       "      <td>78801.347641</td>\n",
       "    </tr>\n",
       "  </tbody>\n",
       "</table>\n",
       "</div>"
      ],
      "text/plain": [
       "                                                                       Total Compensation\n",
       "Organization Group               Department                                              \n",
       "Community Health                 Public Health                               96190.190140\n",
       "Culture & Recreation             Law Library                                188424.362222\n",
       "                                 Academy of Sciences                        107319.727692\n",
       "                                 Arts Commission                             94339.597388\n",
       "                                 War Memorial                                76250.068022\n",
       "                                 Asian Art Museum                            71401.520060\n",
       "                                 Public Library                              70446.352147\n",
       "                                 Fine Arts Museum                            44205.439895\n",
       "                                 Recreation and Park Commission              38912.859465\n",
       "General Administration & Finance City Attorney                              166082.677561\n",
       "                                 Retirement System                          117717.658589\n",
       "                                 General Services Agency - Technology       110783.680158\n",
       "                                 Mayor                                      110765.391333\n",
       "                                 Controller                                 104515.234944\n",
       "                                 Ethics Commission                           98631.380366\n",
       "                                 Assessor/Recorder                           89994.260614\n",
       "                                 City Planning                               89022.876966\n",
       "                                 General Services Agency - City Admin        86123.547609\n",
       "                                 Treasurer/Tax Collector                     85449.253170\n",
       "                                 Board of Supervisors                        78801.347641"
      ]
     },
     "execution_count": 17,
     "metadata": {},
     "output_type": "execute_result"
    }
   ],
   "source": [
    "g = mean_df['Total Compensation'].groupby(level=0, group_keys=False)\n",
    "sorted_df = g.apply(lambda x: x.order(ascending=False))\n",
    "\n",
    "sorted_df = pd.DataFrame(sorted_df)\n",
    "print(sorted_df.head(20))"
   ]
  },
  {
   "cell_type": "code",
   "execution_count": 10,
   "metadata": {
    "collapsed": false
   },
   "outputs": [],
   "source": [
    "def save_to_csv():\n",
    "    if not os.path.exists(homedir+\"\\\\Assignment 3\\\\Output\\\\Question2_part1\"):\n",
    "        os.makedirs(homedir+\"\\\\Assignment 3\\\\Output\\\\Question2_part1\")\n",
    "    with open(homedir+'\\\\Assignment 3\\\\Output\\\\Question2_part1\\\\Q2P1_ouptput.csv', 'w') as myfile:\n",
    "        myfile.write(sorted_df.to_csv())"
   ]
  },
  {
   "cell_type": "code",
   "execution_count": null,
   "metadata": {
    "collapsed": true
   },
   "outputs": [],
   "source": [
    "save_to_csv()"
   ]
  }
 ],
 "metadata": {
  "anaconda-cloud": {},
  "kernelspec": {
   "display_name": "Python [conda root]",
   "language": "python",
   "name": "conda-root-py"
  },
  "language_info": {
   "codemirror_mode": {
    "name": "ipython",
    "version": 3
   },
   "file_extension": ".py",
   "mimetype": "text/x-python",
   "name": "python",
   "nbconvert_exporter": "python",
   "pygments_lexer": "ipython3",
   "version": "3.5.2"
  }
 },
 "nbformat": 4,
 "nbformat_minor": 1
}
