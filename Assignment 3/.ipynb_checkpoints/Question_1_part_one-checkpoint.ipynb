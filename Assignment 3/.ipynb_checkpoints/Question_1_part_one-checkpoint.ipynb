{
 "cells": [
  {
   "cell_type": "code",
   "execution_count": 1,
   "metadata": {
    "collapsed": false
   },
   "outputs": [],
   "source": [
    "import os\n",
    "from os import listdir\n",
    "from os.path import isfile, join\n",
    "import glob\n",
    "import string\n",
    "import operator\n",
    "import csv\n",
    "import pandas as pd\n",
    "import calendar"
   ]
  },
  {
   "cell_type": "code",
   "execution_count": 2,
   "metadata": {
    "collapsed": false
   },
   "outputs": [
    {
     "name": "stdout",
     "output_type": "stream",
     "text": [
      "C:\\Users\\priya\\Assignment 3\\Data\n"
     ]
    }
   ],
   "source": [
    "homedir = os.path.expanduser(\"~\")\n",
    "path_to_data = homedir+\"\\\\Assignment 3\\\\Data\"\n",
    "print(path_to_data)"
   ]
  },
  {
   "cell_type": "code",
   "execution_count": 3,
   "metadata": {
    "collapsed": false
   },
   "outputs": [],
   "source": [
    "output_dist={}\n",
    "for subdir,dirs, files in os.walk(path_to_data):\n",
    "    #print(files)\n",
    "    for file in files:\n",
    "        if file == 'vehicle_collisions.csv':\n",
    "            #print(file)\n",
    "            csv_data=pd.read_csv(os.path.join(subdir,file))"
   ]
  },
  {
   "cell_type": "markdown",
   "metadata": {},
   "source": [
    "## Extracting year and month from date column "
   ]
  },
  {
   "cell_type": "code",
   "execution_count": 5,
   "metadata": {
    "collapsed": false
   },
   "outputs": [
    {
     "name": "stdout",
     "output_type": "stream",
     "text": [
      "   UNIQUE KEY       DATE  TIME BOROUGH  ZIP CODE   LATITUDE  LONGITUDE  \\\n",
      "0     3146911 2015-01-01  0:20  QUEENS   11358.0  40.751847 -73.787862   \n",
      "1     3146180 2015-01-01  0:20     NaN       NaN  40.771289 -73.946693   \n",
      "\n",
      "                    LOCATION ON STREET NAME CROSS STREET NAME  ...   \\\n",
      "0   (40.7518471, -73.787862)      47 AVENUE        193 STREET  ...    \n",
      "1  (40.7712888, -73.9466928)            NaN               NaN  ...    \n",
      "\n",
      "  VEHICLE 3 TYPE  VEHICLE 4 TYPE  VEHICLE 5 TYPE             VEHICLE 1 FACTOR  \\\n",
      "0            NaN             NaN             NaN  TRAFFIC CONTROL DISREGARDED   \n",
      "1            NaN             NaN             NaN               ANIMALS ACTION   \n",
      "\n",
      "   VEHICLE 2 FACTOR  VEHICLE 3 FACTOR  VEHICLE 4 FACTOR  VEHICLE 5 FACTOR  \\\n",
      "0               NaN               NaN               NaN               NaN   \n",
      "1               NaN               NaN               NaN               NaN   \n",
      "\n",
      "   MONTH  YEAR  \n",
      "0    Jan  2015  \n",
      "1    Jan  2015  \n",
      "\n",
      "[2 rows x 31 columns]\n"
     ]
    }
   ],
   "source": [
    "csv_data[\"DATE\"] = pd.to_datetime(csv_data.DATE)\n",
    "csv_data[\"MONTH\"] = csv_data.DATE.dt.month\n",
    "csv_data[\"MONTH\"] = csv_data[\"MONTH\"].apply(lambda x: calendar.month_abbr [x])\n",
    "csv_data[\"YEAR\"] = csv_data.DATE.dt.year\n",
    "print(csv_data.head(2))"
   ]
  },
  {
   "cell_type": "markdown",
   "metadata": {},
   "source": [
    "## Getting the count for MANHATTAN & NYC monthwise "
   ]
  },
  {
   "cell_type": "code",
   "execution_count": 6,
   "metadata": {
    "collapsed": false
   },
   "outputs": [],
   "source": [
    "csv_data[\"COUNT\"] = 1\n",
    "Manhattan_df = pd.DataFrame(csv_data[(csv_data.YEAR == 2016) & (csv_data.BOROUGH == \"MANHATTAN\")].groupby(\"MONTH\").COUNT.sum().reset_index())"
   ]
  },
  {
   "cell_type": "code",
   "execution_count": 7,
   "metadata": {
    "collapsed": false
   },
   "outputs": [
    {
     "name": "stdout",
     "output_type": "stream",
     "text": [
      "  MONTH  COUNT\n",
      "0   Apr  18331\n",
      "1   Aug  19678\n"
     ]
    }
   ],
   "source": [
    "NYC_df = pd.DataFrame(csv_data[(csv_data.YEAR == 2016)].groupby(\"MONTH\").COUNT.sum().reset_index())\n",
    "print(NYC_df.head(2))"
   ]
  },
  {
   "cell_type": "markdown",
   "metadata": {},
   "source": [
    "## Merging data frame to get the data in single frame "
   ]
  },
  {
   "cell_type": "code",
   "execution_count": 8,
   "metadata": {
    "collapsed": false
   },
   "outputs": [
    {
     "name": "stdout",
     "output_type": "stream",
     "text": [
      "  MONTH  MANHATTAN  NEWYORK\n",
      "0   Apr       3540    18331\n",
      "1   Aug       2844    19678\n"
     ]
    }
   ],
   "source": [
    "total_df = pd.merge(Manhattan_df, NYC_df , on ='MONTH' , how='inner')\n",
    "total_df.columns = [\"MONTH\",\"MANHATTAN\",\"NEWYORK\"]\n",
    "print(total_df.head(2))"
   ]
  },
  {
   "cell_type": "markdown",
   "metadata": {},
   "source": [
    "## Calculating the percentage "
   ]
  },
  {
   "cell_type": "code",
   "execution_count": 11,
   "metadata": {
    "collapsed": false
   },
   "outputs": [
    {
     "data": {
      "text/html": [
       "<div>\n",
       "<table border=\"1\" class=\"dataframe\">\n",
       "  <thead>\n",
       "    <tr style=\"text-align: right;\">\n",
       "      <th></th>\n",
       "      <th>MONTH</th>\n",
       "      <th>MANHATTAN</th>\n",
       "      <th>NEWYORK</th>\n",
       "      <th>Percentage</th>\n",
       "    </tr>\n",
       "  </thead>\n",
       "  <tbody>\n",
       "    <tr>\n",
       "      <th>0</th>\n",
       "      <td>Apr</td>\n",
       "      <td>3540</td>\n",
       "      <td>18331</td>\n",
       "      <td>19.311549</td>\n",
       "    </tr>\n",
       "    <tr>\n",
       "      <th>1</th>\n",
       "      <td>Aug</td>\n",
       "      <td>2844</td>\n",
       "      <td>19678</td>\n",
       "      <td>14.452688</td>\n",
       "    </tr>\n",
       "  </tbody>\n",
       "</table>\n",
       "</div>"
      ],
      "text/plain": [
       "  MONTH  MANHATTAN  NEWYORK  Percentage\n",
       "0   Apr       3540    18331   19.311549\n",
       "1   Aug       2844    19678   14.452688"
      ]
     },
     "execution_count": 11,
     "metadata": {},
     "output_type": "execute_result"
    }
   ],
   "source": [
    "total_df[\"Percentage\"] = (total_df.MANHATTAN / total_df.NEWYORK)*100\n",
    "print(total_df.head(2))"
   ]
  },
  {
   "cell_type": "code",
   "execution_count": 10,
   "metadata": {
    "collapsed": true
   },
   "outputs": [],
   "source": [
    "def save_to_CSV():\n",
    "    if not os.path.exists(homedir+\"\\\\Assignment 3\\\\Output\\\\Question1_part1\"):\n",
    "        os.makedirs(homedir+\"\\\\Assignment 3\\\\Output\\\\Question1_part1\")\n",
    "    with open(homedir+'\\\\Assignment 3\\\\Output\\\\Question1_part1\\\\Q1P1.csv', 'w') as myfile:\n",
    "        myfile.write(total_df.to_csv(index=False))"
   ]
  },
  {
   "cell_type": "code",
   "execution_count": null,
   "metadata": {
    "collapsed": true
   },
   "outputs": [],
   "source": [
    "save_to_CSV()"
   ]
  }
 ],
 "metadata": {
  "anaconda-cloud": {},
  "kernelspec": {
   "display_name": "Python [conda root]",
   "language": "python",
   "name": "conda-root-py"
  },
  "language_info": {
   "codemirror_mode": {
    "name": "ipython",
    "version": 3
   },
   "file_extension": ".py",
   "mimetype": "text/x-python",
   "name": "python",
   "nbconvert_exporter": "python",
   "pygments_lexer": "ipython3",
   "version": "3.5.2"
  }
 },
 "nbformat": 4,
 "nbformat_minor": 1
}
