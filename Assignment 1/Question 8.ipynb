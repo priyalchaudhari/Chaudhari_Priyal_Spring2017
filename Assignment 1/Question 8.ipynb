{
 "cells": [
  {
   "cell_type": "markdown",
   "metadata": {},
   "source": [
    "# Question 8\n",
    "- Use nps_chat and wordlist corpus.\n",
    "- If you find a word in nps_chat but not in wordlist, it is considered an unusual word. (e.g. Heyyyy, gr8, 4ever can be -   considered unusual words for this analysis)\n",
    "- Find out how many unusual words people speak in chat (notice: usernames should not be counted)\n"
   ]
  },
  {
   "cell_type": "code",
   "execution_count": 2,
   "metadata": {
    "collapsed": true
   },
   "outputs": [],
   "source": [
    "import nltk"
   ]
  },
  {
   "cell_type": "code",
   "execution_count": 3,
   "metadata": {
    "collapsed": true
   },
   "outputs": [],
   "source": [
    "from nltk.corpus import nps_chat,words,stopwords"
   ]
  },
  {
   "cell_type": "markdown",
   "metadata": {},
   "source": [
    "# Finding unusal words\n",
    "- Note: Give program some time to run it takes time because of number of words and lots of looping (around 60 sec)"
   ]
  },
  {
   "cell_type": "code",
   "execution_count": 4,
   "metadata": {
    "collapsed": false
   },
   "outputs": [
    {
     "name": "stdout",
     "output_type": "stream",
     "text": [
      "Count of unusal words is: \n",
      " 10987\n"
     ]
    }
   ],
   "source": [
    "import string\n",
    "import re\n",
    "\n",
    "def userCheck(str1):                             # function to remove if there is any username in the word list \n",
    "    if str1[:1]=='U' and str.isdigit(str1[1:]):\n",
    "        return True\n",
    "    else:\n",
    "        return False\n",
    "\n",
    "def main():\n",
    "    chatFileName = nps_chat.fileids()\n",
    "    chatWords = []                               # list for all chat words \n",
    "    regulWordList = words.words()\n",
    "    stopwordList = stopwords.words('english')     # getting all stopwords in a list \n",
    "    newWordList = []\n",
    "    for name in chatFileName:\n",
    "        uncleanWords = list(nps_chat.words(name))  # word list with punctuation \n",
    "        chatWords = [''.join(c for c in s if c not in string.punctuation) for s in uncleanWords]\n",
    "        chatWords = [s for s in chatWords if s]      # removing punctuation from word list \n",
    "        #print(chatWords)\n",
    "        for z in chatWords:                      #iterating on words \n",
    "            if z not in regulWordList and z not in stopwordList and not userCheck(z):  #remove all stopwords,username,regulaarwords \n",
    "                newWordList.append(z)            #building new list \n",
    "    print('Count of unusal words is: \\n',len(newWordList))                      #printing count of those words. \n",
    "    \n",
    "main()\n"
   ]
  },
  {
   "cell_type": "markdown",
   "metadata": {},
   "source": [
    "# Bonus Question \n",
    "- Bonus: What if I want to  count : ) , : ( all these emoticons in. (optional)"
   ]
  },
  {
   "cell_type": "code",
   "execution_count": 5,
   "metadata": {
    "collapsed": false
   },
   "outputs": [
    {
     "name": "stdout",
     "output_type": "stream",
     "text": [
      "frequency for emotions is : \n",
      " {':*': 0, ':)': 101, ':(': 9, ':@': 1}\n"
     ]
    }
   ],
   "source": [
    "def start():\n",
    "    chatFileName1 = nps_chat.fileids()\n",
    "    chatWords1 = []\n",
    "    regulWordList1 = words.words()\n",
    "    stopwordList1 = stopwords.words('english')\n",
    "    newWordList1 = []\n",
    "    uncleanWords1=[]\n",
    "    for name1 in chatFileName1:\n",
    "        uncleanWords1 += list(nps_chat.words(name1))\n",
    "    #print(uncleanWords1)\n",
    "    Adict={}\n",
    "    Adict[':)']=0\n",
    "    Adict[':(']=0\n",
    "    Adict[':@']=0\n",
    "    Adict[':*']=0 \n",
    "    \n",
    "    for w in uncleanWords1:\n",
    "        if w in Adict:\n",
    "            Adict[w]+=1\n",
    "    print('frequency for emotions is : \\n',Adict)\n",
    "        \n",
    "start()"
   ]
  },
  {
   "cell_type": "code",
   "execution_count": null,
   "metadata": {
    "collapsed": true
   },
   "outputs": [],
   "source": []
  }
 ],
 "metadata": {
  "anaconda-cloud": {},
  "kernelspec": {
   "display_name": "Python [conda root]",
   "language": "python",
   "name": "conda-root-py"
  },
  "language_info": {
   "codemirror_mode": {
    "name": "ipython",
    "version": 3
   },
   "file_extension": ".py",
   "mimetype": "text/x-python",
   "name": "python",
   "nbconvert_exporter": "python",
   "pygments_lexer": "ipython3",
   "version": "3.5.2"
  }
 },
 "nbformat": 4,
 "nbformat_minor": 1
}
