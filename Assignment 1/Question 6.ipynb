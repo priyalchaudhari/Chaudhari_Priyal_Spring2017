{
 "cells": [
  {
   "cell_type": "markdown",
   "metadata": {},
   "source": [
    "# Question 6:\n",
    "- Under Inaugural Address package\n",
    "- For every president, find out how many unique words they used in speech. \n",
    "- We will just assume that President Bush means one person (technically it is incorrect but we will ignore it)"
   ]
  },
  {
   "cell_type": "code",
   "execution_count": 1,
   "metadata": {
    "collapsed": true
   },
   "outputs": [],
   "source": [
    "import nltk"
   ]
  },
  {
   "cell_type": "code",
   "execution_count": 2,
   "metadata": {
    "collapsed": true
   },
   "outputs": [],
   "source": [
    "from nltk.corpus import inaugural"
   ]
  },
  {
   "cell_type": "code",
   "execution_count": 3,
   "metadata": {
    "collapsed": true
   },
   "outputs": [],
   "source": [
    "from nltk.corpus import stopwords"
   ]
  },
  {
   "cell_type": "code",
   "execution_count": 6,
   "metadata": {
    "collapsed": false,
    "scrolled": true
   },
   "outputs": [
    {
     "data": {
      "text/plain": [
       "['1789-Washington.txt',\n",
       " '1793-Washington.txt',\n",
       " '1797-Adams.txt',\n",
       " '1801-Jefferson.txt',\n",
       " '1805-Jefferson.txt',\n",
       " '1809-Madison.txt',\n",
       " '1813-Madison.txt',\n",
       " '1817-Monroe.txt',\n",
       " '1821-Monroe.txt',\n",
       " '1825-Adams.txt',\n",
       " '1829-Jackson.txt',\n",
       " '1833-Jackson.txt',\n",
       " '1837-VanBuren.txt',\n",
       " '1841-Harrison.txt',\n",
       " '1845-Polk.txt',\n",
       " '1849-Taylor.txt',\n",
       " '1853-Pierce.txt',\n",
       " '1857-Buchanan.txt',\n",
       " '1861-Lincoln.txt',\n",
       " '1865-Lincoln.txt',\n",
       " '1869-Grant.txt',\n",
       " '1873-Grant.txt',\n",
       " '1877-Hayes.txt',\n",
       " '1881-Garfield.txt',\n",
       " '1885-Cleveland.txt',\n",
       " '1889-Harrison.txt',\n",
       " '1893-Cleveland.txt',\n",
       " '1897-McKinley.txt',\n",
       " '1901-McKinley.txt',\n",
       " '1905-Roosevelt.txt',\n",
       " '1909-Taft.txt',\n",
       " '1913-Wilson.txt',\n",
       " '1917-Wilson.txt',\n",
       " '1921-Harding.txt',\n",
       " '1925-Coolidge.txt',\n",
       " '1929-Hoover.txt',\n",
       " '1933-Roosevelt.txt',\n",
       " '1937-Roosevelt.txt',\n",
       " '1941-Roosevelt.txt',\n",
       " '1945-Roosevelt.txt',\n",
       " '1949-Truman.txt',\n",
       " '1953-Eisenhower.txt',\n",
       " '1957-Eisenhower.txt',\n",
       " '1961-Kennedy.txt',\n",
       " '1965-Johnson.txt',\n",
       " '1969-Nixon.txt',\n",
       " '1973-Nixon.txt',\n",
       " '1977-Carter.txt',\n",
       " '1981-Reagan.txt',\n",
       " '1985-Reagan.txt',\n",
       " '1989-Bush.txt',\n",
       " '1993-Clinton.txt',\n",
       " '1997-Clinton.txt',\n",
       " '2001-Bush.txt',\n",
       " '2005-Bush.txt',\n",
       " '2009-Obama.txt']"
      ]
     },
     "execution_count": 6,
     "metadata": {},
     "output_type": "execute_result"
    }
   ],
   "source": [
    "inaugural.fileids()"
   ]
  },
  {
   "cell_type": "code",
   "execution_count": 4,
   "metadata": {
    "collapsed": false,
    "scrolled": false
   },
   "outputs": [
    {
     "name": "stdout",
     "output_type": "stream",
     "text": [
      "number of unique words for: \n",
      "Bush : 1462\n",
      "Wilson : 895\n",
      "Harrison : 2540\n",
      "Washington : 573\n",
      "Coolidge : 1124\n",
      "Jackson : 757\n",
      "Jefferson : 1155\n",
      "Eisenhower : 1147\n",
      "Garfield : 927\n",
      "Taylor : 428\n",
      "VanBuren : 1211\n",
      "Pierce : 1066\n",
      "Grant : 759\n",
      "Obama : 841\n",
      "Polk : 1229\n",
      "Nixon : 929\n",
      "Monroe : 1672\n",
      "Cleveland : 1121\n",
      "Johnson : 481\n",
      "Hayes : 742\n",
      "Hoover : 1001\n",
      "Taft : 1332\n",
      "Reagan : 1332\n",
      "Kennedy : 485\n",
      "Roosevelt : 1588\n",
      "Buchanan : 856\n",
      "McKinley : 1576\n",
      "Clinton : 1031\n",
      "Adams : 1392\n",
      "Lincoln : 1144\n",
      "Carter : 444\n",
      "Truman : 696\n",
      "Madison : 802\n",
      "Harding : 1070\n"
     ]
    }
   ],
   "source": [
    "filName = inaugural.fileids()\n",
    "dist ={}\n",
    "presNameList =[]\n",
    "stopwordList = []\n",
    "punctuationList =[' ','.',',',':',';','!','(',')','#','*','?']       #declaring the punctuation list \n",
    "stopwords1 = stopwords.open('english')                              #getting the stopwordlist \n",
    "for sentence in stopwords1:\n",
    "    sentence = sentence.strip(\"\\n\")\n",
    "    stopwordList.append(sentence)\n",
    "for x in filName:\n",
    "    x1 = x.split(\"-\")\n",
    "    presidentName = (x1[1][:-4])                            # spliting the filename on '-' and getting exact president name \n",
    "    if presidentName not in presNameList:                   # if president name occuring for first time declare unique word list\n",
    "        presNameList.append(presidentName)\n",
    "        unique_words =[]\n",
    "        wordList = inaugural.words(x)\n",
    "        for i in wordList:\n",
    "            if i not in unique_words and i not in stopwordList and i not in punctuationList:\n",
    "                unique_words.append(i);                    # building the unique word list for respective president \n",
    "        #if presidentName in dist:\n",
    "        dist[presidentName] = unique_words\n",
    "    else:\n",
    "        unique_words = dist[presidentName]               # if president is repeating then countinue adding words in hid list \n",
    "        wordList = inaugural.words(x)\n",
    "        for i in wordList:\n",
    "            if i not in unique_words and i not in stopwordList and i not in punctuationList:\n",
    "                unique_words.append(i);   \n",
    "        #if presidentName in dist:\n",
    "        dist[presidentName] = unique_words\n",
    "        \n",
    "print('number of unique words for: ')                    #printing count of unique words for each president \n",
    "for m,n in dist.items():\n",
    "    print(m,':',len(n))"
   ]
  }
 ],
 "metadata": {
  "anaconda-cloud": {},
  "kernelspec": {
   "display_name": "Python [default]",
   "language": "python",
   "name": "python3"
  },
  "language_info": {
   "codemirror_mode": {
    "name": "ipython",
    "version": 3
   },
   "file_extension": ".py",
   "mimetype": "text/x-python",
   "name": "python",
   "nbconvert_exporter": "python",
   "pygments_lexer": "ipython3",
   "version": "3.5.2"
  }
 },
 "nbformat": 4,
 "nbformat_minor": 1
}
