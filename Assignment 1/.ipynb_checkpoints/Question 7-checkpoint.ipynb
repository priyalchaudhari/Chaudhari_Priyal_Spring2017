{
 "cells": [
  {
   "cell_type": "markdown",
   "metadata": {},
   "source": [
    "# Question 7: \n",
    "- Use Name corpus, calculate the probability of a name being of a male or female base on the last character(s) of name.\n",
    "- Sample steps:\n",
    "- For char ‘a’:\n",
    "-\ttotal_names = sum(names ending with ‘a’)\n",
    "\tmale_names = sum(male names ending with ‘a’)\n",
    "\tfemale_names = sum(female names ending with ‘a’)\n",
    "\tProbability of name being male = 100 * male_names / total_names\n",
    "2. Do this for all characters. \n",
    "- Output must come with proper title (e.g. [a] male: 25%, female: 60%)\n"
   ]
  },
  {
   "cell_type": "code",
   "execution_count": 1,
   "metadata": {
    "collapsed": true
   },
   "outputs": [],
   "source": [
    "import nltk"
   ]
  },
  {
   "cell_type": "code",
   "execution_count": 2,
   "metadata": {
    "collapsed": true
   },
   "outputs": [],
   "source": [
    "from nltk.corpus import names"
   ]
  },
  {
   "cell_type": "code",
   "execution_count": 11,
   "metadata": {
    "collapsed": false,
    "scrolled": true
   },
   "outputs": [
    {
     "name": "stdout",
     "output_type": "stream",
     "text": [
      "for character  ---->   a \n",
      " probability for male name is 1.609322974472808 % \n",
      " probability for female name is 98.3906770255272 % \n",
      "\n",
      "for character  ---->   b \n",
      " probability for male name is 2.7292576419213974 % \n",
      " probability for female name is 97.27074235807859 % \n",
      "\n",
      "for character  ---->   c \n",
      " probability for male name is 4.038772213247173 % \n",
      " probability for female name is 95.96122778675283 % \n",
      "\n",
      "for character  ---->   d \n",
      " probability for male name is 14.26553672316384 % \n",
      " probability for female name is 85.73446327683615 % \n",
      "\n",
      "for character  ---->   e \n",
      " probability for male name is 19.16003976143141 % \n",
      " probability for female name is 80.83996023856858 % \n",
      "\n",
      "for character  ---->   f \n",
      " probability for male name is 19.649469266847692 % \n",
      " probability for female name is 80.3505307331523 % \n",
      "\n",
      "for character  ---->   g \n",
      " probability for male name is 20.2296603957977 % \n",
      " probability for female name is 79.7703396042023 % \n",
      "\n",
      "for character  ---->   h \n",
      " probability for male name is 21.46352831507807 % \n",
      " probability for female name is 78.53647168492192 % \n",
      "\n",
      "for character  ---->   i \n",
      " probability for male name is 20.845856590811508 % \n",
      " probability for female name is 79.15414340918849 % \n",
      "\n",
      "for character  ---->   j \n",
      " probability for male name is 20.892320892320893 % \n",
      " probability for female name is 79.1076791076791 % \n",
      "\n",
      "for character  ---->   k \n",
      " probability for male name is 22.032108153781156 % \n",
      " probability for female name is 77.96789184621883 % \n",
      "\n",
      "for character  ---->   l \n",
      " probability for male name is 24.11764705882353 % \n",
      " probability for female name is 75.88235294117646 % \n",
      "\n",
      "for character  ---->   m \n",
      " probability for male name is 25.081998842369284 % \n",
      " probability for female name is 74.91800115763073 % \n",
      "\n",
      "for character  ---->   n \n",
      " probability for male name is 29.403009756904254 % \n",
      " probability for female name is 70.59699024309575 % \n",
      "\n",
      "for character  ---->   o \n",
      " probability for male name is 31.112890312249803 % \n",
      " probability for female name is 68.8871096877502 % \n",
      "\n",
      "for character  ---->   p \n",
      " probability for male name is 31.300877893056665 % \n",
      " probability for female name is 68.69912210694334 % \n",
      "\n",
      "for character  ---->   q \n",
      " probability for male name is 31.300877893056665 % \n",
      " probability for female name is 68.69912210694334 % \n",
      "\n",
      "for character  ---->   r \n",
      " probability for male name is 33.08212857582282 % \n",
      " probability for female name is 66.91787142417718 % \n",
      "\n",
      "for character  ---->   s \n",
      " probability for male name is 34.88644688644689 % \n",
      " probability for female name is 65.11355311355311 % \n",
      "\n",
      "for character  ---->   t \n",
      " probability for male name is 36.063483066458836 % \n",
      " probability for female name is 63.936516933541164 % \n",
      "\n",
      "for character  ---->   u \n",
      " probability for male name is 36.14134275618375 % \n",
      " probability for female name is 63.85865724381625 % \n",
      "\n",
      "for character  ---->   v \n",
      " probability for male name is 36.27520090229804 % \n",
      " probability for female name is 63.724799097701954 % \n",
      "\n",
      "for character  ---->   w \n",
      " probability for male name is 36.40196767392832 % \n",
      " probability for female name is 63.598032326071674 % \n",
      "\n",
      "for character  ---->   x \n",
      " probability for male name is 36.44008409250175 % \n",
      " probability for female name is 63.559915907498244 % \n",
      "\n",
      "for character  ---->   y \n",
      " probability for male name is 36.98284561049445 % \n",
      " probability for female name is 63.01715438950555 % \n",
      "\n",
      "for character  ---->   z \n",
      " probability for male name is 37.05149187964245 % \n",
      " probability for female name is 62.94850812035755 % \n",
      "\n"
     ]
    }
   ],
   "source": [
    "import string\n",
    "alphabet = list(string.ascii_lowercase)        # getting the list of all 26 characters\n",
    "femaleNameList = names.words('female.txt')     #getting female names \n",
    "maleNameList = names.words('male.txt')         # getting male names \n",
    "count= 0 \n",
    "count1=0\n",
    "for char in alphabet:\n",
    "    for name1 in femaleNameList:\n",
    "        if name1[-1:] == char:\n",
    "            count +=1                      \n",
    "    for name2 in maleNameList:\n",
    "        if name2[-1:] == char:\n",
    "            count1 +=1\n",
    "    pw = 100*(count/(count+count1))        # counting the probability for female \n",
    "    pm = 100*(count1/(count+count1))        # counting probability for male\n",
    "    print('for character  ---->  ',char,'\\n','probability for male name is',pm,'% \\n','probability for female name is',pw,'% \\n')"
   ]
  }
 ],
 "metadata": {
  "anaconda-cloud": {},
  "kernelspec": {
   "display_name": "Python [conda root]",
   "language": "python",
   "name": "conda-root-py"
  },
  "language_info": {
   "codemirror_mode": {
    "name": "ipython",
    "version": 3
   },
   "file_extension": ".py",
   "mimetype": "text/x-python",
   "name": "python",
   "nbconvert_exporter": "python",
   "pygments_lexer": "ipython3",
   "version": "3.5.2"
  }
 },
 "nbformat": 4,
 "nbformat_minor": 1
}
