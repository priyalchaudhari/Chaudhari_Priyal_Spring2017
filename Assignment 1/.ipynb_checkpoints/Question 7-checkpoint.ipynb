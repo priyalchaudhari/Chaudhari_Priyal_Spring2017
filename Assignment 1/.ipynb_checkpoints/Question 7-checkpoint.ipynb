{
 "cells": [
  {
   "cell_type": "markdown",
   "metadata": {},
   "source": [
    "# Question 7: \n",
    "- Use Name corpus, calculate the probability of a name being of a male or female base on the last character(s) of name.\n",
    "- Sample steps:\n",
    "- For char ‘a’:\n",
    "-\ttotal_names = sum(names ending with ‘a’)\n",
    "\tmale_names = sum(male names ending with ‘a’)\n",
    "\tfemale_names = sum(female names ending with ‘a’)\n",
    "\tProbability of name being male = 100 * male_names / total_names\n",
    "2. Do this for all characters. \n",
    "- Output must come with proper title (e.g. [a] male: 25%, female: 60%)\n"
   ]
  },
  {
   "cell_type": "code",
   "execution_count": 2,
   "metadata": {
    "collapsed": true
   },
   "outputs": [],
   "source": [
    "import nltk"
   ]
  },
  {
   "cell_type": "code",
   "execution_count": 3,
   "metadata": {
    "collapsed": true
   },
   "outputs": [],
   "source": [
    "from nltk.corpus import names"
   ]
  },
  {
   "cell_type": "code",
   "execution_count": 11,
   "metadata": {
    "collapsed": false,
    "scrolled": true
   },
   "outputs": [
    {
     "name": "stdout",
     "output_type": "stream",
     "text": [
      "for character  ---->   a \n",
      " probability for male name is 1.609322974472808 % \n",
      " probability for female name is 98.3906770255272 % \n",
      "\n",
      "for character  ---->   b \n",
      " probability for male name is 70.0 % \n",
      " probability for female name is 30.0 % \n",
      "\n",
      "for character  ---->   c \n",
      " probability for male name is 100.0 % \n",
      " probability for female name is 0.0 % \n",
      "\n",
      "for character  ---->   d \n",
      " probability for male name is 85.39325842696628 % \n",
      " probability for female name is 14.606741573033707 % \n",
      "\n",
      "for character  ---->   e \n",
      " probability for male name is 24.63157894736842 % \n",
      " probability for female name is 75.36842105263158 % \n",
      "\n",
      "for character  ---->   f \n",
      " probability for male name is 92.5925925925926 % \n",
      " probability for female name is 7.4074074074074066 % \n",
      "\n",
      "for character  ---->   g \n",
      " probability for male name is 76.19047619047619 % \n",
      " probability for female name is 23.809523809523807 % \n",
      "\n",
      "for character  ---->   h \n",
      " probability for male name is 46.96969696969697 % \n",
      " probability for female name is 53.03030303030303 % \n",
      "\n",
      "for character  ---->   i \n",
      " probability for male name is 13.623978201634879 % \n",
      " probability for female name is 86.37602179836512 % \n",
      "\n",
      "for character  ---->   j \n",
      " probability for male name is 75.0 % \n",
      " probability for female name is 25.0 % \n",
      "\n",
      "for character  ---->   k \n",
      " probability for male name is 95.83333333333334 % \n",
      " probability for female name is 4.166666666666666 % \n",
      "\n",
      "for character  ---->   l \n",
      " probability for male name is 51.09289617486339 % \n",
      " probability for female name is 48.90710382513661 % \n",
      "\n",
      "for character  ---->   m \n",
      " probability for male name is 84.33734939759037 % \n",
      " probability for female name is 15.66265060240964 % \n",
      "\n",
      "for character  ---->   n \n",
      " probability for male name is 55.32407407407407 % \n",
      " probability for female name is 44.675925925925924 % \n",
      "\n",
      "for character  ---->   o \n",
      " probability for male name is 83.33333333333334 % \n",
      " probability for female name is 16.666666666666664 % \n",
      "\n",
      "for character  ---->   p \n",
      " probability for male name is 90.0 % \n",
      " probability for female name is 10.0 % \n",
      "\n",
      "for character  ---->   q \n",
      " probability for male name is 0 % \n",
      " probability for female name is 0 % \n",
      "\n",
      "for character  ---->   r \n",
      " probability for male name is 80.16877637130801 % \n",
      " probability for female name is 19.831223628691983 % \n",
      "\n",
      "for character  ---->   s \n",
      " probability for male name is 71.20743034055728 % \n",
      " probability for female name is 28.792569659442723 % \n",
      "\n",
      "for character  ---->   t \n",
      " probability for male name is 70.6896551724138 % \n",
      " probability for female name is 29.310344827586203 % \n",
      "\n",
      "for character  ---->   u \n",
      " probability for male name is 66.66666666666666 % \n",
      " probability for female name is 33.33333333333333 % \n",
      "\n",
      "for character  ---->   v \n",
      " probability for male name is 88.88888888888889 % \n",
      " probability for female name is 11.11111111111111 % \n",
      "\n",
      "for character  ---->   w \n",
      " probability for male name is 77.27272727272727 % \n",
      " probability for female name is 22.727272727272727 % \n",
      "\n",
      "for character  ---->   x \n",
      " probability for male name is 50.0 % \n",
      " probability for female name is 50.0 % \n",
      "\n",
      "for character  ---->   y \n",
      " probability for male name is 41.86633039092055 % \n",
      " probability for female name is 58.13366960907944 % \n",
      "\n",
      "for character  ---->   z \n",
      " probability for male name is 73.33333333333333 % \n",
      " probability for female name is 26.666666666666668 % \n",
      "\n"
     ]
    }
   ],
   "source": [
    "import string\n",
    "alphabet = list(string.ascii_lowercase)        # getting the list of all 26 characters\n",
    "femaleNameList = names.words('female.txt')     #getting female names \n",
    "maleNameList = names.words('male.txt')         # getting male names \n",
    "#print(femaleNameList)\n",
    "\n",
    "for char in alphabet:\n",
    "        count= 0 \n",
    "        count1=0\n",
    "        for name1 in femaleNameList:\n",
    "            if name1[-1:] == char:\n",
    "                count +=1      \n",
    "                #print(name1)\n",
    "        for name2 in maleNameList:\n",
    "            if name2[-1:] == char:\n",
    "                count1 +=1\n",
    "                #print(name2)\n",
    "        if count+count1 != 0:\n",
    "            pw = 100*(count/(count+count1))        # counting the probability for female \n",
    "            pm = 100*(count1/(count+count1))        # counting probability for male\n",
    "        else:\n",
    "            pw =0\n",
    "            pm =0\n",
    "        print('for character  ---->  ',char,'\\n','probability for male name is',pm,'% \\n','probability for female name is',pw,'% \\n')"
   ]
  },
  {
   "cell_type": "code",
   "execution_count": null,
   "metadata": {
    "collapsed": true
   },
   "outputs": [],
   "source": []
  }
 ],
 "metadata": {
  "anaconda-cloud": {},
  "kernelspec": {
   "display_name": "Python [conda root]",
   "language": "python",
   "name": "conda-root-py"
  },
  "language_info": {
   "codemirror_mode": {
    "name": "ipython",
    "version": 3
   },
   "file_extension": ".py",
   "mimetype": "text/x-python",
   "name": "python",
   "nbconvert_exporter": "python",
   "pygments_lexer": "ipython3",
   "version": "3.5.2"
  }
 },
 "nbformat": 4,
 "nbformat_minor": 1
}
