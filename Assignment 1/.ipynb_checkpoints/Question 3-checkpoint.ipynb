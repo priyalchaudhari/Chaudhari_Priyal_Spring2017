{
 "cells": [
  {
   "cell_type": "markdown",
   "metadata": {},
   "source": [
    "# Question 3:\n",
    "- Under package Webtext, see what files are in it.\n",
    "- Get content in file 'pirates.txt'.\n",
    "- According to the number of lines for Jack Sparrow and Will Turner, find out who is the real leading man in this movie."
   ]
  },
  {
   "cell_type": "code",
   "execution_count": 1,
   "metadata": {
    "collapsed": true
   },
   "outputs": [],
   "source": [
    "import nltk"
   ]
  },
  {
   "cell_type": "code",
   "execution_count": 2,
   "metadata": {
    "collapsed": false
   },
   "outputs": [
    {
     "data": {
      "text/plain": [
       "['firefox.txt',\n",
       " 'grail.txt',\n",
       " 'overheard.txt',\n",
       " 'pirates.txt',\n",
       " 'singles.txt',\n",
       " 'wine.txt']"
      ]
     },
     "execution_count": 2,
     "metadata": {},
     "output_type": "execute_result"
    }
   ],
   "source": [
    "from nltk.corpus import webtext\n",
    "webtext.fileids() # getting the content from package webtext"
   ]
  },
  {
   "cell_type": "code",
   "execution_count": 5,
   "metadata": {
    "collapsed": false
   },
   "outputs": [
    {
     "name": "stdout",
     "output_type": "stream",
     "text": [
      "PIRATES OF THE CARRIBEAN: DEAD MAN'S CHEST, by Ted Elliott & Terry Rossio\n",
      "[view looking straight down at rolling swells, sound of wind and thunder, then a low heartbeat]\n",
      "Scene: PORT ROYAL\n",
      "[teacups on a table in the rain]\n",
      "[sheet music on music stands in the rain]\n",
      "[bouquet of white orchids, Elizabeth sitting in the rain holding the bouquet]\n",
      "[men rowing, men on horseback, to the sound of thunder]\n",
      "[EITC logo on flag blowing in the wind]\n",
      "[many rowboats are entering the harbor]\n",
      "[Elizabeth sitting alone, at a distance]\n",
      "[marines running, kick a door in] \n",
      "[a mule is seen on the left in the barn where the marines enter]\n",
      "[Liz looking over her shoulder]\n",
      "[Elizabeth drops her bouquet]\n",
      "[Will is in manacles, being escorted by red coats]\n",
      "ELIZABETH SWANN: Will...!\n",
      "[Elizabeth runs to Will]\n",
      "ELIZABETH SWANN: W\n"
     ]
    }
   ],
   "source": [
    "content = nltk.corpus.webtext.raw('pirates.txt') # getting the content from pirate file \n",
    "print(content[0:800])"
   ]
  },
  {
   "cell_type": "markdown",
   "metadata": {},
   "source": [
    "#  Counting the number of lines for Jack or Will"
   ]
  },
  {
   "cell_type": "code",
   "execution_count": 41,
   "metadata": {
    "collapsed": false
   },
   "outputs": [
    {
     "name": "stdout",
     "output_type": "stream",
     "text": [
      "JACK SPARROW IS LEAD ACTOR WITH 193 sentences\n"
     ]
    }
   ],
   "source": [
    "from nltk.corpus import webtext\n",
    "sentences= webtext.open('pirates.txt') #opening the stream to read the given corpus file \n",
    "counter1=0\n",
    "counter2=0\n",
    "for word in sentences: # reading each sentence \n",
    "    x1 = word.split(':') # spliting the sentence on :\n",
    "    if x1[0] == 'JACK SPARROW':\n",
    "        counter1 +=1   # counting the sentences for jack\n",
    "    if word == 'WILL TURNER':\n",
    "        counter2 +=1   # counting the sentences for will turner\n",
    "if counter1>counter2:\n",
    "    print('JACK SPARROW IS LEAD ACTOR WITH',counter1,'sentences')\n",
    "else:\n",
    "    print('WILL TURNER IS LEAD ACTOR WITH',counter2,'sentences')"
   ]
  },
  {
   "cell_type": "code",
   "execution_count": null,
   "metadata": {
    "collapsed": true
   },
   "outputs": [],
   "source": []
  }
 ],
 "metadata": {
  "anaconda-cloud": {},
  "kernelspec": {
   "display_name": "Python [conda root]",
   "language": "python",
   "name": "conda-root-py"
  },
  "language_info": {
   "codemirror_mode": {
    "name": "ipython",
    "version": 3
   },
   "file_extension": ".py",
   "mimetype": "text/x-python",
   "name": "python",
   "nbconvert_exporter": "python",
   "pygments_lexer": "ipython3",
   "version": "3.5.2"
  }
 },
 "nbformat": 4,
 "nbformat_minor": 1
}
