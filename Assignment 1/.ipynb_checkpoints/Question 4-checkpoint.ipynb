{
 "cells": [
  {
   "cell_type": "markdown",
   "metadata": {},
   "source": [
    "# Question 4:\n",
    "- Under package nps_chat, see what files are in it.\n",
    "- Find 'user121' and see how many posts he posted in all.\n",
    "- Find out how many unique user in each age range group. (20s, 30s,...)(Hint: files' name)"
   ]
  },
  {
   "cell_type": "code",
   "execution_count": 2,
   "metadata": {
    "collapsed": true
   },
   "outputs": [],
   "source": [
    "import nltk"
   ]
  },
  {
   "cell_type": "code",
   "execution_count": 3,
   "metadata": {
    "collapsed": true
   },
   "outputs": [],
   "source": [
    "from nltk.corpus import nps_chat"
   ]
  },
  {
   "cell_type": "code",
   "execution_count": 4,
   "metadata": {
    "collapsed": false
   },
   "outputs": [
    {
     "name": "stdout",
     "output_type": "stream",
     "text": [
      "edited with XMLSpy v2007 sp1 (http://www.altova.com) by Eric Forsyth (Naval Postgraduate School) -->\n",
      "<Session xmlns:xsi=\"http://www.w3.org/2001/XMLSchema-instance\" xsi:noNamespaceSchemaLocation=\"postClassPOSTagset.xsd\">\n",
      "\t<Posts>\n",
      "\t\t<Post class=\"Statement\" user=\"10-19-20sUser7\">now im left with this gay name<terminals>\n",
      "\t\t\t\t<t pos=\"RB\" word=\"now\"/>\n",
      "\t\t\t\t<t pos=\"PRP\" word=\"im\"/>\n",
      "\t\t\t\t<t pos=\"VBD\" word=\"left\"/>\n",
      "\t\t\t\t<t pos=\"IN\" word=\"with\"/>\n",
      "\t\t\t\t<t pos=\"DT\" word=\"this\"/>\n",
      "\t\t\t\t<t pos=\"JJ\" word=\"gay\"/\n"
     ]
    }
   ],
   "source": [
    "content =nps_chat.raw('10-19-20s_706posts.xml') # content of a file \n",
    "print(content[5:500])"
   ]
  },
  {
   "cell_type": "markdown",
   "metadata": {},
   "source": [
    "# Counting the posts for User121"
   ]
  },
  {
   "cell_type": "code",
   "execution_count": 3,
   "metadata": {
    "collapsed": false
   },
   "outputs": [
    {
     "name": "stdout",
     "output_type": "stream",
     "text": [
      "\"User121\" has 203  total Post\n"
     ]
    }
   ],
   "source": [
    "import xml.etree.ElementTree as et\n",
    "file_list = nps_chat.fileids()        #getting the list of files under the nps_chat corpus\n",
    "counter1 =0\n",
    "for file_name in file_list:            #looping throgh all files\n",
    "    sen=nps_chat.open(file_name)      # opening the file stream \n",
    "    for word in sen:\n",
    "        if 'User121' in word:         #counting occurences of user121\n",
    "            counter1 += 1\n",
    "print('\"User121\" has',counter1,' total Post')  #final result"
   ]
  },
  {
   "cell_type": "markdown",
   "metadata": {},
   "source": [
    "# counting the users in each age group"
   ]
  },
  {
   "cell_type": "code",
   "execution_count": 5,
   "metadata": {
    "collapsed": false
   },
   "outputs": [
    {
     "name": "stdout",
     "output_type": "stream",
     "text": [
      "Unique users in 20's age group:   100\n",
      "Unique users in 30's age group:   44\n",
      "Unique users in 40's age group:   55\n"
     ]
    }
   ],
   "source": [
    "from xml.dom import minidom\n",
    "\n",
    "years_1 = {}                                             #Declaring the disctory for each age group\n",
    "years_1[\"20\"] = set()\n",
    "years_1[\"30\"] = set()\n",
    "years_1[\"40\"] = set()\n",
    "for newfilename in file_list:                            #Iterating through the filelist in corpus\n",
    "    b= newfilename.split(\"-\")\n",
    "    fName= (b[2][:2])                                     # spliting each filename and getting the age\n",
    "    if (fName != \"20\") and (fName != \"30\") and (fName != \"40\"):        #if file is not in desired age group break the loop \n",
    "        break\n",
    "    newfilename1 = nps_chat.abspath(newfilename)          #getting the location of file on disk\n",
    "    xmldoc = minidom.parse(newfilename1)                  # parsing the xml file\n",
    "    itemlist = xmldoc.getElementsByTagName('Post')        #getting the elements in post tag\n",
    "    innerDic=years_1[fName]\n",
    "    for s in itemlist:\n",
    "        val=s.attributes['user'].value                     # getting the value of user tag\n",
    "        inx=val.index('U')\n",
    "        userName = val[inx:]                               #slicing the username from string\n",
    "        innerDic.add(userName)                             #adding it to corresponding age group\n",
    "        #print(userName)\n",
    "        \n",
    "print(\"Unique users in 20's age group:  \", len(years_1[\"20\"]))\n",
    "print(\"Unique users in 30's age group:  \", len(years_1[\"30\"]))\n",
    "print(\"Unique users in 40's age group:  \", len(years_1[\"40\"]))\n",
    "        \n",
    "    "
   ]
  },
  {
   "cell_type": "code",
   "execution_count": null,
   "metadata": {
    "collapsed": true
   },
   "outputs": [],
   "source": []
  }
 ],
 "metadata": {
  "anaconda-cloud": {},
  "kernelspec": {
   "display_name": "Python [conda root]",
   "language": "python",
   "name": "conda-root-py"
  },
  "language_info": {
   "codemirror_mode": {
    "name": "ipython",
    "version": 3
   },
   "file_extension": ".py",
   "mimetype": "text/x-python",
   "name": "python",
   "nbconvert_exporter": "python",
   "pygments_lexer": "ipython3",
   "version": "3.5.2"
  }
 },
 "nbformat": 4,
 "nbformat_minor": 1
}
