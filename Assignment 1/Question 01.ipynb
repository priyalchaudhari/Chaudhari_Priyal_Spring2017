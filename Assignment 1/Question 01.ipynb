{
 "cells": [
  {
   "cell_type": "markdown",
   "metadata": {},
   "source": [
    "# Question 1\n",
    "- Under package Gutenberg, see what files are in it.\n",
    "- Find out how many words and how many unique words in file 'austen-persuasion.txt'.\n",
    "- Calculate the frequency for each words and show the top 10 most frequent words and their frequency.\n",
    "- Keep the punctuation and stop words in this question."
   ]
  },
  {
   "cell_type": "code",
   "execution_count": 5,
   "metadata": {
    "collapsed": true
   },
   "outputs": [],
   "source": [
    "import nltk"
   ]
  },
  {
   "cell_type": "code",
   "execution_count": 6,
   "metadata": {
    "collapsed": true
   },
   "outputs": [],
   "source": [
    "from nltk.corpus import gutenberg"
   ]
  },
  {
   "cell_type": "code",
   "execution_count": 3,
   "metadata": {
    "collapsed": false
   },
   "outputs": [
    {
     "data": {
      "text/plain": [
       "['austen-emma.txt',\n",
       " 'austen-persuasion.txt',\n",
       " 'austen-sense.txt',\n",
       " 'bible-kjv.txt',\n",
       " 'blake-poems.txt',\n",
       " 'bryant-stories.txt',\n",
       " 'burgess-busterbrown.txt',\n",
       " 'carroll-alice.txt',\n",
       " 'chesterton-ball.txt',\n",
       " 'chesterton-brown.txt',\n",
       " 'chesterton-thursday.txt',\n",
       " 'edgeworth-parents.txt',\n",
       " 'melville-moby_dick.txt',\n",
       " 'milton-paradise.txt',\n",
       " 'shakespeare-caesar.txt',\n",
       " 'shakespeare-hamlet.txt',\n",
       " 'shakespeare-macbeth.txt',\n",
       " 'whitman-leaves.txt']"
      ]
     },
     "execution_count": 3,
     "metadata": {},
     "output_type": "execute_result"
    }
   ],
   "source": [
    "nltk.corpus.gutenberg.fileids() # importing the package gutenberg and displaying its files"
   ]
  },
  {
   "cell_type": "code",
   "execution_count": 4,
   "metadata": {
    "collapsed": false
   },
   "outputs": [
    {
     "name": "stdout",
     "output_type": "stream",
     "text": [
      "Total Number of Words: 98171\n",
      "Number of unique words: 6132\n"
     ]
    }
   ],
   "source": [
    "words = nltk.corpus.gutenberg.words('austen-persuasion.txt') # storing words in a list\n",
    "Number_of_words=len(words)\n",
    "print('Total Number of Words:', Number_of_words) # print total number of words\n",
    "\n",
    "\n",
    "unique_words= [] # empty list\n",
    "for i in words: # looping through each word\n",
    "    if not i in unique_words:\n",
    "        unique_words.append(i); # if word is unique add it to empty list\n",
    "number_of_unique_words= len(unique_words)\n",
    "print('Number of unique words:', number_of_unique_words)"
   ]
  },
  {
   "cell_type": "code",
   "execution_count": 20,
   "metadata": {
    "collapsed": false
   },
   "outputs": [],
   "source": [
    "from collections import Counter"
   ]
  },
  {
   "cell_type": "code",
   "execution_count": 17,
   "metadata": {
    "collapsed": false
   },
   "outputs": [
    {
     "name": "stdout",
     "output_type": "stream",
     "text": [
      "sorted frequency list: \n",
      "  [(',', 6750), ('the', 3120), ('to', 2775), ('.', 2741), ('and', 2739), ('of', 2564), ('a', 1529), ('in', 1346), ('was', 1330), (';', 1290)]\n"
     ]
    }
   ],
   "source": [
    "import operator\n",
    "dist={}\n",
    "file = gutenberg.words('austen-persuasion.txt')\n",
    "for sentence in file:\n",
    "        if sentence in dist:\n",
    "            dist[sentence] = dist[sentence]+1     # building a disctonary \n",
    "        else:\n",
    "            dist[sentence]=1\n",
    "sorted_characters = sorted(dist.items(), key=operator.itemgetter(1), reverse = True) # sorting the dict based on frequency\n",
    "print('sorted frequency list: \\n ',sorted_characters[:10])  # print the top 10 items in the list"
   ]
  }
 ],
 "metadata": {
  "anaconda-cloud": {},
  "kernelspec": {
   "display_name": "Python [conda root]",
   "language": "python",
   "name": "conda-root-py"
  },
  "language_info": {
   "codemirror_mode": {
    "name": "ipython",
    "version": 3
   },
   "file_extension": ".py",
   "mimetype": "text/x-python",
   "name": "python",
   "nbconvert_exporter": "python",
   "pygments_lexer": "ipython3",
   "version": "3.5.2"
  }
 },
 "nbformat": 4,
 "nbformat_minor": 1
}
