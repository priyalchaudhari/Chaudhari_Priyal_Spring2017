{
 "cells": [
  {
   "cell_type": "markdown",
   "metadata": {},
   "source": [
    "#  Question 2\n",
    "- Under package Gutenberg get content from file 'melville-moby_dick.txt.'\n",
    "- Find out frequency of 26 characters.\n",
    "- List all 26 characters in order base on their frequency. "
   ]
  },
  {
   "cell_type": "code",
   "execution_count": 1,
   "metadata": {
    "collapsed": true
   },
   "outputs": [],
   "source": [
    "import nltk"
   ]
  },
  {
   "cell_type": "code",
   "execution_count": 2,
   "metadata": {
    "collapsed": false
   },
   "outputs": [
    {
     "name": "stdout",
     "output_type": "stream",
     "text": [
      "[Moby Dick by Herman Melville 1851]\r\n",
      "\r\n",
      "\r\n",
      "ETYMOLOGY.\r\n",
      "\r\n",
      "(Supplied by a Late Consumptive Usher to a Grammar School)\r\n",
      "\r\n",
      "The pale Usher--threadbare in coat, heart, body, and brain; I see him\r\n",
      "now.  He was ever dusting his old lexicons and grammars, with a queer\r\n",
      "handkerchief, mockingly embellished with all the gay flags of all the\r\n",
      "known nations of the world.  He loved to dust his old grammars; it\r\n",
      "somehow mildly reminded him of his mortality.\r\n",
      "\r\n",
      "\"While you take in hand to school others, and to teac\n"
     ]
    }
   ],
   "source": [
    "Raw_text = nltk.corpus.gutenberg.raw('melville-moby_dick.txt')\n",
    "print(Raw_text[0:500]) # printing the raw text"
   ]
  },
  {
   "cell_type": "code",
   "execution_count": 4,
   "metadata": {
    "collapsed": true
   },
   "outputs": [],
   "source": [
    "import collections\n",
    "import string"
   ]
  },
  {
   "cell_type": "code",
   "execution_count": 5,
   "metadata": {
    "collapsed": false
   },
   "outputs": [
    {
     "name": "stdout",
     "output_type": "stream",
     "text": [
      "{'R': 823, 'j': 829, 'Y': 330, 'g': 20180, 'b': 15451, ']': 3, '1': 142, 'L': 900, 'd': 37468, 'n': 64431, 'B': 1426, '-': 5984, 'E': 1237, '[': 3, '_': 26, 'k': 7882, 'V': 171, 'A': 2650, 'v': 8427, 'f': 20029, '(': 215, '*': 45, '4': 39, 'W': 1305, 'C': 1147, 'M': 752, 'h': 61434, 'H': 1462, 'r': 51311, 'D': 751, 'o': 68338, 'q': 1234, 'S': 2209, '!': 1767, '.': 7558, '0': 131, '$': 2, 'O': 988, 'm': 22525, 'c': 21360, 'i': 61891, ':': 196, '6': 37, '3': 47, 'w': 20917, 'K': 177, 'J': 253, 'U': 240, 'z': 594, 'l': 41893, '8': 59, 'a': 75266, '9': 35, ',': 19229, 'I': 3543, 'G': 640, 't': 85539, 'e': 115855, '\"': 3071, 'Q': 322, ';': 4173, 'y': 16542, 'N': 1186, 'x': 1007, \"'\": 2922, 'p': 16207, 'Z': 38, '7': 53, '?': 1004, '&': 2, 'P': 1048, '5': 55, 'F': 804, '2': 60, ')': 215, 'X': 23, 'T': 2457, 's': 62022, 'u': 26457}\n"
     ]
    }
   ],
   "source": [
    "freq={}\n",
    "file_lists = nltk.corpus.gutenberg.words('melville-moby_dick.txt')\n",
    "for line in file_lists:\n",
    "    for char in line:\n",
    "        if char in freq:\n",
    "            freq[char] += 1\n",
    "        else:\n",
    "            freq[char] = 1\n",
    "print (freq)\n"
   ]
  },
  {
   "cell_type": "code",
   "execution_count": 5,
   "metadata": {
    "collapsed": false
   },
   "outputs": [],
   "source": [
    "from nltk.corpus import gutenberg\n",
    "\n",
    "full_content = gutenberg.raw('melville-moby_dick.txt')\n",
    "\n",
    "cleaned_content = [x for x in full_content if x.isalnum()] #clearing all sybols from the text\n",
    "character_content = []\n",
    "for x1 in cleaned_content:   # removing numbers and storing only characters in list\n",
    "    if x1.isalpha():\n",
    "        character_content.append(x1)\n",
    "#print(character_content)\n",
    "\n"
   ]
  },
  {
   "cell_type": "code",
   "execution_count": 6,
   "metadata": {
    "collapsed": false
   },
   "outputs": [
    {
     "name": "stdout",
     "output_type": "stream",
     "text": [
      "Characters with the frequency : \n",
      "  {'r': 52134, 'j': 1082, 'v': 8598, 'h': 62896, 'p': 17255, 'x': 1030, 'k': 8059, 'y': 16872, 'a': 77916, 'q': 1556, 'c': 22507, 'b': 16877, 'o': 69326, 'i': 65434, 'g': 20820, 'u': 26697, 'w': 22222, 's': 64231, 'e': 117092, 't': 87996, 'f': 20833, 'd': 38219, 'n': 65617, 'z': 632, 'l': 42793, 'm': 23277}\n"
     ]
    }
   ],
   "source": [
    "lower_case_list = [x2.lower() for x2 in character_content]  # converting all the content to lowercase list\n",
    "lower_case_list\n",
    "\n",
    "Character_Frequency = {}\n",
    "Word_count = 0\n",
    "new_set1 = set(lower_case_list) # storing unique characters in set\n",
    "new_list2 = lower_case_list\n",
    "for x in new_set1:\n",
    "    for y in new_list2:  # counting the frequency of characters\n",
    "        if x == y:\n",
    "            Word_count = Word_count + 1\n",
    "    Character_Frequency.update({x:Word_count})  # updating the dict \n",
    "    Word_count = 0\n",
    "print('Characters with the frequency : \\n ',Character_Frequency) # printing unsorted list\n"
   ]
  },
  {
   "cell_type": "code",
   "execution_count": 7,
   "metadata": {
    "collapsed": false
   },
   "outputs": [
    {
     "name": "stdout",
     "output_type": "stream",
     "text": [
      "sorted frequency list: \n",
      "  [('e', 117092), ('t', 87996), ('a', 77916), ('o', 69326), ('n', 65617), ('i', 65434), ('s', 64231), ('h', 62896), ('r', 52134), ('l', 42793), ('d', 38219), ('u', 26697), ('m', 23277), ('c', 22507), ('w', 22222), ('f', 20833), ('g', 20820), ('p', 17255), ('b', 16877), ('y', 16872), ('v', 8598), ('k', 8059), ('q', 1556), ('j', 1082), ('x', 1030), ('z', 632)]\n"
     ]
    }
   ],
   "source": [
    "import operator\n",
    "sorted_characters = sorted(Character_Frequency.items(), key=operator.itemgetter(1), reverse = True) # sorting the dict based on frequency\n",
    "print('sorted frequency list: \\n ',sorted_characters)"
   ]
  },
  {
   "cell_type": "code",
   "execution_count": null,
   "metadata": {
    "collapsed": true
   },
   "outputs": [],
   "source": []
  }
 ],
 "metadata": {
  "anaconda-cloud": {},
  "kernelspec": {
   "display_name": "Python [conda root]",
   "language": "python",
   "name": "conda-root-py"
  },
  "language_info": {
   "codemirror_mode": {
    "name": "ipython",
    "version": 3
   },
   "file_extension": ".py",
   "mimetype": "text/x-python",
   "name": "python",
   "nbconvert_exporter": "python",
   "pygments_lexer": "ipython3",
   "version": "3.5.2"
  }
 },
 "nbformat": 4,
 "nbformat_minor": 1
}
