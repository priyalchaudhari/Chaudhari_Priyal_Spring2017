{
 "cells": [
  {
   "cell_type": "code",
   "execution_count": 11,
   "metadata": {
    "collapsed": true
   },
   "outputs": [],
   "source": [
    "import os\n",
    "from os import listdir\n",
    "from os.path import isfile, join\n",
    "import glob\n",
    "from email.parser import Parser\n",
    "import nltk     #bonus points\n",
    "import email\n",
    "import string\n",
    "import operator\n",
    "import matplotlib.pyplot as plt"
   ]
  },
  {
   "cell_type": "markdown",
   "metadata": {},
   "source": [
    "# Topic 1 contains a lot of meeting related words, perhaps they are fromemails    that were sent as meeting notices.\n",
    "# Topic 2 while related to business seems to be more about the processrather than the content of the core business. It has a lot of terms relevant to business legalities."
   ]
  },
  {
   "cell_type": "markdown",
   "metadata": {},
   "source": [
    "# Path to root directory"
   ]
  },
  {
   "cell_type": "code",
   "execution_count": 17,
   "metadata": {
    "collapsed": false
   },
   "outputs": [
    {
     "name": "stdout",
     "output_type": "stream",
     "text": [
      "C:\\Users\\priya\\midterm\\data\\enron\\maildir\\\n"
     ]
    }
   ],
   "source": [
    "homedir = os.path.expanduser(\"~\")\n",
    "path_to_mail = homedir+\"\\\\midterm\\\\data\\\\enron\\\\maildir\\\\\"\n",
    "print(path_to_mail)"
   ]
  },
  {
   "cell_type": "code",
   "execution_count": 20,
   "metadata": {
    "collapsed": true
   },
   "outputs": [],
   "source": [
    "dist_1999={'topic_1':1,'topic_2':1} # defining 3 dictories for 3 years \n",
    "dist_2000={'topic_1':1,'topic_2':1}\n",
    "dist_2001={'topic_1':1,'topic_2':1}\n",
    "filtered_data=[]\n",
    "demo=0"
   ]
  },
  {
   "cell_type": "markdown",
   "metadata": {},
   "source": [
    "# Determining how many times meetings and business related terms are talked in emails"
   ]
  },
  {
   "cell_type": "code",
   "execution_count": 21,
   "metadata": {
    "collapsed": false
   },
   "outputs": [
    {
     "name": "stdout",
     "output_type": "stream",
     "text": [
      "In 1999:  {'topic_1': 235, 'topic_2': 86}\n",
      "in 2000:  {'topic_1': 5222, 'topic_2': 2024}\n",
      "in 2001:  {'topic_1': 6417, 'topic_2': 1857}\n"
     ]
    },
    {
     "data": {
      "image/png": "[encoded data removed]",
      "text/plain": [
       "<matplotlib.figure.Figure at 0x265379a2940>"
      ]
     },
     "metadata": {},
     "output_type": "display_data"
    }
   ],
   "source": [
    "convicted_emp_names = ['skilling-j','lay-k']\n",
    "topic1 = ['message','origin','pleas','please','email','thank','attach','file','copi','copy','inform','receiv','receive']\n",
    "topic2 = ['enron','deal','agreement','change','contract','corp','fax','houston','date','america']\n",
    "for name in convicted_emp_names:\n",
    "    user_mail= path_to_mail+name\n",
    "    #print(user_mail)\n",
    "    for subdir, dirs, files in os.walk(user_mail):    # walking through all the emails\n",
    "        for file in files:       \n",
    "            if(file[0]!=\".\"):              # ignoring the hidden files\n",
    "                try:\n",
    "                    response = open(os.path.join(subdir, file),'r', errors = 'ignore')\n",
    "                    fp=Parser().parsestr(response.read())\n",
    "                except:\n",
    "                    print('error',os.path.join(subdir, file))\n",
    "                    \n",
    "                unfiltered_word_list = nltk.word_tokenize(fp.get_payload())  # Used NLtk to tokanize the mail body\n",
    "                filtered_data=(removePunctuation(unfiltered_word_list))\n",
    "                ##print(filtered_data)\n",
    "                raw_date = fp['Date']                  # getting the date of the emails \n",
    "                date = email.utils.parsedate(raw_date)\n",
    "                #print(date[0])\n",
    "                for i in filtered_data:\n",
    "                    if date[0] == 1999:\n",
    "                        #print('here')\n",
    "                        if i in topic1:\n",
    "                            dist_1999['topic_1'] = dist_1999['topic_1']+1          # categorising the words \n",
    "                        if i in topic2:\n",
    "                            dist_1999['topic_2'] = dist_1999['topic_2']+1\n",
    "                    if date[0] == 2000:\n",
    "                        if i in topic1:\n",
    "                            dist_2000['topic_1'] = dist_2000['topic_1']+1\n",
    "                        if i in topic2:\n",
    "                            dist_2000['topic_2'] = dist_2000['topic_2']+1\n",
    "                    if date[0] == 2001:\n",
    "                        if i in topic1:\n",
    "                            dist_2001['topic_1'] = dist_2001['topic_1']+1\n",
    "                        if i in topic2:\n",
    "                            dist_2001['topic_2'] = dist_2001['topic_2']+1\n",
    "#sorted_characters = sorted(dist_1999.items(), key=operator.itemgetter(1), reverse = True) # sorting the dict based on frequency\n",
    "#print('sorted frequency list: \\n ',sorted_characters[:10])\n",
    "print('In 1999: ',dist_1999)\n",
    "print('in 2000: ',dist_2000)\n",
    "print('in 2001: ',dist_2001)\n",
    "my_xticks = ['1999','2000','2001']\n",
    "x=[x1 for x1 in range(3)]\n",
    "y1=[86,2024,1857]\n",
    "y=[235,5222,6417]\n",
    "plt.plot(x,y,c=\"r\",label=\"Meeting\")\n",
    "plt.plot(x,y1,c=\"g\",label=\"Business\")\n",
    "plt.xticks(x,my_xticks)\n",
    "plt.legend()\n",
    "plt.xlabel(\"Year\")\n",
    "plt.ylabel(\"Topic count\")\n",
    "plt.show()\n",
    "#print(demo)"
   ]
  },
  {
   "cell_type": "code",
   "execution_count": 6,
   "metadata": {
    "collapsed": true
   },
   "outputs": [],
   "source": [
    "def removePunctuation(unclear):\n",
    "    filtered_words = [''.join(c for c in s if c not in string.punctuation) for s in unclear]\n",
    "    filtered_words = [s for s in filtered_words if s]\n",
    "    return filtered_words  "
   ]
  },
  {
   "cell_type": "code",
   "execution_count": null,
   "metadata": {
    "collapsed": true
   },
   "outputs": [],
   "source": [
    "\n"
   ]
  }
 ],
 "metadata": {
  "anaconda-cloud": {},
  "kernelspec": {
   "display_name": "Python [conda root]",
   "language": "python",
   "name": "conda-root-py"
  },
  "language_info": {
   "codemirror_mode": {
    "name": "ipython",
    "version": 3
   },
   "file_extension": ".py",
   "mimetype": "text/x-python",
   "name": "python",
   "nbconvert_exporter": "python",
   "pygments_lexer": "ipython3",
   "version": "3.5.2"
  }
 },
 "nbformat": 4,
 "nbformat_minor": 1
}
