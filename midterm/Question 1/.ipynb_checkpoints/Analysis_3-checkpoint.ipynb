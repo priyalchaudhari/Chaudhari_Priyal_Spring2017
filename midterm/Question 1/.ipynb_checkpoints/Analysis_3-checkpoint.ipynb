{
 "cells": [
  {
   "cell_type": "markdown",
   "metadata": {
    "collapsed": true
   },
   "source": [
    "# Analysis_3\n",
    "\n",
    "## Finding out buy scanning through lay-K deleted Items folder how many refund or reparity request he got by whom and there emailIDs: "
   ]
  },
  {
   "cell_type": "code",
   "execution_count": 27,
   "metadata": {
    "collapsed": true
   },
   "outputs": [],
   "source": [
    "import os\n",
    "from os import listdir\n",
    "from os.path import isfile, join\n",
    "from glob import glob\n",
    "from email.parser import Parser\n",
    "import email\n",
    "import string\n",
    "import operator\n",
    "import nltk\n",
    "import csv"
   ]
  },
  {
   "cell_type": "markdown",
   "metadata": {},
   "source": [
    "# Path to root directory "
   ]
  },
  {
   "cell_type": "code",
   "execution_count": 5,
   "metadata": {
    "collapsed": false
   },
   "outputs": [
    {
     "name": "stdout",
     "output_type": "stream",
     "text": [
      "C:\\Users\\priya\\midterm\\data\\enron\\maildir\\\n"
     ]
    }
   ],
   "source": [
    "homedir = os.path.expanduser(\"~\")\n",
    "path_to_mail = homedir+\"\\\\midterm\\\\data\\\\enron\\\\maildir\\\\\"\n",
    "print(path_to_mail)"
   ]
  },
  {
   "cell_type": "markdown",
   "metadata": {},
   "source": [
    "##  List of words related to refund which i checked in subject line "
   ]
  },
  {
   "cell_type": "code",
   "execution_count": 61,
   "metadata": {
    "collapsed": false
   },
   "outputs": [],
   "source": [
    "Demand_Refund_list = ['demand','donate','proceeds','enron','stock','sales','millions','urge','financially','devastated','bankruptcy']\n",
    "details_dist = {}#{'emailID':[],'date':[]}\n",
    "details_dist[\"emailID\"]=[]\n",
    "details_dist[\"date\"]=[]\n"
   ]
  },
  {
   "cell_type": "markdown",
   "metadata": {},
   "source": [
    "#### Getting the subject and using nltk to tokanize the body of the subject "
   ]
  },
  {
   "cell_type": "code",
   "execution_count": 68,
   "metadata": {
    "collapsed": false
   },
   "outputs": [],
   "source": [
    "for user in glob(path_to_mail+'lay-k\\\\deleted_items'):\n",
    "    for subdirs, dirs, files in os.walk(user):\n",
    "        for file in files:\n",
    "            try:\n",
    "                response = open(os.path.join(subdirs, file),'r', errors = 'ignore')\n",
    "                fp=Parser().parsestr(response.read())\n",
    "            except:\n",
    "                print('error',os.path.join(subdirs, file))\n",
    "            subjectline = fp['subject']                      #getting the subject of each email in deleted folder \n",
    "            tokens = nltk.word_tokenize(subjectline)     # using nltk to tokanize the words \n",
    "            #print(tokens)\n",
    "            count=0\n",
    "            for word in tokens:\n",
    "                word=word.lower()\n",
    "                if word in Demand_Refund_list:\n",
    "                    count += 1\n",
    "                #print(count)\n",
    "            if (count>= 3):                            # if subject contain more than 3 refund related words \n",
    "                details_dist[\"emailID\"].append(fp['from'])\n",
    "                details_dist[\"date\"].append(fp['date'])\n",
    "#print(details_dist)\n",
    "saveToDisk(details_dist)"
   ]
  },
  {
   "cell_type": "markdown",
   "metadata": {},
   "source": [
    "# Saving data to csv file in analysis 3 folder "
   ]
  },
  {
   "cell_type": "code",
   "execution_count": 67,
   "metadata": {
    "collapsed": false
   },
   "outputs": [],
   "source": [
    "def saveToDisk(data):\n",
    "    if not os.path.exists(homedir+\"\\\\midterm\\\\Question 1\\\\Analysis_3\"):\n",
    "        os.makedirs(homedir+\"\\\\midterm\\\\Question 1\\\\Analysis_3\")\n",
    "    with open(homedir+'\\\\midterm\\\\Question 1\\\\Analysis_3\\\\Refund_details.csv', 'w',newline='',encoding='utf-8') as myfile:                 # creating and opening a new excel sheet for storing data \n",
    "        wr = csv.writer(myfile, quoting=csv.QUOTE_ALL)\n",
    "        wr.writerow([\"Email_Id\", \"Date\"]) #header\n",
    "        d= list( data.values())\n",
    "        #print(d)\n",
    "        for i in range(len(d[0])):\n",
    "            wr.writerow([d[0][i],d[1][i]])"
   ]
  },
  {
   "cell_type": "code",
   "execution_count": null,
   "metadata": {
    "collapsed": true
   },
   "outputs": [],
   "source": []
  }
 ],
 "metadata": {
  "anaconda-cloud": {},
  "kernelspec": {
   "display_name": "Python [conda root]",
   "language": "python",
   "name": "conda-root-py"
  },
  "language_info": {
   "codemirror_mode": {
    "name": "ipython",
    "version": 3
   },
   "file_extension": ".py",
   "mimetype": "text/x-python",
   "name": "python",
   "nbconvert_exporter": "python",
   "pygments_lexer": "ipython3",
   "version": "3.5.2"
  }
 },
 "nbformat": 4,
 "nbformat_minor": 1
}
