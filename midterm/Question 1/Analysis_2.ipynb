{
 "cells": [
  {
   "cell_type": "markdown",
   "metadata": {},
   "source": [
    "# Employes and there most frequent contacts through mails"
   ]
  },
  {
   "cell_type": "code",
   "execution_count": 1,
   "metadata": {
    "collapsed": true
   },
   "outputs": [],
   "source": [
    "import os\n",
    "from os import listdir\n",
    "from os.path import isfile, join\n",
    "from glob import glob\n",
    "from email.parser import Parser\n",
    "import email\n",
    "import string\n",
    "import operator"
   ]
  },
  {
   "cell_type": "code",
   "execution_count": 7,
   "metadata": {
    "collapsed": false
   },
   "outputs": [
    {
     "name": "stdout",
     "output_type": "stream",
     "text": [
      "C:\\Users\\priya\\midterm\\data\\enron\\maildir\\\n"
     ]
    }
   ],
   "source": [
    "homedir = os.path.expanduser(\"~\")\n",
    "path_to_mail = homedir+\"\\\\midterm\\\\data\\\\enron\\\\maildir\\\\\"\n",
    "print(path_to_mail)"
   ]
  },
  {
   "cell_type": "code",
   "execution_count": 22,
   "metadata": {
    "collapsed": false
   },
   "outputs": [
    {
     "name": "stdout",
     "output_type": "stream",
     "text": [
      "employee:  allen-p\n",
      "\t ('keith.holst@enron.com', 220)\n",
      "\t ('mike.grigsby@enron.com', 216)\n",
      "\t ('pallen@enron.com', 195)\n",
      "\t ('ina.rangel@enron.com', 160)\n",
      "\t ('stagecoachmama@hotmail.com', 153)\n",
      "employee:  arnold-j\n",
      "\t ('john.arnold@enron.com', 603)\n",
      "\t ('mike.maggi@enron.com', 278)\n",
      "\t ('ina.rangel@enron.com', 241)\n",
      "\t ('jennifer.fraser@enron.com', 211)\n",
      "\t ('dutch.quigley@enron.com', 186)\n",
      "employee:  arora-h\n",
      "\t ('harry.arora@enron.com', 353)\n",
      "\t ('harora@ect.enron.com', 34)\n",
      "\t ('robert.stalford@enron.com', 30)\n",
      "\t ('suresh.raghavan@enron.com', 29)\n",
      "\t ('iris.mack@enron.com', 28)\n",
      "employee:  badeer-r\n",
      "\t ('20participants@caiso.com', 201)\n",
      "\t ('robert.badeer@enron.com', 190)\n",
      "\t ('tim.belden@enron.com', 123)\n",
      "\t ('jeff.richter@enron.com', 99)\n",
      "\t ('None', 81)\n",
      "employee:  bailey-s\n",
      "\t ('susan.bailey@enron.com', 223)\n",
      "\t ('stephanie.panus@enron.com', 64)\n",
      "\t ('sara.shackleton@enron.com', 61)\n",
      "\t ('samantha.boyd@enron.com', 55)\n",
      "\t ('marie.heard@enron.com', 39)\n"
     ]
    }
   ],
   "source": [
    "for user in glob(path_to_mail+'\\\\*')[:5]:\n",
    "    mail_count = {'user':user, 'mails':{}}\n",
    "    for subdirs, dirs, files in os.walk(user):\n",
    "        for file in files:\n",
    "            try:\n",
    "                response = open(os.path.join(subdirs, file),'r', errors = 'ignore')\n",
    "                fp=Parser().parsestr(response.read())\n",
    "            except:\n",
    "                print('error',os.path.join(subdirs, file))\n",
    "            for to_mails in str(fp['to']).split(\",\"):\n",
    "                if(to_mails.strip() in mail_count[\"mails\"]):\n",
    "                    mail_count[\"mails\"][to_mails.strip()] = mail_count[\"mails\"][to_mails.strip()] + 1\n",
    "                else:\n",
    "                    mail_count[\"mails\"][to_mails.strip()] = 1\n",
    "    sorted_characters = sorted(mail_count[\"mails\"].items(), key=operator.itemgetter(1), reverse = True) # sorting the dict based on frequency\n",
    "    print('employee: ',mail_count['user'].split(\"\\\\\")[-1])\n",
    "    for com in sorted_characters[:5]:\n",
    "        print(\"\\t\",com) "
   ]
  },
  {
   "cell_type": "code",
   "execution_count": 23,
   "metadata": {
    "collapsed": true
   },
   "outputs": [],
   "source": [
    "convicted_emp_names = ['skilling-j','lay-k']"
   ]
  },
  {
   "cell_type": "code",
   "execution_count": 25,
   "metadata": {
    "collapsed": false
   },
   "outputs": [
    {
     "name": "stdout",
     "output_type": "stream",
     "text": [
      "employee:  skilling-j\n",
      "\t ('jeff.skilling@enron.com', 1738)\n",
      "\t ('None', 394)\n",
      "\t ('kenneth.lay@enron.com', 286)\n",
      "\t ('jskilli@enron.com', 234)\n",
      "\t ('greg.whalley@enron.com', 204)\n",
      "employee:  lay-k\n",
      "\t ('kenneth.lay@enron.com', 2039)\n",
      "\t ('klay@enron.com', 1903)\n",
      "\t ('jeff.skilling@enron.com', 372)\n",
      "\t ('None', 336)\n",
      "\t ('mark.koenig@enron.com', 313)\n"
     ]
    }
   ],
   "source": [
    "for name in convicted_emp_names:\n",
    "    for user in glob(path_to_mail+name)[:5]:\n",
    "        mail_count = {'user':user, 'mails':{}}\n",
    "        for subdirs, dirs, files in os.walk(user):\n",
    "            for file in files:\n",
    "                try:\n",
    "                    response = open(os.path.join(subdirs, file),'r', errors = 'ignore')\n",
    "                    fp=Parser().parsestr(response.read())\n",
    "                except:\n",
    "                    print('error',os.path.join(subdirs, file))\n",
    "                for to_mails in str(fp['to']).split(\",\"):\n",
    "                    if(to_mails.strip() in mail_count[\"mails\"]):\n",
    "                        mail_count[\"mails\"][to_mails.strip()] = mail_count[\"mails\"][to_mails.strip()] + 1\n",
    "                    else:\n",
    "                        mail_count[\"mails\"][to_mails.strip()] = 1\n",
    "        sorted_characters = sorted(mail_count[\"mails\"].items(), key=operator.itemgetter(1), reverse = True) # sorting the dict based on frequency\n",
    "        print('employee: ',mail_count['user'].split(\"\\\\\")[-1])\n",
    "        for com in sorted_characters[:5]:\n",
    "            print(\"\\t\",com) "
   ]
  },
  {
   "cell_type": "code",
   "execution_count": null,
   "metadata": {
    "collapsed": true
   },
   "outputs": [],
   "source": []
  }
 ],
 "metadata": {
  "anaconda-cloud": {},
  "kernelspec": {
   "display_name": "Python [conda root]",
   "language": "python",
   "name": "conda-root-py"
  },
  "language_info": {
   "codemirror_mode": {
    "name": "ipython",
    "version": 3
   },
   "file_extension": ".py",
   "mimetype": "text/x-python",
   "name": "python",
   "nbconvert_exporter": "python",
   "pygments_lexer": "ipython3",
   "version": "3.5.2"
  }
 },
 "nbformat": 4,
 "nbformat_minor": 1
}
