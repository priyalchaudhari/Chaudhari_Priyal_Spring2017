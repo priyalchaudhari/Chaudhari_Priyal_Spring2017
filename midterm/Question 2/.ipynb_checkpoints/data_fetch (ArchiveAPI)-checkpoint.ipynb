{
 "cells": [
  {
   "cell_type": "code",
   "execution_count": 13,
   "metadata": {
    "collapsed": true
   },
   "outputs": [],
   "source": [
    "import os\n",
    "import requests\n",
    "import json"
   ]
  },
  {
   "cell_type": "code",
   "execution_count": 22,
   "metadata": {
    "collapsed": false
   },
   "outputs": [
    {
     "name": "stdout",
     "output_type": "stream",
     "text": [
      "2e0439280927425bae9e586dcf0181ad\n"
     ]
    }
   ],
   "source": [
    "nyt_archive_key = os.getenv('nyt_archive_key')\n",
    "print(nyt_archive_key)"
   ]
  },
  {
   "cell_type": "code",
   "execution_count": 60,
   "metadata": {
    "collapsed": false
   },
   "outputs": [],
   "source": [
    "#year = list(range(2004,2018))\n",
    "#month = list(range(1,13))\n",
    "#for i in year:\n",
    "#    for j in month:\n",
    "path = 'C:\\\\Users\\\\priya\\\\midterm\\\\data\\\\Archive API\\\\2003_12.json'\n",
    "local = 'http://api.nytimes.com/svc/archive/v1/2003/12.json?api-key='+str(nyt_archive_key)\n",
    "response = requests.get(local)\n",
    "with open(path,'w') as outfile:\n",
    "    json.dump(response.json(), outfile)"
   ]
  },
  {
   "cell_type": "code",
   "execution_count": 6,
   "metadata": {
    "collapsed": false
   },
   "outputs": [
    {
     "name": "stdout",
     "output_type": "stream",
     "text": [
      "[1, 2, 3, 4, 5, 6, 7, 8, 9, 10, 11, 12]\n"
     ]
    }
   ],
   "source": [
    "month = list(range(1,13))\n",
    "print(month)"
   ]
  },
  {
   "cell_type": "code",
   "execution_count": null,
   "metadata": {
    "collapsed": true
   },
   "outputs": [],
   "source": [
    "+str(i)+'_'+str(j)+"
   ]
  },
  {
   "cell_type": "code",
   "execution_count": 42,
   "metadata": {
    "collapsed": false
   },
   "outputs": [
    {
     "name": "stdout",
     "output_type": "stream",
     "text": [
      "1\n",
      "2\n",
      "3\n",
      "4\n",
      "5\n",
      "6\n",
      "7\n",
      "8\n",
      "9\n",
      "10\n",
      "11\n",
      "12\n"
     ]
    }
   ],
   "source": [
    "year = list(range(2004,2018))\n",
    "month = list(range(1,13))\n",
    "for i in year:\n",
    "    for j in month:\n",
    "        path = 'C:\\\\Users\\\\priya\\\\midterm\\\\data\\\\Archive API\\\\'+str(i)+'_'+str(j)+'.json'\n",
    "        local = 'http://api.nytimes.com/svc/archive/v1/'+str(i)+'/'+str(j)+'.json?api-key='+str(nyt_archive_key)\n",
    "        response = requests.get(local)\n",
    "        with open(path,'w') as outfile:\n",
    "            json.dump(response.json(), outfile)"
   ]
  },
  {
   "cell_type": "code",
   "execution_count": null,
   "metadata": {
    "collapsed": true
   },
   "outputs": [],
   "source": []
  }
 ],
 "metadata": {
  "anaconda-cloud": {},
  "kernelspec": {
   "display_name": "Python [conda root]",
   "language": "python",
   "name": "conda-root-py"
  },
  "language_info": {
   "codemirror_mode": {
    "name": "ipython",
    "version": 3
   },
   "file_extension": ".py",
   "mimetype": "text/x-python",
   "name": "python",
   "nbconvert_exporter": "python",
   "pygments_lexer": "ipython3",
   "version": "3.5.2"
  }
 },
 "nbformat": 4,
 "nbformat_minor": 1
}
