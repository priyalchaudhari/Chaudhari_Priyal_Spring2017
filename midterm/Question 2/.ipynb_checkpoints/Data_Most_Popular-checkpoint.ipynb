{
 "cells": [
  {
   "cell_type": "markdown",
   "metadata": {},
   "source": []
  },
  {
   "cell_type": "code",
   "execution_count": 1,
   "metadata": {
    "collapsed": true
   },
   "outputs": [],
   "source": [
    "import os\n",
    "import requests\n",
    "import json"
   ]
  },
  {
   "cell_type": "code",
   "execution_count": 2,
   "metadata": {
    "collapsed": false
   },
   "outputs": [
    {
     "name": "stdout",
     "output_type": "stream",
     "text": [
      "3db5b9eb0a2441a7973afcaa24ed15c7\n"
     ]
    }
   ],
   "source": [
    "nyt_mostpopular_key = os.getenv('nyt_mostpopular_key')\n",
    "print(nyt_mostpopular_key)"
   ]
  },
  {
   "cell_type": "markdown",
   "metadata": {},
   "source": [
    "# Most Emailed"
   ]
  },
  {
   "cell_type": "code",
   "execution_count": 4,
   "metadata": {
    "collapsed": true
   },
   "outputs": [],
   "source": [
    "path = 'C:\\\\Users\\\\priya\\\\midterm\\\\data\\\\Most Popular\\\\30.json'\n",
    "local='https://api.nytimes.com/svc/mostpopular/v2/mostemailed/all-sections/30.json?api-key='+str(nyt_mostpopular_key)\n",
    "response = requests.get(local)\n",
    "with open(path,'w') as outfile:\n",
    "    json.dump(response.json(), outfile)"
   ]
  },
  {
   "cell_type": "markdown",
   "metadata": {},
   "source": [
    "# Most Shared "
   ]
  },
  {
   "cell_type": "code",
   "execution_count": 6,
   "metadata": {
    "collapsed": true
   },
   "outputs": [],
   "source": [
    "new_path = 'C:\\\\Users\\\\priya\\\\midterm\\\\data\\\\Most Popular\\\\Most shared\\\\30.json'\n",
    "local1='http://api.nytimes.com/svc/mostpopular/v2/mostshared/all-sections/facebook;twitter/30.json?api-key='+str(nyt_mostpopular_key)\n",
    "response1 = requests.get(local1)\n",
    "with open(new_path,'w') as outfile1:\n",
    "    json.dump(response1.json(), outfile1)"
   ]
  },
  {
   "cell_type": "markdown",
   "metadata": {},
   "source": [
    "# Most Viewed"
   ]
  },
  {
   "cell_type": "code",
   "execution_count": 7,
   "metadata": {
    "collapsed": true
   },
   "outputs": [],
   "source": [
    "new_path1 = 'C:\\\\Users\\\\priya\\\\midterm\\\\data\\\\Most Popular\\\\Most viewed\\\\30.json'\n",
    "local2='http://api.nytimes.com/svc/mostpopular/v2/mostviewed/all-sections/30.json?api-key='+str(nyt_mostpopular_key)\n",
    "response2 = requests.get(local2)\n",
    "with open(new_path1,'w') as outfile2:\n",
    "    json.dump(response2.json(), outfile2)"
   ]
  },
  {
   "cell_type": "code",
   "execution_count": null,
   "metadata": {
    "collapsed": true
   },
   "outputs": [],
   "source": []
  }
 ],
 "metadata": {
  "anaconda-cloud": {},
  "kernelspec": {
   "display_name": "Python [conda root]",
   "language": "python",
   "name": "conda-root-py"
  },
  "language_info": {
   "codemirror_mode": {
    "name": "ipython",
    "version": 3
   },
   "file_extension": ".py",
   "mimetype": "text/x-python",
   "name": "python",
   "nbconvert_exporter": "python",
   "pygments_lexer": "ipython3",
   "version": "3.5.2"
  }
 },
 "nbformat": 4,
 "nbformat_minor": 1
}
