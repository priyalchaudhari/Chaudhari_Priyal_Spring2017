{
 "cells": [
  {
   "cell_type": "code",
   "execution_count": 1,
   "metadata": {
    "collapsed": false,
    "scrolled": true
   },
   "outputs": [],
   "source": [
    "import urllib.request\n",
    "import urllib.error\n",
    "import json\n",
    "import datetime\n",
    "import time\n",
    "import sys, os\n",
    "import logging\n",
    "import glob\n",
    "from urllib.error import HTTPError\n",
    "import configparser\n",
    "from configparser import SafeConfigParser"
   ]
  },
  {
   "cell_type": "code",
   "execution_count": 2,
   "metadata": {
    "collapsed": true
   },
   "outputs": [],
   "source": [
    "def daterange( start_date, end_date ):\n",
    "    if start_date <= end_date:\n",
    "        for n in range( ( end_date - start_date ).days + 1 ):\n",
    "            yield start_date + datetime.timedelta( n )\n",
    "    else:\n",
    "        for n in range( ( start_date - end_date ).days + 1 ):\n",
    "            yield start_date - datetime.timedelta( n )"
   ]
  },
  {
   "cell_type": "code",
   "execution_count": 3,
   "metadata": {
    "collapsed": true
   },
   "outputs": [],
   "source": [
    "def convert(input):\n",
    "    if isinstance(input, dict):\n",
    "        return {convert(key): convert(value) for key, value in input.items()}\n",
    "    elif isinstance(input, list):\n",
    "        return [convert(element) for element in input]\n",
    "    else:\n",
    "        return input"
   ]
  },
  {
   "cell_type": "code",
   "execution_count": 4,
   "metadata": {
    "collapsed": true
   },
   "outputs": [],
   "source": [
    "def getJsonFileName(date, page, json_file_path):\n",
    "    json_file_name = \".\".join([date,str(page),'json'])\n",
    "    json_file_name = \"\".join([json_file_path,'\\\\', json_file_name])\n",
    "    return json_file_name"
   ]
  },
  {
   "cell_type": "code",
   "execution_count": 11,
   "metadata": {
    "collapsed": false
   },
   "outputs": [],
   "source": [
    "# get the articles from the NYTimes Article API    \n",
    "def getArticles(date, query, api_key, json_file_path):\n",
    "    # LOOP THROUGH THE 101 PAGES NYTIMES ALLOWS FOR THAT DATE\n",
    "    for page in range(2):\n",
    "        for n in range(1): # 5 tries\n",
    "            try:\n",
    "                request_string = \"http://api.nytimes.com/svc/search/v2/articlesearch.json?q=\"+query+\"&begin_date=\" + date + \"&end_date=\" + date + \"&page=\" + str(page) + \"&api-key=\" + api_key\n",
    "                print(request_string)\n",
    "                response = urllib.request.urlopen(request_string)\n",
    "                content = response.read().decode('utf-8')\n",
    "                #print(content)\n",
    "                if content:\n",
    "                   \n",
    "                    articles = convert(json.loads(content))\n",
    "                    #print(articles)\n",
    "                    # if there are articles here\n",
    "                    if len(articles[\"response\"][\"docs\"]) >= 1:\n",
    "                        docs = articles[\"response\"][\"docs\"]\n",
    "                        #print(\"entering\")\n",
    "                        #print(docs)\n",
    "                        json_file_name = getJsonFileName(date, page, json_file_path)\n",
    "                        json_file = open(json_file_name, 'w')\n",
    "                        json_file.write(content)\n",
    "                        json_file.close()\n",
    "                    # if no more articles, go to next date\n",
    "                    else:\n",
    "                        return\n",
    "                time.sleep(3) # wait so we don't overwhelm the API\n",
    "            except HTTPError as e:\n",
    "                logging.error(\"HTTPError on page %s on %s (err no. %s: %s) Here's the URL of the call: %s\", page, date, e.code, e.reason, request_string)\n",
    "                if e.code == 403:\n",
    "                    print(\"Script hit a snag and got an HTTPError 403. Check your log file for more info.\")\n",
    "                    return\n",
    "                if e.code == 429:\n",
    "                    print (\"Waiting. You've probably reached an API limit.\")\n",
    "                    time.sleep(30) # wait 30 seconds and try again\n",
    "            except: \n",
    "                logging.error(\"Error on %s page %s: %s\", date, file_number, sys.exc_info()[0])\n",
    "                continue"
   ]
  },
  {
   "cell_type": "code",
   "execution_count": null,
   "metadata": {
    "collapsed": false
   },
   "outputs": [],
   "source": [
    "json_folder = glob.glob(r'D:\\SEM 2\\Python\\Assignments\\chintha_priyal_spring2017\\midterm\\nyt\\janjson')\n",
    "for file in json_folder:\n",
    "    with open(file) as json_file:\n",
    "        json_data = json.load(json_file)\n",
    "        #print(json_data)\n",
    "        #if 'docs' not in json_data.keys():\n",
    "            #print('yes')\n",
    "        response = json_data[\"response\"]\n",
    "        docs = response['docs']\n",
    "        #print(len(docs))\n",
    "        for dicts in docs:\n",
    "            section_name = dicts[\"section_name\"]\n",
    "            \n",
    "            #print(section_name)\n"
   ]
  },
  {
   "cell_type": "code",
   "execution_count": null,
   "metadata": {
    "collapsed": false
   },
   "outputs": [
    {
     "name": "stderr",
     "output_type": "stream",
     "text": [
      "C:\\Users\\chint\\Anaconda3\\lib\\site-packages\\ipykernel\\__main__.py:3: DeprecationWarning: The SafeConfigParser class has been renamed to ConfigParser in Python 3.2. This alias will be removed in future versions. Use ConfigParser directly instead.\n",
      "  app.launch_new_instance()\n"
     ]
    },
    {
     "name": "stdout",
     "output_type": "stream",
     "text": [
      "http://api.nytimes.com/svc/search/v2/articlesearch.json?q=Crime+US&begin_date=20160801&end_date=20160801&page=0&api-key=9861caf75f764f97a4e1c073d5036684\n",
      "http://api.nytimes.com/svc/search/v2/articlesearch.json?q=Crime+US&begin_date=20160801&end_date=20160801&page=1&api-key=9861caf75f764f97a4e1c073d5036684\n",
      "http://api.nytimes.com/svc/search/v2/articlesearch.json?q=Crime+US&begin_date=20160802&end_date=20160802&page=0&api-key=9861caf75f764f97a4e1c073d5036684\n",
      "http://api.nytimes.com/svc/search/v2/articlesearch.json?q=Crime+US&begin_date=20160802&end_date=20160802&page=1&api-key=9861caf75f764f97a4e1c073d5036684\n",
      "http://api.nytimes.com/svc/search/v2/articlesearch.json?q=Crime+US&begin_date=20160803&end_date=20160803&page=0&api-key=9861caf75f764f97a4e1c073d5036684\n",
      "http://api.nytimes.com/svc/search/v2/articlesearch.json?q=Crime+US&begin_date=20160803&end_date=20160803&page=1&api-key=9861caf75f764f97a4e1c073d5036684\n",
      "http://api.nytimes.com/svc/search/v2/articlesearch.json?q=Crime+US&begin_date=20160804&end_date=20160804&page=0&api-key=9861caf75f764f97a4e1c073d5036684\n",
      "http://api.nytimes.com/svc/search/v2/articlesearch.json?q=Crime+US&begin_date=20160804&end_date=20160804&page=1&api-key=9861caf75f764f97a4e1c073d5036684\n",
      "http://api.nytimes.com/svc/search/v2/articlesearch.json?q=Crime+US&begin_date=20160805&end_date=20160805&page=0&api-key=9861caf75f764f97a4e1c073d5036684\n",
      "Waiting. You've probably reached an API limit.\n"
     ]
    }
   ],
   "source": [
    "def main():\n",
    "    \n",
    "    config = SafeConfigParser()\n",
    "    script_dir = os.getcwd()\n",
    "    config_file = os.path.join(script_dir, 'config\\config.cfg')\n",
    "    config.read(config_file)\n",
    "    \n",
    "    json_file_path = config.get('files','json_folder')\n",
    "    #tsv_file_name = config.get('files','tsv_file')\n",
    "    log_file = config.get('files','logfile')\n",
    "    \n",
    "    api_key = config.get('nytimes','api_key')    \n",
    "    start = datetime.date( year = int(config.get('nytimes','start_year')), month = int(config.get('nytimes','start_month')), day = int(config.get('nytimes','start_day')) )\n",
    "    end = datetime.date( year = int(config.get('nytimes','end_year')), month = int(config.get('nytimes','end_month')), day = int(config.get('nytimes','end_day')) )\n",
    "    query = config.get('nytimes','query')\n",
    "        \n",
    "    logging.basicConfig(filename=log_file, level=logging.INFO)\n",
    "    \n",
    "    logging.info(\"Getting started.\") \n",
    "    try:\n",
    "        # LOOP THROUGH THE SPECIFIED DATES\n",
    "        for date in daterange( start, end ):\n",
    "            date = date.strftime(\"%Y%m%d\")\n",
    "            logging.info(\"Working on %s.\" % date)\n",
    "            getArticles(date, query, api_key, json_file_path)\n",
    "            #parseArticles(date, tsv_file_name, json_file_path)\n",
    "    except:\n",
    "        logging.error(\"Unexpected error: %s\", str(sys.exc_info()[0]))\n",
    "    finally:\n",
    "        logging.info(\"Finished.\")\n",
    "\n",
    "if __name__ == '__main__' :\n",
    "    main()"
   ]
  },
  {
   "cell_type": "code",
   "execution_count": null,
   "metadata": {
    "collapsed": true
   },
   "outputs": [],
   "source": []
  },
  {
   "cell_type": "code",
   "execution_count": null,
   "metadata": {
    "collapsed": true
   },
   "outputs": [],
   "source": []
  }
 ],
 "metadata": {
  "anaconda-cloud": {},
  "kernelspec": {
   "display_name": "Python [conda root]",
   "language": "python",
   "name": "conda-root-py"
  },
  "language_info": {
   "codemirror_mode": {
    "name": "ipython",
    "version": 3
   },
   "file_extension": ".py",
   "mimetype": "text/x-python",
   "name": "python",
   "nbconvert_exporter": "python",
   "pygments_lexer": "ipython3",
   "version": "3.5.2"
  }
 },
 "nbformat": 4,
 "nbformat_minor": 1
}
