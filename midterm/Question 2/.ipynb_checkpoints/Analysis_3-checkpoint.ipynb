{
 "cells": [
  {
   "cell_type": "markdown",
   "metadata": {
    "collapsed": true
   },
   "source": [
    "# Analysis to determine the complexity of article based on news_desk \n",
    "- It is the analysis to determine the complexity of article by claculating the ratio of unique words to total words. "
   ]
  },
  {
   "cell_type": "code",
   "execution_count": null,
   "metadata": {
    "collapsed": true
   },
   "outputs": [],
   "source": [
    "import os #Used for file traversing \n",
    "import operator#Sorting\n",
    "import string\n",
    "from nltk.corpus import stopwords\n",
    "from glob import glob \n",
    "import datetime #Used for determining time of email\n",
    "import json# Used to parse Json\n",
    "from datetime import timezone\n",
    "import csv #used to write csv file"
   ]
  },
  {
   "cell_type": "markdown",
   "metadata": {},
   "source": [
    "# Root to path "
   ]
  },
  {
   "cell_type": "code",
   "execution_count": 3,
   "metadata": {
    "collapsed": false
   },
   "outputs": [
    {
     "name": "stdout",
     "output_type": "stream",
     "text": [
      "C:\\Users\\priya\\midterm\\data\\Archive API\n"
     ]
    }
   ],
   "source": [
    "homedir = os.path.expanduser(\"~\")\n",
    "path_to_archive = homedir+\"\\\\midterm\\\\data\\\\Archive API\"\n",
    "print(path_to_archive)"
   ]
  },
  {
   "cell_type": "code",
   "execution_count": 10,
   "metadata": {
    "collapsed": false
   },
   "outputs": [],
   "source": [
    "leadP = {}\n",
    "complexity = {}\n",
    "process1File()\n",
    "[calcUniqueness(nd) for nd in leadP]\n",
    "#print(complexity)\n",
    "saveToDisk(complexity)"
   ]
  },
  {
   "cell_type": "markdown",
   "metadata": {},
   "source": [
    "# Calculating the unique words from the file "
   ]
  },
  {
   "cell_type": "code",
   "execution_count": 5,
   "metadata": {
    "collapsed": false
   },
   "outputs": [],
   "source": [
    "def process1File():\n",
    "    for section in glob(path_to_archive+'\\\\*'):\n",
    "        for subdirs, dirs, files in os.walk(section):\n",
    "            for file in files:\n",
    "                    try:\n",
    "                        with open(os.path.join(subdirs, file),'r', errors = 'ignore') as response:\n",
    "                            json_txt = json.load(response)\n",
    "                            [storeLeadPara(at) for at in json_txt[\"response\"][\"docs\"]] #open the file and get the docs section from each file \n",
    "                    except:\n",
    "                        pass"
   ]
  },
  {
   "cell_type": "code",
   "execution_count": 6,
   "metadata": {
    "collapsed": true
   },
   "outputs": [],
   "source": [
    "def calcUniqueness(nd):\n",
    "    complexity.update({nd: [len(set(leadP[nd])),len(leadP[nd]),len(set(leadP[nd]))/len(leadP[nd])]}) #calculate the uniqueness of the article  Uniquewords/total words = uniqueness"
   ]
  },
  {
   "cell_type": "code",
   "execution_count": 7,
   "metadata": {
    "collapsed": true
   },
   "outputs": [],
   "source": [
    "def storeLeadPara(art):\n",
    "    try:\n",
    "        nd = art[\"news_desk\"]   # getting the news desk type \n",
    "        lp = art[\"lead_paragraph\"]   # getting the lead para of the article \n",
    "        lp = removePuncuation(lp).split(\" \")\n",
    "        if nd not in leadP:\n",
    "            leadP[nd]=lp\n",
    "        else:\n",
    "            leadP[nd]+=lp\n",
    "    except:\n",
    "        pass"
   ]
  },
  {
   "cell_type": "code",
   "execution_count": 8,
   "metadata": {
    "collapsed": true
   },
   "outputs": [],
   "source": [
    "def removePuncuation(word):\n",
    "    rmvP = str.maketrans('', '', string.punctuation)\n",
    "    return word.translate(rmvP)"
   ]
  },
  {
   "cell_type": "markdown",
   "metadata": {},
   "source": [
    "# Save the file to disk "
   ]
  },
  {
   "cell_type": "code",
   "execution_count": 9,
   "metadata": {
    "collapsed": true
   },
   "outputs": [],
   "source": [
    "def saveToDisk(data):\n",
    "    if not os.path.exists(homedir+\"\\\\midterm\\\\Question 2\\\\Analysis_3\"):\n",
    "        os.makedirs(homedir+\"\\\\midterm\\\\Question 2\\\\Analysis_3\")\n",
    "    with open(homedir+'\\\\midterm\\\\Question 2\\\\Analysis_3\\\\complexity_details.csv', 'w',newline='',encoding='utf-8') as myfile:                 # creating and opening a new excel sheet for storing data \n",
    "        wr = csv.writer(myfile, quoting=csv.QUOTE_ALL)\n",
    "        wr.writerow([\"news_desk\", \"Unique Words\",\"Total Words\",\"Complexity\"]) #header\n",
    "        for key, d in data.items():\n",
    "            wr.writerow([key,d[0],d[1],d[2]])"
   ]
  },
  {
   "cell_type": "code",
   "execution_count": null,
   "metadata": {
    "collapsed": true
   },
   "outputs": [],
   "source": []
  }
 ],
 "metadata": {
  "anaconda-cloud": {},
  "kernelspec": {
   "display_name": "Python [conda root]",
   "language": "python",
   "name": "conda-root-py"
  },
  "language_info": {
   "codemirror_mode": {
    "name": "ipython",
    "version": 3
   },
   "file_extension": ".py",
   "mimetype": "text/x-python",
   "name": "python",
   "nbconvert_exporter": "python",
   "pygments_lexer": "ipython3",
   "version": "3.5.2"
  }
 },
 "nbformat": 4,
 "nbformat_minor": 1
}
