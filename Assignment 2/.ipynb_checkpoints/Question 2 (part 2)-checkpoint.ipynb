{
 "cells": [
  {
   "cell_type": "markdown",
   "metadata": {},
   "source": [
    "# Question 2 - Part 2 \n",
    "- read all files from data folder \n",
    "- only read json files with key 'restaurent'\n",
    "- Read the timings of the restaurent for each day of the week given '\n",
    "- extract that data in excel in given format. \n"
   ]
  },
  {
   "cell_type": "code",
   "execution_count": 28,
   "metadata": {
    "collapsed": true
   },
   "outputs": [],
   "source": [
    "path_to_json = 'Data'"
   ]
  },
  {
   "cell_type": "markdown",
   "metadata": {},
   "source": [
    "- code for writing the required data to excel "
   ]
  },
  {
   "cell_type": "code",
   "execution_count": 47,
   "metadata": {
    "collapsed": false
   },
   "outputs": [],
   "source": [
    "import os\n",
    "import json\n",
    "import glob\n",
    "import csv\n",
    "json_files = [pos_json for pos_json in os.listdir(path_to_json) if pos_json.endswith('.json')]   # reading the json files one by one\n",
    "with open('details.csv', 'w',newline='',encoding='utf-8') as myfile:                 # creating and opening a new excel sheet for storing data \n",
    "    wr = csv.writer(myfile, quoting=csv.QUOTE_ALL)\n",
    "    wr.writerow((\"Name Of Restaurant\",\"City\",\"Country Code\",\"Day of Week\",\"Start Time\",\"End Time\"))  # giving headers in first row of excel\n",
    "    for js in json_files:\n",
    "        new_lst=[]      # creating a new list for every file or overwriting a previous list \n",
    "        dayWeek=[]\n",
    "        with open(os.path.join(path_to_json, js)) as json_file:\n",
    "            json_txt =json.load(json_file)\n",
    "            if json_txt[\"term\"] == 'restaurants':      # only reading files that are for restaurent \n",
    "                RName= json_txt[\"id\"]                       # getting the name and location of restaurent \n",
    "                city=  json_txt[\"location\"][\"city\"]\n",
    "                country=json_txt[\"location\"][\"country\"]\n",
    "                if 'hours' in json_txt:                # getting the opening and cosing time according to day of week \n",
    "                    dayWeek=json_txt[\"hours\"]\n",
    "                    new = dayWeek[0][\"open\"]\n",
    "                    for i in new:\n",
    "                        start = i[\"start\"]\n",
    "                        end = i[\"end\"]\n",
    "                        day = i[\"day\"]\n",
    "                        new_lst.append((RName,city,country,day,start,end))   # writing all that data in excel file \n",
    "                    wr.writerows(new_lst)           "
   ]
  },
  {
   "cell_type": "markdown",
   "metadata": {},
   "source": [
    "# Bonus Question\n",
    "-  Split start time and end time in hours and minutes \n",
    "- Created a new excel sheet for this names BonusQuesdetails. "
   ]
  },
  {
   "cell_type": "code",
   "execution_count": 57,
   "metadata": {
    "collapsed": false
   },
   "outputs": [],
   "source": [
    "import os\n",
    "import json\n",
    "import glob\n",
    "import csv\n",
    "json_files = [pos_json for pos_json in os.listdir(path_to_json) if pos_json.endswith('.json')]\n",
    "with open('BonusQuesdetails.csv', 'w',newline='',encoding='utf-8') as myfile:\n",
    "    wr = csv.writer(myfile, quoting=csv.QUOTE_ALL)\n",
    "    wr.writerow((\"Name Of Restaurant\",\"City\",\"Country Code\",\"Day of Week\",\"Start Time Hours\",\"Start Time Minutes\",\"End Time hours\",\"End Time Minutes\"))\n",
    "    for js in json_files:              # giving headers in above excel file \n",
    "        new_lst=[]\n",
    "        dayWeek=[]\n",
    "        with open(os.path.join(path_to_json, js)) as json_file:\n",
    "            json_txt =json.load(json_file)\n",
    "            if json_txt[\"term\"] == 'restaurants':\n",
    "                RName= json_txt[\"id\"]\n",
    "                city=  json_txt[\"location\"][\"city\"]\n",
    "                country=json_txt[\"location\"][\"country\"]\n",
    "                if 'hours' in json_txt:\n",
    "                    dayWeek=json_txt[\"hours\"]\n",
    "                    new = dayWeek[0][\"open\"]\n",
    "                    for i in new:\n",
    "                        starth = i[\"start\"][0:2]     # getting start time hours and minutes by slice\n",
    "                        startm = i[\"start\"][-2:]\n",
    "                        endh = i[\"end\"][0:2]          # getting end time hours and minutes \n",
    "                        endm = i[\"end\"][-2:]\n",
    "                        day = i[\"day\"]\n",
    "                        new_lst.append((RName,city,country,day,starth,startm,endh,endm))   # writing the data in csv file \n",
    "                    wr.writerows(new_lst) "
   ]
  }
 ],
 "metadata": {
  "anaconda-cloud": {},
  "kernelspec": {
   "display_name": "Python [conda root]",
   "language": "python",
   "name": "conda-root-py"
  },
  "language_info": {
   "codemirror_mode": {
    "name": "ipython",
    "version": 3
   },
   "file_extension": ".py",
   "mimetype": "text/x-python",
   "name": "python",
   "nbconvert_exporter": "python",
   "pygments_lexer": "ipython3",
   "version": "3.5.2"
  }
 },
 "nbformat": 4,
 "nbformat_minor": 1
}
