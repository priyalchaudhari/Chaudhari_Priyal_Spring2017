{
 "cells": [
  {
   "cell_type": "markdown",
   "metadata": {},
   "source": [
    "# Question 2 (Part 1)\n",
    "- Read all Json files in folder caleed Data and based on the data classify them in to folder structure. \n",
    "- Store the classification in folder data processed. "
   ]
  },
  {
   "cell_type": "code",
   "execution_count": 4,
   "metadata": {
    "collapsed": true
   },
   "outputs": [],
   "source": [
    "path_to_json = 'Data'"
   ]
  },
  {
   "cell_type": "markdown",
   "metadata": {},
   "source": [
    "- code for folder hirarchy creation. "
   ]
  },
  {
   "cell_type": "code",
   "execution_count": 6,
   "metadata": {
    "collapsed": false
   },
   "outputs": [],
   "source": [
    "import os\n",
    "import json\n",
    "import glob\n",
    "import shutil\n",
    "\n",
    "json_files = [pos_json for pos_json in os.listdir(path_to_json) if pos_json.endswith('.json')]  # reading the file from source\n",
    "for js in json_files:\n",
    "    with open(os.path.join(path_to_json, js)) as json_file:    # opening files one by one \n",
    "        json_txt =json.load(json_file)\n",
    "        term = json_txt[\"term\"]\n",
    "        newpath = (r'Data Processed\\%s' % (term))    # getting the category of file restaurant or hotel ot attraction \n",
    "        if not os.path.exists(newpath):\n",
    "            os.makedirs(newpath)                     # if path dosent exist creating a new path\n",
    "        country = json_txt[\"location\"][\"country\"]    # getting the country \n",
    "        newpath1 = (r'Data Processed\\%s\\%s' % (term,country))\n",
    "        if not os.path.exists(newpath1):             # creating a path for country\n",
    "            os.makedirs(newpath1)\n",
    "        state = json_txt[\"location\"][\"state\"]\n",
    "        newpath2 = (r'Data Processed\\%s\\%s\\%s' % (term,country,state))\n",
    "        if not os.path.exists(newpath2):              # creating  a path for state\n",
    "            os.makedirs(newpath2)\n",
    "        city = json_txt[\"location\"][\"city\"]\n",
    "        newpath3 = (r'Data Processed\\%s\\%s\\%s\\%s' % (term,country,state,city))\n",
    "        if not os.path.exists(newpath3):               # creating a path for city \n",
    "            os.makedirs(newpath3)\n",
    "        source_path = \"%s\\%s\" % (path_to_json,js)\n",
    "        shutil.copy(source_path,newpath3)           # copying file from source to destination folder \n",
    "        "
   ]
  }
 ],
 "metadata": {
  "anaconda-cloud": {},
  "kernelspec": {
   "display_name": "Python [conda root]",
   "language": "python",
   "name": "conda-root-py"
  },
  "language_info": {
   "codemirror_mode": {
    "name": "ipython",
    "version": 3
   },
   "file_extension": ".py",
   "mimetype": "text/x-python",
   "name": "python",
   "nbconvert_exporter": "python",
   "pygments_lexer": "ipython3",
   "version": "3.5.2"
  }
 },
 "nbformat": 4,
 "nbformat_minor": 1
}
