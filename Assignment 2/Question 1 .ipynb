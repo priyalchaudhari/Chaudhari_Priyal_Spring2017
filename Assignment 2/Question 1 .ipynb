{
 "cells": [
  {
   "cell_type": "markdown",
   "metadata": {},
   "source": [
    "# Question 1:\n",
    "- Learn about zipf's law\n",
    "- Pick any file or files in NLTK package \n",
    "- Prove if zipf's law work in natural language or not \n",
    "- Requirements:\n",
    "    - use glop to open and read file \n",
    "    - create at least one function and one lambda function \n",
    "    - save your data as csv file content(word, rank, frequency) with TITLE and sort it by rank \n",
    "    - open csv file and generate log-log fig according to data you saved \n",
    "    - write conclusion at the end based on your figure."
   ]
  },
  {
   "cell_type": "code",
   "execution_count": 1,
   "metadata": {
    "collapsed": true
   },
   "outputs": [],
   "source": [
    "import nltk"
   ]
  },
  {
   "cell_type": "code",
   "execution_count": 2,
   "metadata": {
    "collapsed": false
   },
   "outputs": [],
   "source": [
    "from nltk.corpus import gutenberg"
   ]
  },
  {
   "cell_type": "code",
   "execution_count": 3,
   "metadata": {
    "collapsed": true
   },
   "outputs": [],
   "source": [
    "import glob"
   ]
  },
  {
   "cell_type": "markdown",
   "metadata": {},
   "source": [
    "- Function for removing punctuation from the words."
   ]
  },
  {
   "cell_type": "code",
   "execution_count": 4,
   "metadata": {
    "collapsed": true
   },
   "outputs": [],
   "source": [
    "import string\n",
    "import re\n",
    "import operator\n",
    "import csv\n",
    "def removePunctuation(unclear):\n",
    "    filtered_words = [''.join(c for c in s if c not in string.punctuation) for s in unclear]\n",
    "    filtered_words = [s for s in filtered_words if s]\n",
    "    return filtered_words                       # After removing punctuation returning filtered words"
   ]
  },
  {
   "cell_type": "markdown",
   "metadata": {},
   "source": [
    "- Function for writing data in to CSV file. "
   ]
  },
  {
   "cell_type": "code",
   "execution_count": 5,
   "metadata": {
    "collapsed": false
   },
   "outputs": [],
   "source": [
    "import csv\n",
    "def csvOperation(sortedList):\n",
    "    with open('Frequency_Rank.csv', 'w',newline='') as myfile:\n",
    "        wr = csv.w\n",
    "        riter(myfile, quoting=csv.QUOTE_ALL)\n",
    "        wr.writerow((\"Word\",\"Rank\",\"Frequency\"))            # giving headers to the columns\n",
    "        for data in sortedList:\n",
    "            wr.writerow(data)                               # writing each data row by row"
   ]
  },
  {
   "cell_type": "markdown",
   "metadata": {},
   "source": [
    "- Code for calulating the frequency and assigning a rank "
   ]
  },
  {
   "cell_type": "code",
   "execution_count": 6,
   "metadata": {
    "collapsed": false
   },
   "outputs": [
    {
     "name": "stdout",
     "output_type": "stream",
     "text": [
      "sorted frequency list: \n",
      "  [('the', 125750), ('and', 78848), ('of', 70080), ('to', 46446), ('a', 32505), ('in', 31959), ('I', 30256), ('that', 27301), ('he', 22203), ('his', 20594)]\n"
     ]
    }
   ],
   "source": [
    "import string\n",
    "import re\n",
    "import operator\n",
    "import csv\n",
    "\n",
    "\n",
    "allnames = gutenberg.fileids()\n",
    "freq_dist={}\n",
    "for file in allnames:\n",
    "    filepath = gutenberg.abspath(file)\n",
    "    txt = glob.glob(filepath)                      # Opening each file using glob for reading the text \n",
    "    for textfile in txt:\n",
    "        unclear_words = list(gutenberg.words(textfile))\n",
    "        filtered = removePunctuation(unclear_words)\n",
    "        for word in filtered:\n",
    "            if word in freq_dist:\n",
    "                freq_dist[word] = freq_dist[word]+1    # creating a dist with word and its frequency\n",
    "            else:\n",
    "                freq_dist[word] = 1\n",
    "sorted_characters = sorted(freq_dist.items(), key=operator.itemgetter(1), reverse = True) # sorting the dict based on frequency\n",
    "print('sorted frequency list: \\n ',sorted_characters[:10])\n",
    "new_lst=[]\n",
    "rank=1\n",
    "for data in sorted_characters:\n",
    "    new_lst.append((data[0],rank,data[1]))                 # creating a new list and assigning a rank to word\n",
    "    rank_lamda = lambda rank:rank+1                         # incrimenting rank using lambda function\n",
    "    rank= rank_lamda(rank)\n",
    "csvOperation(new_lst)                                       # calling csv function for writing data in new list in to file"
   ]
  },
  {
   "cell_type": "markdown",
   "metadata": {},
   "source": [
    "- Function for plotting Log-Log graph"
   ]
  },
  {
   "cell_type": "code",
   "execution_count": 45,
   "metadata": {
    "collapsed": false
   },
   "outputs": [
    {
     "data": {
      "image/png": "[encoded data removed]",
      "text/plain": [
       "<matplotlib.figure.Figure at 0x283dd7cce80>"
      ]
     },
     "metadata": {},
     "output_type": "display_data"
    }
   ],
   "source": [
    "import csv\n",
    "import matplotlib.pyplot as plt\n",
    "import math\n",
    "def plotZipf(fileName):\n",
    "    #i=0\n",
    "    freq_list=[]\n",
    "    rank_list=[]\n",
    "    with open(fileName, 'r') as csvfile:\n",
    "        first=True\n",
    "        spamreader = csv.reader(csvfile, delimiter=',', quotechar='|')\n",
    "        for row in spamreader:                        # reading data from csv file \n",
    "            if first:\n",
    "                first=False\n",
    "                continue\n",
    "            r_data = float(row[1].strip('\"\"'))     # conveting a value in to float\n",
    "            rank = math.log(r_data)                # converting value in to log scale \n",
    "            f_data = row[2].strip('\"\"')\n",
    "            freq = math.log(float(f_data))\n",
    "            rank_list.append(rank)                # creating list for rank and freq_rank log values \n",
    "            freq_list.append(freq)\n",
    "    plt.plot(rank_list,freq_list)\n",
    "    plt.xlabel(\" Log(rank)\")                       # plottng the values on x and y axis\n",
    "    plt.ylabel(\"log(freq(r))\")\n",
    "    plt.title(\" lo(rank) vs log(freq(r))\")\n",
    "    plt.show()\n",
    "            \n",
    "plotZipf('Frequency_Rank.csv')"
   ]
  },
  {
   "cell_type": "markdown",
   "metadata": {},
   "source": [
    "# conclusion:\n",
    "- for given package gutenberg Zipf's law hols or works for natural language. \n",
    "- As seen in above figure we get a graph line of slope -1 . That is the indication that zipf's law works on gutenberg package \n",
    "- plotted a graph og log(rank) vs log(freq(rank))"
   ]
  }
 ],
 "metadata": {
  "anaconda-cloud": {},
  "kernelspec": {
   "display_name": "Python [conda root]",
   "language": "python",
   "name": "conda-root-py"
  },
  "language_info": {
   "codemirror_mode": {
    "name": "ipython",
    "version": 3
   },
   "file_extension": ".py",
   "mimetype": "text/x-python",
   "name": "python",
   "nbconvert_exporter": "python",
   "pygments_lexer": "ipython3",
   "version": "3.5.2"
  }
 },
 "nbformat": 4,
 "nbformat_minor": 1
}
